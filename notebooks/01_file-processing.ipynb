{
 "cells": [
  {
   "cell_type": "markdown",
   "metadata": {},
   "source": [
    "# PO-4"
   ]
  },
  {
   "cell_type": "markdown",
   "metadata": {},
   "source": [
    "Section 1: File processing"
   ]
  },
  {
   "cell_type": "markdown",
   "metadata": {},
   "source": [
    "* TO-DO: "
   ]
  },
  {
   "cell_type": "markdown",
   "metadata": {},
   "source": [
    "-----"
   ]
  },
  {
   "cell_type": "markdown",
   "metadata": {},
   "source": [
    "## Table of Contents"
   ]
  },
  {
   "cell_type": "markdown",
   "metadata": {},
   "source": [
    "* [1. Introduction](#introduction)\n",
    "    * [1.1 Description](#project-description)\n",
    "    * [1.2 Packages](#packages)\n",
    "        \n",
    " \n",
    "* [2. Data Loading](#data-loading)\n",
    "    * [2.1 Loading WT and KO initial files](#loading-wt-and-ko-initial-files)\n",
    "    * [2.2 Loading Uniprot reference proteome](#loading-uniprot-reference-proteome)\n",
    "    \n",
    "\n",
    "* [3. Data Preprocessing](#data-preprocessing)\n",
    "    * [3.1 Generating Kmers](#generating-kmers)\n",
    "    * [3.2 Processing peptide files](#processing-peptide-files)\n",
    "\n",
    "\n",
    "* [4. Data Exploration](#data-exploration)\n",
    "    * [4.1 Generating Kmers](#generating-kmers)\n",
    "    * [4.2 Processing peptide files](#processing-peptide-files)\n",
    "\n",
    "\n",
    "* [5. References](#references)\n",
    "\n",
    "* [6. Project contribution](#project-contribution)"
   ]
  },
  {
   "cell_type": "markdown",
   "metadata": {},
   "source": [
    "-----"
   ]
  },
  {
   "cell_type": "markdown",
   "metadata": {},
   "source": [
    "# 1. Introduction <a class=\"anchor\" id=\"introduction\"></a>"
   ]
  },
  {
   "cell_type": "markdown",
   "metadata": {},
   "source": [
    "## 1.1 Description <a class=\"anchor\" id=\"project-description\"></a>"
   ]
  },
  {
   "cell_type": "markdown",
   "metadata": {},
   "source": [
    "#### How can we define phosphoproteomics ? "
   ]
  },
  {
   "cell_type": "markdown",
   "metadata": {},
   "source": [
    "Phosphoproteomics is a branch of proteomics that identifies, catalogs, and characterizes proteins containing a phosphate group as a posttranslational modification. Phosphorylation is a key reversible modification that regulates protein function, subcellular localization, complex formation, degradation of proteins and therefore cell signaling networks. With all of these modification results, it is estimated that between 30%–65% of all proteins may be phosphorylated, some multiple times. Based on statistical estimates from many datasets, 230,000, 156,000 and 40,000 phosphorylation sites should exist in human, mouse, and yeast, respectively.\n",
    "\n",
    "Compared to expression analysis, phosphoproteomics provides two additional layers of information. First, it provides clues on what protein or pathway might be activated because a change in phosphorylation status almost always reflects a change in protein activity. Second, it indicates what proteins might be potential drug targets. While phosphoproteomics will greatly expand knowledge about the numbers and types of phosphoproteins, its greatest promise is the rapid analysis of entire phosphorylation based signalling networks."
   ]
  },
  {
   "cell_type": "markdown",
   "metadata": {},
   "source": [
    "Below, we are going to analyse Wild-type (WT) THP-1 against THP-1 Knockout (KO) Cell line"
   ]
  },
  {
   "cell_type": "markdown",
   "metadata": {},
   "source": [
    "Doubts to comment: \n",
    "- Are we going to allow accounting for duplicated 13-mers? There are a lot of duplicated peptides."
   ]
  },
  {
   "cell_type": "markdown",
   "metadata": {},
   "source": [
    "Some useful resources for the forthcoming analysis:\n",
    "\n",
    "- Motif analysis tools: https://molbiol-tools.ca/Motifs.htm\n",
    "- PTM code: https://ptmcode.embl.de/version1/index.cgi\n",
    "- MEME suite: http://meme-suite.org/tools/meme\n",
    "- NetPhos: http://www.cbs.dtu.dk/services/NetPhos/\n",
    "- Protein bioinformatics book.\n",
    "- ProtVista sequence viewer (PDB): https://wwwdev.ebi.ac.uk/pdbe/entry/pdb/3bow/protein/3"
   ]
  },
  {
   "cell_type": "markdown",
   "metadata": {},
   "source": [
    "First of all, we need to import some Python libraries"
   ]
  },
  {
   "cell_type": "markdown",
   "metadata": {},
   "source": [
    "## 1.2 Packages"
   ]
  },
  {
   "cell_type": "code",
   "execution_count": 2,
   "metadata": {},
   "outputs": [
    {
     "name": "stdout",
     "output_type": "stream",
     "text": [
      "Fernando Pozo \n",
      "last updated: Fri Sep 11 2020 16:48:29 CEST \n",
      "\n",
      "pandas 1.0.4\n",
      "numpy 1.18.5\n",
      "matplotlib 3.2.1\n",
      "Git hash: cefe14675e7c07123ef09f36d71551826a082e93\n",
      "/local/fpozoc/projects/dev/ph-proteomics/notebooks\n"
     ]
    }
   ],
   "source": [
    "import os, sys\n",
    "from math import log2\n",
    "import warnings\n",
    "\n",
    "import pandas as pd\n",
    "import numpy as np\n",
    "import matplotlib.pyplot as plt\n",
    "\n",
    "sys.path.append('../src/')\n",
    "from utils import * \n",
    "\n",
    "warnings.filterwarnings('ignore')\n",
    "pd.set_option(\"display.max_rows\", 100)\n",
    "pd.set_option(\"display.max_columns\", 100)\n",
    "\n",
    "%load_ext autoreload\n",
    "%autoreload 2\n",
    "\n",
    "%load_ext watermark\n",
    "%watermark -a 'Fernando Pozo' -u -n -t -z -g -p pandas,numpy,matplotlib\n",
    "\n",
    "!pwd"
   ]
  },
  {
   "cell_type": "markdown",
   "metadata": {},
   "source": [
    "-----"
   ]
  },
  {
   "cell_type": "markdown",
   "metadata": {},
   "source": [
    "# 2. Data Loading <a class=\"anchor\" id=\"data-loading\"></a>"
   ]
  },
  {
   "cell_type": "markdown",
   "metadata": {},
   "source": [
    "Loading data from original files"
   ]
  },
  {
   "cell_type": "markdown",
   "metadata": {},
   "source": [
    "## 2.1 Loading WT and KO initial files"
   ]
  },
  {
   "cell_type": "code",
   "execution_count": 3,
   "metadata": {
    "ExecuteTime": {
     "end_time": "2020-04-30T16:32:22.582142Z",
     "start_time": "2020-04-30T16:31:54.251206Z"
    }
   },
   "outputs": [],
   "source": [
    "df_wt = pd.read_excel('../data/external/files/September_2018_Julio_WT_TC_1-48_rep_replicate3_20180921s_with_LP.xlsx')\n",
    "df_ko = pd.read_excel('../data/external/files/Julio_KO_PO4_1-30_20170921_Final_PEPTIDE.xlsx')"
   ]
  },
  {
   "cell_type": "code",
   "execution_count": 18,
   "metadata": {},
   "outputs": [],
   "source": [
    "pwt = df_wt[['peptide', 'proteinName', 'ac', 'ptm', 'FTestQValue']]\n",
    "pwt.rename(columns={'FTestQValue': 'FTestQValueWT'}, inplace=True)\n",
    "\n",
    "pko = df_ko[['peptide', 'proteinName', 'ac', 'ptm', 'FTestQValue']]\n",
    "pko.rename(columns={'FTestQValue': 'FTestQValueKO'}, inplace=True)\n",
    "\n",
    "df_peptides = pd.merge(pwt,pko,how='inner', on=['peptide', 'proteinName', 'ac', 'ptm'])\n",
    "df_peptides['FTestQValueWTvsKO'] = df_peptides['FTestQValueKO'] - df_peptides['FTestQValueWT']\n",
    "# df_peptides = df_peptides.loc[\n",
    "#     (df_peptides['FTestQValueWT'] < 0.05) & (df_peptides['FTestQValueKO'] > 0.05) |\n",
    "#     (df_peptides['FTestQValueWT'] > 0.05) & (df_peptides['FTestQValueKO'] < 0.05)                             \n",
    "#                              ].reset_index(drop=True)\n",
    "df_peptides = df_peptides.loc[(df_peptides['FTestQValueWT'] < 0.05)]\n",
    "df_peptides = df_peptides.sort_values(by='FTestQValueWTvsKO', ascending=False)\n",
    "df_peptides.to_csv('../data/processed/ftestqvaluewtvsko.tsv.gz', sep='\\t', compression='gzip', index=None)"
   ]
  },
  {
   "cell_type": "code",
   "execution_count": 20,
   "metadata": {},
   "outputs": [
    {
     "data": {
      "text/html": [
       "<div>\n",
       "<style scoped>\n",
       "    .dataframe tbody tr th:only-of-type {\n",
       "        vertical-align: middle;\n",
       "    }\n",
       "\n",
       "    .dataframe tbody tr th {\n",
       "        vertical-align: top;\n",
       "    }\n",
       "\n",
       "    .dataframe thead th {\n",
       "        text-align: right;\n",
       "    }\n",
       "</style>\n",
       "<table border=\"1\" class=\"dataframe\">\n",
       "  <thead>\n",
       "    <tr style=\"text-align: right;\">\n",
       "      <th></th>\n",
       "      <th>peptide</th>\n",
       "      <th>proteinName</th>\n",
       "      <th>ac</th>\n",
       "      <th>ptm</th>\n",
       "      <th>FTestQValueWT</th>\n",
       "      <th>FTestQValueKO</th>\n",
       "      <th>FTestQValueWTvsKO</th>\n",
       "    </tr>\n",
       "  </thead>\n",
       "  <tbody>\n",
       "    <tr>\n",
       "      <th>1258</th>\n",
       "      <td>ALGSPTK</td>\n",
       "      <td>sp|Q9NR45|SIAS_HUMAN</td>\n",
       "      <td>Q9NR45</td>\n",
       "      <td>[4] Phospho (ST)</td>\n",
       "      <td>7.840138e-06</td>\n",
       "      <td>0.999840</td>\n",
       "      <td>0.999832</td>\n",
       "    </tr>\n",
       "    <tr>\n",
       "      <th>1779</th>\n",
       "      <td>GISPIVFDR</td>\n",
       "      <td>sp|Q96MU7|YTDC1_HUMAN</td>\n",
       "      <td>Q96MU7</td>\n",
       "      <td>[3] Phospho (ST)</td>\n",
       "      <td>1.007342e-04</td>\n",
       "      <td>0.999840</td>\n",
       "      <td>0.999740</td>\n",
       "    </tr>\n",
       "    <tr>\n",
       "      <th>847</th>\n",
       "      <td>RIDISPSTFR</td>\n",
       "      <td>sp|Q9Y2W1|TR150_HUMAN</td>\n",
       "      <td>Q9Y2W1</td>\n",
       "      <td>[5] Phospho (ST)</td>\n",
       "      <td>5.327072e-07</td>\n",
       "      <td>0.998900</td>\n",
       "      <td>0.998900</td>\n",
       "    </tr>\n",
       "    <tr>\n",
       "      <th>1257</th>\n",
       "      <td>TPSPKEEDEEPESPPEK</td>\n",
       "      <td>sp|Q9H1E3|NUCKS_HUMAN</td>\n",
       "      <td>Q9H1E3</td>\n",
       "      <td>[13] Phospho (ST)</td>\n",
       "      <td>7.770864e-06</td>\n",
       "      <td>0.998757</td>\n",
       "      <td>0.998749</td>\n",
       "    </tr>\n",
       "    <tr>\n",
       "      <th>2132</th>\n",
       "      <td>IDISPSTLR</td>\n",
       "      <td>sp|Q9NYF8|BCLF1_HUMAN</td>\n",
       "      <td>Q9NYF8</td>\n",
       "      <td>[4] Phospho (ST)</td>\n",
       "      <td>3.834320e-04</td>\n",
       "      <td>0.999042</td>\n",
       "      <td>0.998659</td>\n",
       "    </tr>\n",
       "  </tbody>\n",
       "</table>\n",
       "</div>"
      ],
      "text/plain": [
       "                peptide            proteinName      ac                ptm  \\\n",
       "1258            ALGSPTK   sp|Q9NR45|SIAS_HUMAN  Q9NR45   [4] Phospho (ST)   \n",
       "1779          GISPIVFDR  sp|Q96MU7|YTDC1_HUMAN  Q96MU7   [3] Phospho (ST)   \n",
       "847          RIDISPSTFR  sp|Q9Y2W1|TR150_HUMAN  Q9Y2W1   [5] Phospho (ST)   \n",
       "1257  TPSPKEEDEEPESPPEK  sp|Q9H1E3|NUCKS_HUMAN  Q9H1E3  [13] Phospho (ST)   \n",
       "2132          IDISPSTLR  sp|Q9NYF8|BCLF1_HUMAN  Q9NYF8   [4] Phospho (ST)   \n",
       "\n",
       "      FTestQValueWT  FTestQValueKO  FTestQValueWTvsKO  \n",
       "1258   7.840138e-06       0.999840           0.999832  \n",
       "1779   1.007342e-04       0.999840           0.999740  \n",
       "847    5.327072e-07       0.998900           0.998900  \n",
       "1257   7.770864e-06       0.998757           0.998749  \n",
       "2132   3.834320e-04       0.999042           0.998659  "
      ]
     },
     "execution_count": 20,
     "metadata": {},
     "output_type": "execute_result"
    }
   ],
   "source": [
    "df_peptides.head()"
   ]
  },
  {
   "cell_type": "code",
   "execution_count": 21,
   "metadata": {},
   "outputs": [],
   "source": [
    "# df_wt = pd.merge(df_wt, df_peptides[['peptide', 'proteinName', 'ac', 'ptm', 'FTestQValueWTvsKO']], on = ['peptide', 'proteinName', 'ac', 'ptm'], how='left')\n",
    "# df_ko = pd.merge(df_ko, df_peptides[['peptide', 'proteinName', 'ac', 'ptm', 'FTestQValueWTvsKO']], on = ['peptide', 'proteinName', 'ac', 'ptm'], how='left')"
   ]
  },
  {
   "cell_type": "code",
   "execution_count": 22,
   "metadata": {
    "ExecuteTime": {
     "end_time": "2020-04-30T16:33:19.875552Z",
     "start_time": "2020-04-30T16:33:19.854296Z"
    }
   },
   "outputs": [
    {
     "name": "stdout",
     "output_type": "stream",
     "text": [
      "There are 13556 wilt-type peptides.\n",
      "There are 10614 knock-out peptides.\n"
     ]
    }
   ],
   "source": [
    "print(f'There are {df_wt.shape[0]} wilt-type peptides.')\n",
    "print(f'There are {df_ko.shape[0]} knock-out peptides.')"
   ]
  },
  {
   "cell_type": "code",
   "execution_count": 23,
   "metadata": {},
   "outputs": [],
   "source": [
    "df_wt = df_wt[df_wt['FTestQValue']<0.05].reset_index(drop=True)\n",
    "df_ko = df_ko[df_ko['FTestQValue']<0.05].reset_index(drop=True)"
   ]
  },
  {
   "cell_type": "code",
   "execution_count": 24,
   "metadata": {},
   "outputs": [
    {
     "name": "stdout",
     "output_type": "stream",
     "text": [
      "Removing peptides with q-value lower than 0.05:\n",
      "\n",
      "There are 7152 wilt-type peptides.\n",
      "There are 2840 knock-out peptides.\n"
     ]
    }
   ],
   "source": [
    "print(f'Removing peptides with q-value lower than 0.05:\\n')\n",
    "print(f'There are {df_wt.shape[0]} wilt-type peptides.')\n",
    "print(f'There are {df_ko.shape[0]} knock-out peptides.')"
   ]
  },
  {
   "cell_type": "markdown",
   "metadata": {},
   "source": [
    "## 2.2 Loading [UniProt reference proteome](https://www.uniprot.org/proteomes/UP000005640)"
   ]
  },
  {
   "cell_type": "code",
   "execution_count": 25,
   "metadata": {
    "ExecuteTime": {
     "end_time": "2020-04-30T16:33:21.777229Z",
     "start_time": "2020-04-30T16:33:21.126377Z"
    }
   },
   "outputs": [
    {
     "name": "stdout",
     "output_type": "stream",
     "text": [
      "Fasta shape = (71607, 4)\n",
      "There are 71607 different proteins in this version.\n"
     ]
    }
   ],
   "source": [
    "df_fastas = load_fasta('../data/raw/uniprot/uniprot-proteome-3AUP000005640.txt')\n",
    "print(f'There are {df_fastas.shape[0]} different proteins in this version.')"
   ]
  },
  {
   "cell_type": "markdown",
   "metadata": {},
   "source": [
    "-----"
   ]
  },
  {
   "cell_type": "markdown",
   "metadata": {},
   "source": [
    "# 3. Data Preprocessing <a class=\"anchor\" id=\"data-preprocessing\"></a>"
   ]
  },
  {
   "cell_type": "markdown",
   "metadata": {},
   "source": [
    "We have preprocessed the data in order to create this pandas DataFrames:\n",
    "- `df_fastas`  contains protein sequences from Uniprot. Colnames -> *Index(['proteinName', 'proteinLen', 'proteinSeq'])*\n",
    "- `df_motifs` contains all the 13-mers (------S/T/Y------) found in the data set of Uniprot protein sequences. Colnames -> *Index(['proteinName', 'res', 'kmer_start', 'kmer_end', 'kmer'])*\n",
    "- `df_exptypes`: `wt` contains the wild-type peptides and `ko` contains the knock-out peptides from our experiment. Colnames -> *Index(['type', 'proteinName', 'geneName', 'n-ptm', 'res-ptm', 'proteinSeq-loc', 'proteinLen',  'peptide', 'kmer', 'proteinSeq'])*"
   ]
  },
  {
   "cell_type": "markdown",
   "metadata": {
    "ExecuteTime": {
     "end_time": "2020-04-30T16:34:40.742376Z",
     "start_time": "2020-04-30T16:33:30.289909Z"
    }
   },
   "source": [
    "## 3.1 Generating Kmers"
   ]
  },
  {
   "cell_type": "markdown",
   "metadata": {},
   "source": [
    "13-mers (------S/T/Y------) were generated centrally locating S(ser|serine) T(thr|threonine) and Y(tyr|tyrosine)"
   ]
  },
  {
   "cell_type": "code",
   "execution_count": 26,
   "metadata": {
    "ExecuteTime": {
     "end_time": "2020-04-30T16:34:41.603155Z",
     "start_time": "2020-04-30T16:34:40.994451Z"
    },
    "tags": [
     "outputPrepend"
    ]
   },
   "outputs": [],
   "source": [
    "motifs_s = generate_motifs(df=df_fastas, column='proteinSeq', aa='S')\n",
    "motifs_t = generate_motifs(df=df_fastas, column='proteinSeq', aa='T')\n",
    "motifs_y = generate_motifs(df=df_fastas, column='proteinSeq', aa='Y')\n",
    "df_motifs = pd.concat([motifs_s, motifs_t, motifs_y]).sort_values(by=['proteinName', 'kmer_start', 'kmer_end', 'res']).reset_index(drop=True)"
   ]
  },
  {
   "cell_type": "code",
   "execution_count": 27,
   "metadata": {},
   "outputs": [
    {
     "data": {
      "text/html": [
       "<div>\n",
       "<style scoped>\n",
       "    .dataframe tbody tr th:only-of-type {\n",
       "        vertical-align: middle;\n",
       "    }\n",
       "\n",
       "    .dataframe tbody tr th {\n",
       "        vertical-align: top;\n",
       "    }\n",
       "\n",
       "    .dataframe thead th {\n",
       "        text-align: right;\n",
       "    }\n",
       "</style>\n",
       "<table border=\"1\" class=\"dataframe\">\n",
       "  <thead>\n",
       "    <tr style=\"text-align: right;\">\n",
       "      <th></th>\n",
       "      <th>proteinName</th>\n",
       "      <th>res</th>\n",
       "      <th>kmer_start</th>\n",
       "      <th>kmer_end</th>\n",
       "      <th>kmer</th>\n",
       "    </tr>\n",
       "  </thead>\n",
       "  <tbody>\n",
       "    <tr>\n",
       "      <th>0</th>\n",
       "      <td>A0A024QYW1</td>\n",
       "      <td>S</td>\n",
       "      <td>15</td>\n",
       "      <td>28</td>\n",
       "      <td>NKLCLVSMDFCFP</td>\n",
       "    </tr>\n",
       "    <tr>\n",
       "      <th>1</th>\n",
       "      <td>A0A024QYW1</td>\n",
       "      <td>S</td>\n",
       "      <td>26</td>\n",
       "      <td>39</td>\n",
       "      <td>FPLDFVSNVFWIF</td>\n",
       "    </tr>\n",
       "    <tr>\n",
       "      <th>2</th>\n",
       "      <td>A0A024QYW1</td>\n",
       "      <td>S</td>\n",
       "      <td>34</td>\n",
       "      <td>47</td>\n",
       "      <td>VFWIFASKFIIVT</td>\n",
       "    </tr>\n",
       "  </tbody>\n",
       "</table>\n",
       "</div>"
      ],
      "text/plain": [
       "  proteinName res  kmer_start  kmer_end           kmer\n",
       "0  A0A024QYW1   S          15        28  NKLCLVSMDFCFP\n",
       "1  A0A024QYW1   S          26        39  FPLDFVSNVFWIF\n",
       "2  A0A024QYW1   S          34        47  VFWIFASKFIIVT"
      ]
     },
     "execution_count": 27,
     "metadata": {},
     "output_type": "execute_result"
    }
   ],
   "source": [
    "df_motifs.head(3)"
   ]
  },
  {
   "cell_type": "markdown",
   "metadata": {},
   "source": [
    "## 3.2 Processing peptide files"
   ]
  },
  {
   "cell_type": "markdown",
   "metadata": {},
   "source": [
    "We have applied 4 filters to quit motifs that are not interesting for our analysis, removing:\n",
    "- Motifs with FTestQvalue higher than 0.05.\n",
    "- Non-phospho (oxidation) motifs."
   ]
  },
  {
   "cell_type": "code",
   "execution_count": 29,
   "metadata": {},
   "outputs": [],
   "source": [
    "wt = process_peptides(df_wt, df_fastas, filetype='wt')\n",
    "ko = process_peptides(df_ko, df_fastas, filetype='ko')"
   ]
  },
  {
   "cell_type": "code",
   "execution_count": 75,
   "metadata": {},
   "outputs": [],
   "source": [
    "df_proportions = pd.concat([wt, ko]).reset_index(drop=True)\n",
    "df_proportions = df_proportions[~df_proportions.duplicated(['peptide', 'proteinName', 'ptm', 'kmer'])][['res-ptm', 'type']]\n",
    "df_proportions_wt = df_proportions.loc[df_proportions['type'] == 'wt']\n",
    "df_proportions_wt = (df_proportions_wt['res-ptm'].value_counts(normalize=True)*100).reset_index().rename(columns={'index':'PTM residue', 'res-ptm':'Motif category proportion (WT)'})\n",
    "df_proportions_ko = df_proportions.loc[df_proportions['type'] == 'ko']\n",
    "df_proportions_ko = (df_proportions_ko['res-ptm'].value_counts(normalize=True)*100).reset_index().rename(columns={'index': 'PTM residue', 'res-ptm':'Motif category proportion (KO)'})\n",
    "df_prop = pd.merge(df_proportions_wt, df_proportions_ko, how='outer', on='PTM residue').set_index('PTM residue')"
   ]
  },
  {
   "cell_type": "code",
   "execution_count": 83,
   "metadata": {},
   "outputs": [
    {
     "data": {
      "image/png": "[encoded data removed]",
      "text/plain": [
       "<Figure size 432x216 with 1 Axes>"
      ]
     },
     "metadata": {
      "needs_background": "light"
     },
     "output_type": "display_data"
    }
   ],
   "source": [
    "df_prop.plot.bar(rot=0, figsize=(6,3), colormap='tab20')\n",
    "plt.xlabel('')\n",
    "plt.ylabel('[%]')\n",
    "plt.title('Phosphorilated motif (13-mers) PTM')\n",
    "plt.savefig('../reports/figures/figure3B.png', bbox_inches='tight', dpi=360)"
   ]
  },
  {
   "cell_type": "markdown",
   "metadata": {},
   "source": [
    "Has to be removed?\n",
    "- Motifs that can't build a 13-mer. \n",
    "- Repeated phosphorilation sites"
   ]
  },
  {
   "cell_type": "code",
   "execution_count": 30,
   "metadata": {},
   "outputs": [
    {
     "name": "stdout",
     "output_type": "stream",
     "text": [
      "There are 8472 wild-type phosphorilation sites, with 2478 different proteins.\n",
      "There are 3208 knock-out phosphorilation sites, with 1398 different proteins.\n",
      "\n",
      "There are 1068 (12.606 %) repeated wild-type phosphorilation sites.\n",
      "There are 185 (5.7668 %) repeated knockout phosphorilation sites.\n"
     ]
    }
   ],
   "source": [
    "print(f\"There are {wt.shape[0]} wild-type phosphorilation sites, with {wt['proteinName'].nunique()} different proteins.\")\n",
    "print(f\"There are {ko.shape[0]} knock-out phosphorilation sites, with {ko['proteinName'].nunique()} different proteins.\")\n",
    "\n",
    "print(f\"\\nThere are {wt.duplicated(['peptide', 'proteinName', 'ptm', 'kmer']).sum()} ({round(wt.duplicated(['peptide', 'proteinName', 'ptm', 'kmer']).sum()/wt.shape[0], 5)*100} %) repeated wild-type phosphorilation sites.\")\n",
    "print(f\"There are {ko.duplicated(['peptide', 'proteinName', 'ptm', 'kmer']).sum()} ({round(ko.duplicated(['peptide', 'proteinName', 'ptm', 'kmer']).sum()/ko.shape[0], 6)*100} %) repeated knockout phosphorilation sites.\")"
   ]
  },
  {
   "cell_type": "markdown",
   "metadata": {},
   "source": [
    "#### Wild-type file sample 1"
   ]
  },
  {
   "cell_type": "code",
   "execution_count": 31,
   "metadata": {},
   "outputs": [
    {
     "data": {
      "text/plain": [
       "peptide                     APESPPSADPALVAGPAEEAECPPPRQPQPAQNVLAAPR\n",
       "proteinName                                                  Q6EEV4\n",
       "geneName                                                     POLR2M\n",
       "q-value                                                 5.75179e-22\n",
       "ptm                                                [4] Phospho (ST)\n",
       "p-loc                                                           0.5\n",
       "proteinLen                                                      148\n",
       "proteinSeq        MATPARAPESPPSADPALVAGPAEEAECPPPRQPQPAQNVLAAPRL...\n",
       "id                                            sp|Q6EEV4|GL1AD_HUMAN\n",
       "n-ptm                                                             4\n",
       "type-ptm                                                   Phospho \n",
       "aa-ptm                                                           ST\n",
       "res-ptm                                                           S\n",
       "proteinSeq-loc                                                   10\n",
       "kmer                                                  PARAPESPPSADP\n",
       "kmerLen                                                          13\n",
       "type                                                             wt\n",
       "Name: 0, dtype: object"
      ]
     },
     "execution_count": 31,
     "metadata": {},
     "output_type": "execute_result"
    }
   ],
   "source": [
    "wt.iloc[0]"
   ]
  },
  {
   "cell_type": "markdown",
   "metadata": {},
   "source": [
    "#### Knockout file sample 1"
   ]
  },
  {
   "cell_type": "code",
   "execution_count": 32,
   "metadata": {},
   "outputs": [
    {
     "data": {
      "text/plain": [
       "peptide                   AAAAAPASEDEDDEDDEDDEDDDDDEEDDSEEEAMETTPAK\n",
       "proteinName                                                  P19338\n",
       "geneName                                                        NCL\n",
       "q-value                                                  0.00389463\n",
       "ptm                                                [8] Phospho (ST)\n",
       "proteinLen                                                      710\n",
       "proteinSeq        MVKLAKAGKNQGDPKKMAPPPKEVEEDSEDEEMSEDEEDDSSGEEV...\n",
       "id                                             sp|P19338|NUCL_HUMAN\n",
       "n-ptm                                                             8\n",
       "type-ptm                                                   Phospho \n",
       "aa-ptm                                                           ST\n",
       "res-ptm                                                           S\n",
       "proteinSeq-loc                                                  184\n",
       "kmer                                                  AAAAPASEDEDDE\n",
       "kmerLen                                                          13\n",
       "type                                                             ko\n",
       "Name: 0, dtype: object"
      ]
     },
     "execution_count": 32,
     "metadata": {},
     "output_type": "execute_result"
    }
   ],
   "source": [
    "ko.iloc[0]"
   ]
  },
  {
   "cell_type": "markdown",
   "metadata": {},
   "source": [
    "Finally, files of experimental phosphopeptides will be merged:"
   ]
  },
  {
   "cell_type": "code",
   "execution_count": 34,
   "metadata": {},
   "outputs": [],
   "source": [
    "df_exptypes = pd.concat([wt, ko])\n",
    "df_exptypes = df_exptypes[df_exptypes['kmer'].str.len() == 13].reset_index(drop=True)\n",
    "df_exptypes = df_exptypes[['type', 'proteinName', 'geneName', 'n-ptm', 'res-ptm', 'proteinSeq-loc', 'proteinLen',  'peptide', 'ptm', 'kmer', 'proteinSeq']]"
   ]
  },
  {
   "cell_type": "markdown",
   "metadata": {},
   "source": [
    "Exporting dataframes"
   ]
  },
  {
   "cell_type": "code",
   "execution_count": 35,
   "metadata": {},
   "outputs": [],
   "source": [
    "df_exptypes.to_csv('../data/interim/preprocessed_peptides.tsv.gz', compression='gzip', sep='\\t', index=None)\n",
    "df_motifs.to_csv('../data/interim/sty.13mers.3AUP000005640.tsv.gz', compression='gzip', sep='\\t', index=None)"
   ]
  },
  {
   "cell_type": "markdown",
   "metadata": {},
   "source": [
    "-----"
   ]
  },
  {
   "cell_type": "markdown",
   "metadata": {},
   "source": [
    "# 4. Data Exploration <a class=\"anchor\" id=\"data-exploration\"></a>"
   ]
  },
  {
   "cell_type": "markdown",
   "metadata": {},
   "source": [
    "First step to explore properly the data was to merge both `df_motifs` (all the 13(s|t|y)-mers found in proteome) with `df_exptypes` (all the experimental peptides selected to analyse)"
   ]
  },
  {
   "cell_type": "code",
   "execution_count": null,
   "metadata": {},
   "outputs": [],
   "source": [
    "df_all = pd.merge(df_motifs, df_exptypes[['proteinName', 'kmer', 'type']], how='left', on=['proteinName', 'kmer'])\n",
    "# df_all = df_all.drop_duplicates(['proteinName', 'kmer_start', 'kmer_end', 'kmer'])"
   ]
  },
  {
   "cell_type": "code",
   "execution_count": null,
   "metadata": {},
   "outputs": [],
   "source": [
    "df_all"
   ]
  },
  {
   "cell_type": "markdown",
   "metadata": {},
   "source": [
    "## 4.1 Phosphorilated and non-phosphorilated motifs coverage per 13-mer position"
   ]
  },
  {
   "cell_type": "markdown",
   "metadata": {},
   "source": [
    "To calculate the non-phosphorilated motif coverage of the human proteome, first we need to generate motifs from fasta sequences database with `generate_motifs` function. Then, `pandas merge` has left joined the amount of motifs with wild-type (wt) or knockout (ko) motifs in order to removed them, constructing a database with only non-phosphorilated motifs. Finally, the `string_counts` function has created a database with `pandas value_counts` accounting for every amino-acid in every position of the 13-mer."
   ]
  },
  {
   "cell_type": "code",
   "execution_count": null,
   "metadata": {},
   "outputs": [],
   "source": [
    "s_nbackground = string_counts(df=df_all[df_all['res'] == 'S'], col='kmer').drop(6, axis=1).sum(axis=1)\n",
    "s_background = (s_nbackground/s_nbackground.sum()*100).round(2)\n",
    "\n",
    "t_nbackground = string_counts(df=df_all[df_all['res'] == 'T'], col='kmer').drop(6, axis=1).sum(axis=1)\n",
    "t_background = (t_nbackground/t_nbackground.sum()*100).round(2)\n",
    "\n",
    "y_nbackground = string_counts(df=df_all[df_all['res'] == 'Y'], col='kmer').drop(6, axis=1).sum(axis=1)\n",
    "y_background = (y_nbackground/y_nbackground.sum()*100).round(2)"
   ]
  },
  {
   "cell_type": "code",
   "execution_count": null,
   "metadata": {},
   "outputs": [],
   "source": [
    "s_background = (s_nbackground/s_nbackground.sum()*100).round(2)\n",
    "t_background = (t_nbackground/t_nbackground.sum()*100).round(2)\n",
    "y_background = (y_nbackground/y_nbackground.sum()*100).round(2)"
   ]
  },
  {
   "cell_type": "code",
   "execution_count": null,
   "metadata": {
    "ExecuteTime": {
     "end_time": "2020-04-01T15:53:32.447884Z",
     "start_time": "2020-04-01T15:52:11.048879Z"
    }
   },
   "outputs": [],
   "source": [
    "# for wt\n",
    "df_p_wt_s = string_counts(df= df_all[df_all['type'].str.contains('wt', na=False)][df_all['res'] == 'S'], col='kmer')\n",
    "df_p_wt_t = string_counts(df= df_all[df_all['type'].str.contains('wt', na=False)][df_all['res'] == 'T'], col='kmer')\n",
    "df_p_wt_y = string_counts(df= df_all[df_all['type'].str.contains('wt', na=False)][df_all['res'] == 'Y'], col='kmer')\n",
    "\n",
    "df_np_wt_s = string_counts(df=df_all[~df_all['type'].str.contains('wt', na=False)][df_all['res'] == 'S'], col='kmer')\n",
    "df_np_wt_t = string_counts(df=df_all[~df_all['type'].str.contains('wt', na=False)][df_all['res'] == 'T'], col='kmer')\n",
    "df_np_wt_y = string_counts(df=df_all[~df_all['type'].str.contains('wt', na=False)][df_all['res'] == 'Y'], col='kmer')\n",
    "\n",
    "# for ko\n",
    "df_p_ko_s = string_counts(df=df_all[df_all['type'].str.contains('ko', na=False)][df_all['res'] == 'S'], col='kmer')\n",
    "df_p_ko_t = string_counts(df=df_all[df_all['type'].str.contains('ko', na=False)][df_all['res'] == 'T'], col='kmer')\n",
    "df_p_ko_y = string_counts(df=df_all[df_all['type'].str.contains('ko', na=False)][df_all['res'] == 'Y'], col='kmer')\n",
    "\n",
    "df_np_ko_s = string_counts(df=df_all[~df_all['type'].str.contains('ko', na=False)][df_all['res'] == 'S'], col='kmer')\n",
    "df_np_ko_t = string_counts(df=df_all[~df_all['type'].str.contains('ko', na=False)][df_all['res'] == 'T'], col='kmer')\n",
    "df_np_ko_y = string_counts(df=df_all[~df_all['type'].str.contains('ko', na=False)][df_all['res'] == 'Y'], col='kmer')"
   ]
  },
  {
   "cell_type": "markdown",
   "metadata": {},
   "source": [
    "## 4.2 Log Fold Change "
   ]
  },
  {
   "cell_type": "markdown",
   "metadata": {},
   "source": [
    "Fold change is calculated as the ratio of the difference between final value and the initial value over the original value.\n",
    "\n",
    "Calculating the Log (2 or 10) Fold change between phosphorilated (case) and non-phosphorilated (control) motifs."
   ]
  },
  {
   "cell_type": "code",
   "execution_count": null,
   "metadata": {
    "ExecuteTime": {
     "end_time": "2020-04-01T15:54:52.214501Z",
     "start_time": "2020-04-01T15:54:52.094793Z"
    }
   },
   "outputs": [],
   "source": [
    "# log 10 fold changes\n",
    "# for wt\n",
    "lfc_wt_s = (np.log10(get_percentages(df_p_wt_s, axis_count='column'))-np.log10(get_percentages(df_np_wt_s, axis_count='column'))).fillna(0)\n",
    "lfc_wt_t = (np.log10(get_percentages(df_p_wt_t, axis_count='column'))-np.log10(get_percentages(df_np_wt_t, axis_count='column'))).fillna(0)\n",
    "lfc_wt_y = (np.log10(get_percentages(df_p_wt_y, axis_count='column'))-np.log10(get_percentages(df_np_wt_y, axis_count='column'))).fillna(0)\n",
    "\n",
    "# for ko\n",
    "lfc_ko_s = (np.log10(get_percentages(df_p_ko_s, axis_count='column'))-np.log10(get_percentages(df_np_ko_s, axis_count='column'))).fillna(0)\n",
    "lfc_ko_t = (np.log10(get_percentages(df_p_ko_t, axis_count='column'))-np.log10(get_percentages(df_np_ko_t, axis_count='column'))).fillna(0)\n",
    "lfc_ko_y = (np.log10(get_percentages(df_p_ko_y, axis_count='column'))-np.log10(get_percentages(df_np_ko_y, axis_count='column'))).fillna(0)"
   ]
  },
  {
   "cell_type": "markdown",
   "metadata": {},
   "source": [
    "-----"
   ]
  },
  {
   "cell_type": "markdown",
   "metadata": {},
   "source": [
    "# 5. Data Visualization <a class=\"anchor\" id=\"data-visualization\"></a>"
   ]
  },
  {
   "cell_type": "markdown",
   "metadata": {},
   "source": [
    "### Phosphorylation site analysis for wild-type peptides"
   ]
  },
  {
   "cell_type": "code",
   "execution_count": null,
   "metadata": {},
   "outputs": [],
   "source": [
    "plot_heatmaps(lfc_wt_s, lfc_wt_t, lfc_wt_y, title='Phosphorylation site analysis for wild-type 13-mers')"
   ]
  },
  {
   "cell_type": "markdown",
   "metadata": {},
   "source": [
    "### Phosphorylation site analysis for wild-type peptides"
   ]
  },
  {
   "cell_type": "code",
   "execution_count": null,
   "metadata": {},
   "outputs": [],
   "source": [
    "plot_heatmaps(lfc_ko_s, lfc_ko_t, lfc_ko_y, title='Phosphorylation site analysis for knock-out 13-mers')"
   ]
  },
  {
   "cell_type": "code",
   "execution_count": null,
   "metadata": {
    "ExecuteTime": {
     "end_time": "2020-04-01T15:58:25.760713Z",
     "start_time": "2020-04-01T15:58:25.617489Z"
    }
   },
   "outputs": [],
   "source": [
    "pandas_vis(lfc_wt_s)"
   ]
  },
  {
   "cell_type": "markdown",
   "metadata": {},
   "source": [
    "---"
   ]
  },
  {
   "cell_type": "markdown",
   "metadata": {},
   "source": [
    "# Sequences logos"
   ]
  },
  {
   "cell_type": "code",
   "execution_count": 41,
   "metadata": {},
   "outputs": [],
   "source": [
    "def write_seqs(df, path):\n",
    "    with open(path, 'w') as file:\n",
    "        file.writelines([f\"{fseq}\\n\" for fseq in df.kmer])   "
   ]
  },
  {
   "cell_type": "code",
   "execution_count": 39,
   "metadata": {},
   "outputs": [],
   "source": [
    "df_exptypes_logos = df_exptypes.drop_duplicates(['peptide', 'proteinName', 'n-ptm', 'kmer'])"
   ]
  },
  {
   "cell_type": "code",
   "execution_count": 45,
   "metadata": {},
   "outputs": [],
   "source": [
    "df_exptypes_logos_wt_s = df_exptypes[df_exptypes['type'] == 'wt'][df_exptypes['res-ptm'] == 'S']\n",
    "df_exptypes_logos_wt_t = df_exptypes[df_exptypes['type'] == 'wt'][df_exptypes['res-ptm'] == 'T']\n",
    "df_exptypes_logos_wt_y = df_exptypes[df_exptypes['type'] == 'wt'][df_exptypes['res-ptm'] == 'Y']\n",
    "df_exptypes_logos_ko_s = df_exptypes[df_exptypes['type'] == 'ko'][df_exptypes['res-ptm'] == 'S']\n",
    "df_exptypes_logos_ko_t = df_exptypes[df_exptypes['type'] == 'ko'][df_exptypes['res-ptm'] == 'T']\n",
    "df_exptypes_logos_ko_y = df_exptypes[df_exptypes['type'] == 'ko'][df_exptypes['res-ptm'] == 'Y']\n",
    "\n",
    "write_seqs(df_exptypes_logos_wt_s, '../data/interim/sequence_logo/wt_s.txt')\n",
    "write_seqs(df_exptypes_logos_wt_t, '../data/interim/sequence_logo/wt_t.txt')\n",
    "write_seqs(df_exptypes_logos_wt_y, '../data/interim/sequence_logo/wt_y.txt')\n",
    "write_seqs(df_exptypes_logos_ko_s, '../data/interim/sequence_logo/ko_s.txt')\n",
    "write_seqs(df_exptypes_logos_ko_t, '../data/interim/sequence_logo/ko_t.txt')\n",
    "write_seqs(df_exptypes_logos_ko_y, '../data/interim/sequence_logo/ko_y.txt')"
   ]
  },
  {
   "cell_type": "markdown",
   "metadata": {},
   "source": [
    "- `df_structural` contains the secondary structure and disorder regions. Data has been collected from Uniprot (only entries with PDB structure available) and DisProt. Colnames -> *Index(['proteinName', 'secondary_structure', 'disorder'])*"
   ]
  },
  {
   "cell_type": "code",
   "execution_count": 20,
   "metadata": {
    "ExecuteTime": {
     "end_time": "2020-04-30T16:33:30.103151Z",
     "start_time": "2020-04-30T16:33:25.829287Z"
    }
   },
   "outputs": [],
   "source": [
    "## Disprot db\n",
    "## https://www.disprot.org/api/search?release=current&show_ambiguous=false&show_obsolete=false&format=tsv&namespace=all&get_consensus=false\n",
    "df_disprot = pd.read_csv('../data/raw/disprot/disprotdb_092019.tsv', sep='\\t')\n",
    "\n",
    "## Uniprot human proteins with Secondary Structure\n",
    "## https://www.uniprot.org/uniprot/?query=organism%3A%22Homo+sapiens+%28Human%29+%5B9606%5D%22+annotation%3A%28type%3Asecstruct%29&sort=score#\n",
    "## zcat uniprot-pdb-human.gff.gz  | rg  --invert-match \"##\" | cut -f1,3,4,5 | rg \"Helix|Turn|Beta\"> uniprot-pdb.tsv\n",
    "df_uniprot_pdb = pd.read_csv('../data/raw/uniprot/uniprot-pdb.tsv', sep='\\t', names = ['proteinName', 'ss', 'start', 'end'])\n",
    "\n",
    "len(df_uniprot_pdb.proteinName.unique())\n",
    "\n",
    "df_ss = secondary_structure(df_uniprot_pdb, df_fastas)\n",
    "df_disprot = df_disprot[df_disprot['term_namespace'] == 'Structural state']\n",
    "df_disprot = df_disprot.drop_duplicates('acc').reset_index(drop=True)\n",
    "df_disorder = df_disprot[df_disprot['organism'] == 'Homo sapiens']\n",
    "df_disprot = df_disprot[['acc', 'start', 'end', 'region_sequence']].rename(columns={'acc': 'proteinName'})\n",
    "df_disprot['proteinName'] = df_disprot['proteinName'].str.split('-').str[0]\n",
    "df_disorder = disorder_structure(df_disprot, df_fastas)\n",
    "df_structural = pd.merge(df_ss, df_disorder, on='proteinName', how='outer')\n",
    "\n",
    "df_all = merge_dfs(df_motifs, df_exptypes, df_structural)\n",
    "df_all.to_csv('../data/interim/all_motifs.tsv.gz', compression='gzip', sep='\\t', index=None)\n",
    "\n",
    "proteins_known_ss = df_all.loc[~df_all['secondary_structure'].isnull()].loc[~df_all['type'].isnull()].drop_duplicates('proteinName')['proteinName'].to_list()\n",
    "proteins_known_dis = df_all.loc[~df_all['disorder'].isnull()].loc[~df_all['type'].isnull()].drop_duplicates('proteinName')['proteinName'].to_list()\n",
    "\n",
    "## First, follow the instructions of the tutorial\n",
    "## MASSIVE SUBMISSION TUTORIAL: https://github.com/fabianegli/JPred-big-batch-submission\n",
    "## JPRED TUTORIAL: http://www.compbio.dundee.ac.uk/jpred4/api.shtml\n",
    "## DOWNLOAD JPRED API: wget http://www.compbio.dundee.ac.uk/jpred4/downloads/jpredapi.tar.gz\n",
    "\n",
    "df_protein_ids = pd.concat([df_wt, df_ko], axis=0).drop_duplicates(\n",
    "    subset='ac').ac.reset_index()[['ac']].rename(columns={'ac': 'proteinName'})\n",
    "\n",
    "df_ph_proteins = pd.merge(df_protein_ids, df_fastas, how='left', on='proteinName')\n",
    "df_ph_proteins = df_ph_proteins[~df_ph_proteins['proteinSeq'].isnull()].reset_index(drop=True)\n",
    "\n",
    "with open(f\"/media/hdd1/fpozoc/projects/jpred/ph-fastas/ids.txt\", \"w\") as textfile:\n",
    "    textfile.writelines(str(name) + '\\n' for name in df_ph_proteins.proteinName)\n",
    "    \n",
    "for i in range(0, df_ph_proteins.shape[0]):\n",
    "    with open(f\"/media/hdd1/fpozoc/projects/jpred/ph-fastas/files/{df_ph_proteins['proteinName'][i]}.fasta\", \"w\") as textfile:\n",
    "        textfile.writelines('>' + str(df_ph_proteins['id'][i]) + '\\n' + str(df_ph_proteins['proteinSeq'][i]) + '\\n')\n",
    "        \n",
    "with open(f\"/media/hdd1/fpozoc/projects/jpred/ph-fastas/ph-proteins.fa\", \"w\") as textfile:\n",
    "    textfile.writelines('>' + str(pname) + '\\n' + str(seq) + '\\n' for pname, seq in zip(df_ph_proteins.proteinName, df_ph_proteins.proteinSeq)) \n",
    "\n",
    "df_ss_counts_wt = secondary_structure_counter(df_all[df_all['type'].str.contains('wt', na=False)][~df_all['secondary_structure'].isnull()], 'wt')\n",
    "df_ss_counts_ko = secondary_structure_counter(df_all[df_all['type'].str.contains('ko', na=False)][~df_all['secondary_structure'].isnull()], 'ko')\n",
    "df_ss_counts_nowt = secondary_structure_counter(df_all[~df_all['type'].str.contains('wt', na=False)][~df_all['secondary_structure'].isnull()], 'non_phospho_wt')\n",
    "df_ss_counts_noko = secondary_structure_counter(df_all[~df_all['type'].str.contains('ko', na=False)][~df_all['secondary_structure'].isnull()], 'non_phospho_ko')\n",
    "df_structural_counts = pd.concat([df_ss_counts_wt, df_ss_counts_ko, df_ss_counts_nowt, df_ss_counts_noko], axis=1)\n",
    "\n",
    "df_dis_counts_wt = disorder_counter(df_all[df_all['type'].str.contains('wt', na=False)][~df_all['disorder'].isnull()], 'wt')\n",
    "df_dis_counts_ko = disorder_counter(df_all[df_all['type'].str.contains('ko', na=False)][~df_all['disorder'].isnull()], 'ko')\n",
    "df_dis_counts_nowt = disorder_counter(df_all[~df_all['type'].str.contains('wt', na=False)][~df_all['disorder'].isnull()], 'non_phospho_wt')\n",
    "df_dis_counts_noko = disorder_counter(df_all[~df_all['type'].str.contains('ko', na=False)][~df_all['disorder'].isnull()], 'non_phospho_ko')\n",
    "df_disorder_counts = pd.concat([df_dis_counts_wt, df_dis_counts_ko, df_dis_counts_nowt, df_dis_counts_noko], axis=1)"
   ]
  },
  {
   "cell_type": "markdown",
   "metadata": {},
   "source": [
    "# 7. References <a class=\"anchor\" id=\"references\"></a>"
   ]
  },
  {
   "cell_type": "markdown",
   "metadata": {},
   "source": [
    "- Treeck, M, Sanders, JL, Elias, JE, Boothroyd, JC (2011). The phosphoproteomes of Plasmodium falciparum and Toxoplasma gondii reveal unusual adaptations within and beyond the parasites' boundaries. Cell Host Microbe, 10, 4:410-9.\n",
    "- Amanchy, R, Kandasamy, K, Mathivanan, S, Periaswamy, B, Reddy, R, Yoon, WH, Joore, J, Beer, MA, Cope, L, Pandey, A (2011). Identification of Novel Phosphorylation Motifs Through an Integrative Computational and Experimental Analysis of the Human Phosphoproteome. J Proteomics Bioinform, 4, 2:22-35."
   ]
  },
  {
   "cell_type": "markdown",
   "metadata": {},
   "source": [
    "# 8. Project contribution <a class=\"anchor\" id=\"project-contribution\"></a>"
   ]
  },
  {
   "cell_type": "markdown",
   "metadata": {},
   "source": [
    "**Author information**:\n",
    "Fernando Pozo ([@fpozoc](https://gitlab.com/fpozoc))\n",
    "\n",
    "You can find the data driven project jupyter notebook template [here](https://gitlab.com/fpozoc/data-driven-project-template/-/blob/master/notebooks/1.0-nb_template.ipynb)."
   ]
  }
 ],
 "metadata": {
  "kernelspec": {
   "display_name": "Python 3",
   "language": "python",
   "name": "python3"
  },
  "language_info": {
   "codemirror_mode": {
    "name": "ipython",
    "version": 3
   },
   "file_extension": ".py",
   "mimetype": "text/x-python",
   "name": "python",
   "nbconvert_exporter": "python",
   "pygments_lexer": "ipython3",
   "version": "3.7.10"
  },
  "varInspector": {
   "cols": {
    "lenName": 16,
    "lenType": 16,
    "lenVar": 40
   },
   "kernels_config": {
    "python": {
     "delete_cmd_postfix": "",
     "delete_cmd_prefix": "del ",
     "library": "var_list.py",
     "varRefreshCmd": "print(var_dic_list())"
    },
    "r": {
     "delete_cmd_postfix": ") ",
     "delete_cmd_prefix": "rm(",
     "library": "var_list.r",
     "varRefreshCmd": "cat(var_dic_list()) "
    }
   },
   "types_to_exclude": [
    "module",
    "function",
    "builtin_function_or_method",
    "instance",
    "_Feature"
   ],
   "window_display": false
  }
 },
 "nbformat": 4,
 "nbformat_minor": 4
}
