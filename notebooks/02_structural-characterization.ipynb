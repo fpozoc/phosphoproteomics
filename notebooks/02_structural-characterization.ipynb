{
 "cells": [
  {
   "cell_type": "markdown",
   "metadata": {},
   "source": [
    "# PO-4"
   ]
  },
  {
   "cell_type": "markdown",
   "metadata": {},
   "source": [
    "Section 2: Structural characterization of phosphorylation sites: analysis of the region, secondary structure and accessibility of the phospho-S/T/Y peptides"
   ]
  },
  {
   "cell_type": "markdown",
   "metadata": {},
   "source": [
    "* TO-DO Run PfamScan to proteins"
   ]
  },
  {
   "cell_type": "markdown",
   "metadata": {},
   "source": [
    "## Table of Contents"
   ]
  },
  {
   "cell_type": "markdown",
   "metadata": {},
   "source": [
    "* [1. Introduction](#introduction)\n",
    "    * [1.1 Description](#project-description)\n",
    "    * [1.2 Packages](#packages)\n",
    "        \n",
    " \n",
    "* [2. Data Loading](#data-loading)\n",
    "    * [2.1 Loading secondary structure predictions](#loading-wt-and-ko-initial-files)\n",
    "    * [2.2 Loading Uniprot reference proteome](#loading-uniprot-reference-proteome)\n",
    "    \n",
    "\n",
    "* [3. Data Preprocessing](#data-preprocessing)\n",
    "    * [3.1 Generating Kmers](#generating-kmers)\n",
    "    * [3.2 Processing peptide files](#processing-peptide-files)\n",
    "\n",
    "\n",
    "* [4. Data Exploration](#data-exploration)\n",
    "    * [4.1 Generating Kmers](#generating-kmers)\n",
    "    * [4.2 Processing peptide files](#processing-peptide-files)\n",
    "\n",
    "\n",
    "* [5. References](#references)\n",
    "\n",
    "* [6. Project contribution](#project-contribution)"
   ]
  },
  {
   "cell_type": "markdown",
   "metadata": {},
   "source": [
    "## 1.1 Description <a class=\"anchor\" id=\"description\"></a>"
   ]
  },
  {
   "cell_type": "markdown",
   "metadata": {},
   "source": []
  },
  {
   "cell_type": "markdown",
   "metadata": {},
   "source": [
    "## 1.2 Packages"
   ]
  },
  {
   "cell_type": "code",
   "execution_count": 1,
   "metadata": {
    "ExecuteTime": {
     "end_time": "2020-04-16T15:57:28.449870Z",
     "start_time": "2020-04-16T15:57:28.446211Z"
    }
   },
   "outputs": [
    {
     "name": "stdout",
     "output_type": "stream",
     "text": [
      "Fernando Pozo \n",
      "last updated: Fri Sep 11 2020 11:52:37 CEST \n",
      "\n",
      "pandas 1.0.4\n",
      "numpy 1.18.5\n",
      "matplotlib 3.2.1\n",
      "Git hash: cefe14675e7c07123ef09f36d71551826a082e93\n",
      "/local/fpozoc/projects/dev/ph-proteomics/notebooks\n"
     ]
    }
   ],
   "source": [
    "import glob, os, sys\n",
    "import warnings\n",
    "\n",
    "import pandas as pd\n",
    "import numpy as np\n",
    "\n",
    "import matplotlib.pyplot as plt\n",
    "from matplotlib import rc\n",
    "\n",
    "sys.path.append('../src/')\n",
    "from utils import *\n",
    "\n",
    "pd.set_option(\"display.max_rows\", 100)\n",
    "pd.set_option(\"display.max_columns\", 100)\n",
    "\n",
    "warnings.filterwarnings('ignore')\n",
    "\n",
    "%load_ext autoreload\n",
    "%autoreload 2\n",
    "\n",
    "%load_ext watermark\n",
    "%watermark -a 'Fernando Pozo' -u -n -t -z -g -p pandas,numpy,matplotlib\n",
    "\n",
    "!pwd"
   ]
  },
  {
   "cell_type": "code",
   "execution_count": 2,
   "metadata": {},
   "outputs": [],
   "source": [
    "df_ss_pred = pd.concat([parse_ss_features(file) for file in glob.glob('/local/fpozoc/projects/dev/ph-proteomics/data/external/secondary_structure_predictions/*/*.csv')]).reset_index(drop=True)"
   ]
  },
  {
   "cell_type": "code",
   "execution_count": 9,
   "metadata": {},
   "outputs": [],
   "source": [
    "list_manual_pred_ids = ['Q8IZP0', 'P15056', 'O75362', 'Q9NQ86', 'Q9BSQ5', 'Q04726', 'Q9Y6Y8']\n",
    "df_ss_pred.loc[df_ss_pred.id.str.contains('|'.join(list_manual_pred_ids)), 'proteinName'] = df_ss_pred['id'].str.split('_').str[1]\n",
    "df_ss_pred.loc[~df_ss_pred.id.str.contains('|'.join(list_manual_pred_ids)), 'proteinName'] = df_ss_pred['id'].str.split('|').str[1]"
   ]
  },
  {
   "cell_type": "code",
   "execution_count": 10,
   "metadata": {},
   "outputs": [
    {
     "data": {
      "text/html": [
       "<div>\n",
       "<style scoped>\n",
       "    .dataframe tbody tr th:only-of-type {\n",
       "        vertical-align: middle;\n",
       "    }\n",
       "\n",
       "    .dataframe tbody tr th {\n",
       "        vertical-align: top;\n",
       "    }\n",
       "\n",
       "    .dataframe thead th {\n",
       "        text-align: right;\n",
       "    }\n",
       "</style>\n",
       "<table border=\"1\" class=\"dataframe\">\n",
       "  <thead>\n",
       "    <tr style=\"text-align: right;\">\n",
       "      <th></th>\n",
       "      <th>id</th>\n",
       "      <th>seq</th>\n",
       "      <th>len</th>\n",
       "      <th>rsa</th>\n",
       "      <th>ss3</th>\n",
       "      <th>p_ss3</th>\n",
       "      <th>ss8</th>\n",
       "      <th>p_ss8</th>\n",
       "      <th>dis</th>\n",
       "      <th>proteinName</th>\n",
       "    </tr>\n",
       "  </thead>\n",
       "  <tbody>\n",
       "    <tr>\n",
       "      <th>0</th>\n",
       "      <td>sp|Q15717|ELAV1_HUMAN</td>\n",
       "      <td>MSNGYEDHMAEDCRGDIGRTNLIVNYLPQNMTQDELRSLFSSIGEV...</td>\n",
       "      <td>326</td>\n",
       "      <td>9998777766764656455220102301581447404620571261...</td>\n",
       "      <td>CCCCCCCCCCCCCCCCCCCCEEEEECCCCCCCHHHHHHHHCCCCCE...</td>\n",
       "      <td>9999999999999999998699999899999999999998576999...</td>\n",
       "      <td>CCCCCCCCCCCCCCCCCCCCEEEEESCCTTCCHHHHHHHHTTTSCE...</td>\n",
       "      <td>0000000000000110231499999610992099999997585519...</td>\n",
       "      <td>9999999999999875521000000000000000000000000000...</td>\n",
       "      <td>Q15717</td>\n",
       "    </tr>\n",
       "    <tr>\n",
       "      <th>1</th>\n",
       "      <td>sp|Q86XN7|PRSR1_HUMAN</td>\n",
       "      <td>MDKKSFEMVLDEIRKAVLTEYKLKAIEYVHGYFSSEQVVDLLRYFS...</td>\n",
       "      <td>944</td>\n",
       "      <td>5776315411540462224742141035243302152004004314...</td>\n",
       "      <td>CCHHHHHHHHHHHHHHCCCHHHHHHHHHCCCCCCHHHHHHHHHCCC...</td>\n",
       "      <td>9966899999999997699999999999589967999999996599...</td>\n",
       "      <td>CCHHHHHHHHHHHHHHHCCHHHHHHHHHHTTCCCHHHHHHHHTTSC...</td>\n",
       "      <td>0066799999999997332999999998445332999999994443...</td>\n",
       "      <td>7321000000000000000000000000000000000000000000...</td>\n",
       "      <td>Q86XN7</td>\n",
       "    </tr>\n",
       "    <tr>\n",
       "      <th>2</th>\n",
       "      <td>sp|Q9NYL2|M3K20_HUMAN</td>\n",
       "      <td>MSSLGASFVQIKFDDLQFFENCGGGSFGSVYRAKWISQDKEVAVKK...</td>\n",
       "      <td>800</td>\n",
       "      <td>8885555325152841644553466841101203137584400012...</td>\n",
       "      <td>CCCCCCCCEECCHHHEEEEEEEEECCCEEEEEEEECCCCEEEEEEE...</td>\n",
       "      <td>9999998678559996999999986998999999999998999999...</td>\n",
       "      <td>CCCCCCCCEECCGGGEEEEEEEEECTTEEEEEEEETTTTEEEEEEE...</td>\n",
       "      <td>0001211488559996999999983568999999998788999999...</td>\n",
       "      <td>9864321000000000000000000000000000000000000000...</td>\n",
       "      <td>Q9NYL2</td>\n",
       "    </tr>\n",
       "    <tr>\n",
       "      <th>3</th>\n",
       "      <td>sp|Q9NZ09|UBAP1_HUMAN</td>\n",
       "      <td>MASKKLGADFHGTFSYLDDVPFKTGDKFKTPAKVGLPIGFSLPDCL...</td>\n",
       "      <td>502</td>\n",
       "      <td>9998877787877656569576764985754885655885746856...</td>\n",
       "      <td>CCCCCCCCCCCCCCCCCCCCCCCCCCCCCCCCCCCCCCCCCCCCCC...</td>\n",
       "      <td>9999999999999999999999999999999999999999999999...</td>\n",
       "      <td>CCCCCCCCCCCCCCCCCCCCCCCCCCTCCCCCCCCCCCCCCCCCCC...</td>\n",
       "      <td>0000000000011002332100000341100110000231011101...</td>\n",
       "      <td>9999999999987765665536664333223477574666554456...</td>\n",
       "      <td>Q9NZ09</td>\n",
       "    </tr>\n",
       "    <tr>\n",
       "      <th>4</th>\n",
       "      <td>sp|Q8N9B5|JMY_HUMAN</td>\n",
       "      <td>MSFALEETLESDWVAVRPHVFDEREKHKFVFIVAWNEIEGKFAITC...</td>\n",
       "      <td>988</td>\n",
       "      <td>8966467437553122446347675534110000125364421121...</td>\n",
       "      <td>CCCCCCCCCCCCEEEECCCCCCCCCCEEEEEEEEEECCCCEEEEEE...</td>\n",
       "      <td>9999766667896988679889997756999999968788799997...</td>\n",
       "      <td>CCCCCCCCCCTCEEEECTTCCCCCCCEEEEEEEEEETTTTEEEEEE...</td>\n",
       "      <td>0000122222336988435222322266999999973364799997...</td>\n",
       "      <td>9865332222110000001111111000000000000000000000...</td>\n",
       "      <td>Q8N9B5</td>\n",
       "    </tr>\n",
       "    <tr>\n",
       "      <th>...</th>\n",
       "      <td>...</td>\n",
       "      <td>...</td>\n",
       "      <td>...</td>\n",
       "      <td>...</td>\n",
       "      <td>...</td>\n",
       "      <td>...</td>\n",
       "      <td>...</td>\n",
       "      <td>...</td>\n",
       "      <td>...</td>\n",
       "      <td>...</td>\n",
       "    </tr>\n",
       "    <tr>\n",
       "      <th>3497</th>\n",
       "      <td>sp|P51826|AFF3_HUMAN</td>\n",
       "      <td>MDSFDLALLQEWDLESLCVYEPDRNALRRKERERRNQETQQDDGTF...</td>\n",
       "      <td>1226</td>\n",
       "      <td>8886755557657576544555645545564566566657777665...</td>\n",
       "      <td>CCCCCCCCCCCCCCCCCCCCCCCCCCCCCCCCCCCCCCCCCCCCCC...</td>\n",
       "      <td>9999999999999999999998888887777777887888999999...</td>\n",
       "      <td>CCCCCCCCCCCCCCCCCCCCCCCCCCCCCCCCCCCCCCCCCCCCCC...</td>\n",
       "      <td>0000001111000000001103211112333333323222111100...</td>\n",
       "      <td>9999888888788888777887788887778878776778788898...</td>\n",
       "      <td>P51826</td>\n",
       "    </tr>\n",
       "    <tr>\n",
       "      <th>3498</th>\n",
       "      <td>sp|Q92619|HMHA1_HUMAN</td>\n",
       "      <td>MFSRKKRELMKTPSISKKNRAGSPSPQPSGELPRKDGADAVFPGPS...</td>\n",
       "      <td>1136</td>\n",
       "      <td>8777777766767767888777777778888677888787778888...</td>\n",
       "      <td>CCCCCCCCCCCCCCCCCCCCCCCCCCCCCCCCCCCCCCCCCCCCCC...</td>\n",
       "      <td>9999999999999999999999999999999999999999999999...</td>\n",
       "      <td>CCCCCCCCCCCCCCCCCCCCCCCCCCCCCCCCCCCCCCCCCCCCCC...</td>\n",
       "      <td>0000000000000000000000000000000000000000000000...</td>\n",
       "      <td>9999999999999999999999999999999999999999999999...</td>\n",
       "      <td>Q92619</td>\n",
       "    </tr>\n",
       "    <tr>\n",
       "      <th>3499</th>\n",
       "      <td>sp|Q99569|PKP4_HUMAN</td>\n",
       "      <td>MPAPEQASLVEEGQPQTRQEAASTGPGMEPETTATTILASVKEQEL...</td>\n",
       "      <td>1192</td>\n",
       "      <td>9988988888899888888888888887877764664465466555...</td>\n",
       "      <td>CCCCCCCCCCCCCCCCCCCCCCCCCCCCCCCCCCCCCCCCCCCCCC...</td>\n",
       "      <td>9999999999999999999999999999999999999999999999...</td>\n",
       "      <td>CCCCCCCCCCCCCCCCCCCCCCCCCCCCCCCCCCCCCCCCCCCCCC...</td>\n",
       "      <td>0000000000000000000000000000000000000000000000...</td>\n",
       "      <td>9999999999999999999999999999999999999999999999...</td>\n",
       "      <td>Q99569</td>\n",
       "    </tr>\n",
       "    <tr>\n",
       "      <th>3500</th>\n",
       "      <td>sp|Q68DQ2|CRBG3_HUMAN</td>\n",
       "      <td>MSSGRRRGSAPWHSFSRFFAPRSPSRDKEEEEEERPGTSPPPAPGR...</td>\n",
       "      <td>2970</td>\n",
       "      <td>9998888896766666665578788788888899899988888898...</td>\n",
       "      <td>CCCCCCCCCCCCCCCCCCCCCCCCCCCCCCCCCCCCCCCCCCCCCC...</td>\n",
       "      <td>9999999999999999999999999999999999999999999999...</td>\n",
       "      <td>CCCCCCCCCCCCCCCCCCCCCCCCCCCCCCCCCCCCCCCCCCCCCC...</td>\n",
       "      <td>0000000000000000000000000000000000000000000000...</td>\n",
       "      <td>9999999999999999999999999999999999999999999999...</td>\n",
       "      <td>Q68DQ2</td>\n",
       "    </tr>\n",
       "    <tr>\n",
       "      <th>3501</th>\n",
       "      <td>sp|Q9H8Y8|GORS2_HUMAN</td>\n",
       "      <td>MGSSQSVEIPGGGTEGYHVLRVQENSPGHRAGLEPFFDFIVSINGS...</td>\n",
       "      <td>452</td>\n",
       "      <td>8888765735655440120351477010361515322110221576...</td>\n",
       "      <td>CCCCCCCCCCCCCCCEEEEEEECCCCHHHHCCCCCCCCEEEEECCE...</td>\n",
       "      <td>9999997799999967999998999999996999889799999999...</td>\n",
       "      <td>CCCCCCCCCCTCCCCEEEEEEECTTCHHHHTTCCCTTCEEEEETTE...</td>\n",
       "      <td>0000113213433246999998099299996901265299999999...</td>\n",
       "      <td>9998753332221000000000000000000000000000000000...</td>\n",
       "      <td>Q9H8Y8</td>\n",
       "    </tr>\n",
       "  </tbody>\n",
       "</table>\n",
       "<p>3502 rows × 10 columns</p>\n",
       "</div>"
      ],
      "text/plain": [
       "                         id  \\\n",
       "0     sp|Q15717|ELAV1_HUMAN   \n",
       "1     sp|Q86XN7|PRSR1_HUMAN   \n",
       "2     sp|Q9NYL2|M3K20_HUMAN   \n",
       "3     sp|Q9NZ09|UBAP1_HUMAN   \n",
       "4       sp|Q8N9B5|JMY_HUMAN   \n",
       "...                     ...   \n",
       "3497   sp|P51826|AFF3_HUMAN   \n",
       "3498  sp|Q92619|HMHA1_HUMAN   \n",
       "3499   sp|Q99569|PKP4_HUMAN   \n",
       "3500  sp|Q68DQ2|CRBG3_HUMAN   \n",
       "3501  sp|Q9H8Y8|GORS2_HUMAN   \n",
       "\n",
       "                                                    seq   len  \\\n",
       "0     MSNGYEDHMAEDCRGDIGRTNLIVNYLPQNMTQDELRSLFSSIGEV...   326   \n",
       "1     MDKKSFEMVLDEIRKAVLTEYKLKAIEYVHGYFSSEQVVDLLRYFS...   944   \n",
       "2     MSSLGASFVQIKFDDLQFFENCGGGSFGSVYRAKWISQDKEVAVKK...   800   \n",
       "3     MASKKLGADFHGTFSYLDDVPFKTGDKFKTPAKVGLPIGFSLPDCL...   502   \n",
       "4     MSFALEETLESDWVAVRPHVFDEREKHKFVFIVAWNEIEGKFAITC...   988   \n",
       "...                                                 ...   ...   \n",
       "3497  MDSFDLALLQEWDLESLCVYEPDRNALRRKERERRNQETQQDDGTF...  1226   \n",
       "3498  MFSRKKRELMKTPSISKKNRAGSPSPQPSGELPRKDGADAVFPGPS...  1136   \n",
       "3499  MPAPEQASLVEEGQPQTRQEAASTGPGMEPETTATTILASVKEQEL...  1192   \n",
       "3500  MSSGRRRGSAPWHSFSRFFAPRSPSRDKEEEEEERPGTSPPPAPGR...  2970   \n",
       "3501  MGSSQSVEIPGGGTEGYHVLRVQENSPGHRAGLEPFFDFIVSINGS...   452   \n",
       "\n",
       "                                                    rsa  \\\n",
       "0     9998777766764656455220102301581447404620571261...   \n",
       "1     5776315411540462224742141035243302152004004314...   \n",
       "2     8885555325152841644553466841101203137584400012...   \n",
       "3     9998877787877656569576764985754885655885746856...   \n",
       "4     8966467437553122446347675534110000125364421121...   \n",
       "...                                                 ...   \n",
       "3497  8886755557657576544555645545564566566657777665...   \n",
       "3498  8777777766767767888777777778888677888787778888...   \n",
       "3499  9988988888899888888888888887877764664465466555...   \n",
       "3500  9998888896766666665578788788888899899988888898...   \n",
       "3501  8888765735655440120351477010361515322110221576...   \n",
       "\n",
       "                                                    ss3  \\\n",
       "0     CCCCCCCCCCCCCCCCCCCCEEEEECCCCCCCHHHHHHHHCCCCCE...   \n",
       "1     CCHHHHHHHHHHHHHHCCCHHHHHHHHHCCCCCCHHHHHHHHHCCC...   \n",
       "2     CCCCCCCCEECCHHHEEEEEEEEECCCEEEEEEEECCCCEEEEEEE...   \n",
       "3     CCCCCCCCCCCCCCCCCCCCCCCCCCCCCCCCCCCCCCCCCCCCCC...   \n",
       "4     CCCCCCCCCCCCEEEECCCCCCCCCCEEEEEEEEEECCCCEEEEEE...   \n",
       "...                                                 ...   \n",
       "3497  CCCCCCCCCCCCCCCCCCCCCCCCCCCCCCCCCCCCCCCCCCCCCC...   \n",
       "3498  CCCCCCCCCCCCCCCCCCCCCCCCCCCCCCCCCCCCCCCCCCCCCC...   \n",
       "3499  CCCCCCCCCCCCCCCCCCCCCCCCCCCCCCCCCCCCCCCCCCCCCC...   \n",
       "3500  CCCCCCCCCCCCCCCCCCCCCCCCCCCCCCCCCCCCCCCCCCCCCC...   \n",
       "3501  CCCCCCCCCCCCCCCEEEEEEECCCCHHHHCCCCCCCCEEEEECCE...   \n",
       "\n",
       "                                                  p_ss3  \\\n",
       "0     9999999999999999998699999899999999999998576999...   \n",
       "1     9966899999999997699999999999589967999999996599...   \n",
       "2     9999998678559996999999986998999999999998999999...   \n",
       "3     9999999999999999999999999999999999999999999999...   \n",
       "4     9999766667896988679889997756999999968788799997...   \n",
       "...                                                 ...   \n",
       "3497  9999999999999999999998888887777777887888999999...   \n",
       "3498  9999999999999999999999999999999999999999999999...   \n",
       "3499  9999999999999999999999999999999999999999999999...   \n",
       "3500  9999999999999999999999999999999999999999999999...   \n",
       "3501  9999997799999967999998999999996999889799999999...   \n",
       "\n",
       "                                                    ss8  \\\n",
       "0     CCCCCCCCCCCCCCCCCCCCEEEEESCCTTCCHHHHHHHHTTTSCE...   \n",
       "1     CCHHHHHHHHHHHHHHHCCHHHHHHHHHHTTCCCHHHHHHHHTTSC...   \n",
       "2     CCCCCCCCEECCGGGEEEEEEEEECTTEEEEEEEETTTTEEEEEEE...   \n",
       "3     CCCCCCCCCCCCCCCCCCCCCCCCCCTCCCCCCCCCCCCCCCCCCC...   \n",
       "4     CCCCCCCCCCTCEEEECTTCCCCCCCEEEEEEEEEETTTTEEEEEE...   \n",
       "...                                                 ...   \n",
       "3497  CCCCCCCCCCCCCCCCCCCCCCCCCCCCCCCCCCCCCCCCCCCCCC...   \n",
       "3498  CCCCCCCCCCCCCCCCCCCCCCCCCCCCCCCCCCCCCCCCCCCCCC...   \n",
       "3499  CCCCCCCCCCCCCCCCCCCCCCCCCCCCCCCCCCCCCCCCCCCCCC...   \n",
       "3500  CCCCCCCCCCCCCCCCCCCCCCCCCCCCCCCCCCCCCCCCCCCCCC...   \n",
       "3501  CCCCCCCCCCTCCCCEEEEEEECTTCHHHHTTCCCTTCEEEEETTE...   \n",
       "\n",
       "                                                  p_ss8  \\\n",
       "0     0000000000000110231499999610992099999997585519...   \n",
       "1     0066799999999997332999999998445332999999994443...   \n",
       "2     0001211488559996999999983568999999998788999999...   \n",
       "3     0000000000011002332100000341100110000231011101...   \n",
       "4     0000122222336988435222322266999999973364799997...   \n",
       "...                                                 ...   \n",
       "3497  0000001111000000001103211112333333323222111100...   \n",
       "3498  0000000000000000000000000000000000000000000000...   \n",
       "3499  0000000000000000000000000000000000000000000000...   \n",
       "3500  0000000000000000000000000000000000000000000000...   \n",
       "3501  0000113213433246999998099299996901265299999999...   \n",
       "\n",
       "                                                    dis proteinName  \n",
       "0     9999999999999875521000000000000000000000000000...      Q15717  \n",
       "1     7321000000000000000000000000000000000000000000...      Q86XN7  \n",
       "2     9864321000000000000000000000000000000000000000...      Q9NYL2  \n",
       "3     9999999999987765665536664333223477574666554456...      Q9NZ09  \n",
       "4     9865332222110000001111111000000000000000000000...      Q8N9B5  \n",
       "...                                                 ...         ...  \n",
       "3497  9999888888788888777887788887778878776778788898...      P51826  \n",
       "3498  9999999999999999999999999999999999999999999999...      Q92619  \n",
       "3499  9999999999999999999999999999999999999999999999...      Q99569  \n",
       "3500  9999999999999999999999999999999999999999999999...      Q68DQ2  \n",
       "3501  9998753332221000000000000000000000000000000000...      Q9H8Y8  \n",
       "\n",
       "[3502 rows x 10 columns]"
      ]
     },
     "execution_count": 10,
     "metadata": {},
     "output_type": "execute_result"
    }
   ],
   "source": [
    "df_ss_pred\n",
    "\n",
    "## solo seleccionar el residuo vs el resto de la proteína"
   ]
  },
  {
   "cell_type": "code",
   "execution_count": 11,
   "metadata": {},
   "outputs": [],
   "source": [
    "df_exptypes = pd.read_csv('../data/interim/preprocessed_peptides.tsv.gz', compression='gzip', sep='\\t')"
   ]
  },
  {
   "cell_type": "code",
   "execution_count": 33,
   "metadata": {},
   "outputs": [],
   "source": [
    "df = pd.merge(df_exptypes, df_ss_pred, how='left', on='proteinName')\n",
    "df[['proteinName', 'geneName', 'proteinSeq']].drop_duplicates().to_csv('../data/processed/proteins_ss.tsv.gz', sep='\\t', compression='gzip', index=None)"
   ]
  },
  {
   "cell_type": "code",
   "execution_count": 15,
   "metadata": {},
   "outputs": [],
   "source": [
    "# peptide RSPTPER of TTN discarded"
   ]
  },
  {
   "cell_type": "code",
   "execution_count": 16,
   "metadata": {},
   "outputs": [],
   "source": [
    "df = calculate_structure_stats(df)\n",
    "df.to_csv('../data/interim/secondary_structure_analysis.tsv.gz', index=None, compression='gzip', sep='\\t')"
   ]
  },
  {
   "cell_type": "code",
   "execution_count": 17,
   "metadata": {},
   "outputs": [],
   "source": [
    "df_wt = pd.merge(df_exptypes.loc[df_exptypes.type=='wt'], df_ss_pred, how='left', on='proteinName')\n",
    "df_wt = calculate_structure_stats(df_wt)\n",
    "\n",
    "df_ko = pd.merge(df_exptypes.loc[df_exptypes.type=='ko'], df_ss_pred, how='left', on='proteinName')\n",
    "df_ko = calculate_structure_stats(df_ko)"
   ]
  },
  {
   "cell_type": "code",
   "execution_count": 18,
   "metadata": {},
   "outputs": [],
   "source": [
    "rsa = {\n",
    "    'WT ph. res.':\n",
    "    {\n",
    "    'Exposed': (df_wt.ph_rsa.sum()/df_wt.ph_rsa.shape[0])*100,\n",
    "    'Buried': 100-((df_wt.ph_rsa.sum()/df_wt.ph_rsa.shape[0])*100),\n",
    "     },\n",
    "    'KO ph. res.':\n",
    "    {\n",
    "    'Exposed': (df_ko.ph_rsa.sum()/df_ko.ph_rsa.shape[0])*100,\n",
    "    'Buried': 100-((df_ko.ph_rsa.sum()/df_ko.ph_rsa.shape[0])*100),\n",
    "     },\n",
    "    'WT background':\n",
    "    {\n",
    "    'Exposed': (df_wt.nph_rsa.sum()/df_wt.nph_rsa.shape[0])*100,\n",
    "    'Buried': 100-((df_wt.nph_rsa.sum()/df_wt.nph_rsa.shape[0])*100),\n",
    "     },\n",
    "    'KO background':\n",
    "    {\n",
    "    'Exposed': (df_ko.nph_rsa.sum()/df_ko.nph_rsa.shape[0])*100,\n",
    "    'Buried': 100-((df_ko.nph_rsa.sum()/df_ko.nph_rsa.shape[0])*100),\n",
    "     },\n",
    "}\n",
    "df_rsa = pd.DataFrame(rsa).T\n",
    "\n",
    "disorder = {\n",
    "    'WT ph. res.':\n",
    "    {\n",
    "    'Disordered': (df_wt.ph_dis.sum()/df_wt.ph_dis.shape[0])*100,\n",
    "    'Ordered': 100-((df_wt.ph_dis.sum()/df_wt.ph_dis.shape[0])*100),\n",
    "     },\n",
    "    'KO ph. res.':\n",
    "    {\n",
    "    'Disordered': (df_ko.ph_dis.sum()/df_ko.ph_dis.shape[0])*100,\n",
    "    'Ordered': 100-((df_ko.ph_dis.sum()/df_ko.ph_dis.shape[0])*100),\n",
    "     },\n",
    "    'WT background':\n",
    "    {\n",
    "    'Disordered': (df_wt.nph_dis.sum()/df_wt.nph_dis.shape[0])*100,\n",
    "    'Ordered': 100-((df_wt.nph_dis.sum()/df_wt.nph_dis.shape[0])*100),\n",
    "     },\n",
    "    'KO background':\n",
    "    {\n",
    "    'Disordered': (df_ko.nph_dis.sum()/df_ko.nph_dis.shape[0])*100,\n",
    "    'Ordered': 100-((df_ko.nph_dis.sum()/df_ko.nph_dis.shape[0])*100),\n",
    "     },\n",
    "}\n",
    "df_dis = pd.DataFrame(disorder).T\n",
    "\n",
    "ss3 = {\n",
    "    'WT ph. res.':\n",
    "    {\n",
    "    'Loop': (df_wt.ph_ss3_C.sum()/(df_wt.ph_ss3_C.sum()+df_wt.ph_ss3_E.sum()+df_wt.ph_ss3_H.sum()))*100,\n",
    "    'Helix': (df_wt.ph_ss3_H.sum()/(df_wt.ph_ss3_C.sum()+df_wt.ph_ss3_E.sum()+df_wt.ph_ss3_H.sum()))*100,\n",
    "    'Beta-Sheet': (df_wt.ph_ss3_E.sum()/(df_wt.ph_ss3_C.sum()+df_wt.ph_ss3_E.sum()+df_wt.ph_ss3_H.sum()))*100,\n",
    "     },\n",
    "    'KO ph. res.':\n",
    "    {\n",
    "    'Loop': (df_ko.ph_ss3_C.sum()/(df_ko.ph_ss3_C.sum()+df_ko.ph_ss3_E.sum()+df_ko.ph_ss3_H.sum()))*100,\n",
    "    'Helix': (df_ko.ph_ss3_H.sum()/(df_ko.ph_ss3_C.sum()+df_ko.ph_ss3_E.sum()+df_ko.ph_ss3_H.sum()))*100,\n",
    "    'Beta-Sheet': (df_ko.ph_ss3_E.sum()/(df_ko.ph_ss3_C.sum()+df_ko.ph_ss3_E.sum()+df_ko.ph_ss3_H.sum()))*100,\n",
    "     },\n",
    "    'WT background':\n",
    "    {\n",
    "    'Loop': (df_wt.nph_ss3_C.sum()/(df_wt.nph_ss3_C.sum()+df_wt.nph_ss3_E.sum()+df_wt.nph_ss3_H.sum()))*100,\n",
    "    'Helix': (df_wt.nph_ss3_H.sum()/(df_wt.nph_ss3_C.sum()+df_wt.nph_ss3_E.sum()+df_wt.nph_ss3_H.sum()))*100,\n",
    "    'Beta-Sheet': (df_wt.nph_ss3_E.sum()/(df_wt.nph_ss3_C.sum()+df_wt.nph_ss3_E.sum()+df_wt.nph_ss3_H.sum()))*100,\n",
    "     },\n",
    "    'KO background':\n",
    "    {\n",
    "    'Loop': (df_ko.nph_ss3_C.sum()/(df_ko.nph_ss3_C.sum()+df_ko.nph_ss3_E.sum()+df_ko.nph_ss3_H.sum()))*100,\n",
    "    'Helix': (df_ko.nph_ss3_H.sum()/(df_ko.nph_ss3_C.sum()+df_ko.nph_ss3_E.sum()+df_ko.nph_ss3_H.sum()))*100,\n",
    "    'Beta-Sheet': (df_ko.nph_ss3_E.sum()/(df_ko.nph_ss3_C.sum()+df_ko.nph_ss3_E.sum()+df_ko.nph_ss3_H.sum()))*100,\n",
    "     }, \n",
    "}\n",
    "df_ss3 = pd.DataFrame(ss3).T"
   ]
  },
  {
   "cell_type": "code",
   "execution_count": 29,
   "metadata": {},
   "outputs": [
    {
     "data": {
      "text/html": [
       "<div>\n",
       "<style scoped>\n",
       "    .dataframe tbody tr th:only-of-type {\n",
       "        vertical-align: middle;\n",
       "    }\n",
       "\n",
       "    .dataframe tbody tr th {\n",
       "        vertical-align: top;\n",
       "    }\n",
       "\n",
       "    .dataframe thead th {\n",
       "        text-align: right;\n",
       "    }\n",
       "</style>\n",
       "<table border=\"1\" class=\"dataframe\">\n",
       "  <thead>\n",
       "    <tr style=\"text-align: right;\">\n",
       "      <th></th>\n",
       "      <th>Exposed</th>\n",
       "      <th>Buried</th>\n",
       "    </tr>\n",
       "  </thead>\n",
       "  <tbody>\n",
       "    <tr>\n",
       "      <th>WT ph. res.</th>\n",
       "      <td>66.5</td>\n",
       "      <td>33.5</td>\n",
       "    </tr>\n",
       "    <tr>\n",
       "      <th>KO ph. res.</th>\n",
       "      <td>66.2</td>\n",
       "      <td>33.8</td>\n",
       "    </tr>\n",
       "    <tr>\n",
       "      <th>WT background</th>\n",
       "      <td>45.8</td>\n",
       "      <td>54.2</td>\n",
       "    </tr>\n",
       "    <tr>\n",
       "      <th>KO background</th>\n",
       "      <td>47.4</td>\n",
       "      <td>52.6</td>\n",
       "    </tr>\n",
       "  </tbody>\n",
       "</table>\n",
       "</div>"
      ],
      "text/plain": [
       "               Exposed  Buried\n",
       "WT ph. res.       66.5    33.5\n",
       "KO ph. res.       66.2    33.8\n",
       "WT background     45.8    54.2\n",
       "KO background     47.4    52.6"
      ]
     },
     "execution_count": 29,
     "metadata": {},
     "output_type": "execute_result"
    }
   ],
   "source": [
    "df_rsa.round(1)"
   ]
  },
  {
   "cell_type": "code",
   "execution_count": 30,
   "metadata": {},
   "outputs": [
    {
     "data": {
      "text/html": [
       "<div>\n",
       "<style scoped>\n",
       "    .dataframe tbody tr th:only-of-type {\n",
       "        vertical-align: middle;\n",
       "    }\n",
       "\n",
       "    .dataframe tbody tr th {\n",
       "        vertical-align: top;\n",
       "    }\n",
       "\n",
       "    .dataframe thead th {\n",
       "        text-align: right;\n",
       "    }\n",
       "</style>\n",
       "<table border=\"1\" class=\"dataframe\">\n",
       "  <thead>\n",
       "    <tr style=\"text-align: right;\">\n",
       "      <th></th>\n",
       "      <th>Disordered</th>\n",
       "      <th>Ordered</th>\n",
       "    </tr>\n",
       "  </thead>\n",
       "  <tbody>\n",
       "    <tr>\n",
       "      <th>WT ph. res.</th>\n",
       "      <td>73.7</td>\n",
       "      <td>26.3</td>\n",
       "    </tr>\n",
       "    <tr>\n",
       "      <th>KO ph. res.</th>\n",
       "      <td>75.0</td>\n",
       "      <td>25.0</td>\n",
       "    </tr>\n",
       "    <tr>\n",
       "      <th>WT background</th>\n",
       "      <td>39.2</td>\n",
       "      <td>60.8</td>\n",
       "    </tr>\n",
       "    <tr>\n",
       "      <th>KO background</th>\n",
       "      <td>41.2</td>\n",
       "      <td>58.8</td>\n",
       "    </tr>\n",
       "  </tbody>\n",
       "</table>\n",
       "</div>"
      ],
      "text/plain": [
       "               Disordered  Ordered\n",
       "WT ph. res.          73.7     26.3\n",
       "KO ph. res.          75.0     25.0\n",
       "WT background        39.2     60.8\n",
       "KO background        41.2     58.8"
      ]
     },
     "execution_count": 30,
     "metadata": {},
     "output_type": "execute_result"
    }
   ],
   "source": [
    "df_dis.round(1)"
   ]
  },
  {
   "cell_type": "code",
   "execution_count": 31,
   "metadata": {},
   "outputs": [
    {
     "data": {
      "text/html": [
       "<div>\n",
       "<style scoped>\n",
       "    .dataframe tbody tr th:only-of-type {\n",
       "        vertical-align: middle;\n",
       "    }\n",
       "\n",
       "    .dataframe tbody tr th {\n",
       "        vertical-align: top;\n",
       "    }\n",
       "\n",
       "    .dataframe thead th {\n",
       "        text-align: right;\n",
       "    }\n",
       "</style>\n",
       "<table border=\"1\" class=\"dataframe\">\n",
       "  <thead>\n",
       "    <tr style=\"text-align: right;\">\n",
       "      <th></th>\n",
       "      <th>Loop</th>\n",
       "      <th>Helix</th>\n",
       "      <th>Beta-Sheet</th>\n",
       "    </tr>\n",
       "  </thead>\n",
       "  <tbody>\n",
       "    <tr>\n",
       "      <th>WT ph. res.</th>\n",
       "      <td>96.9</td>\n",
       "      <td>2.3</td>\n",
       "      <td>0.9</td>\n",
       "    </tr>\n",
       "    <tr>\n",
       "      <th>KO ph. res.</th>\n",
       "      <td>96.8</td>\n",
       "      <td>2.5</td>\n",
       "      <td>0.8</td>\n",
       "    </tr>\n",
       "    <tr>\n",
       "      <th>WT background</th>\n",
       "      <td>65.7</td>\n",
       "      <td>25.0</td>\n",
       "      <td>9.4</td>\n",
       "    </tr>\n",
       "    <tr>\n",
       "      <th>KO background</th>\n",
       "      <td>67.0</td>\n",
       "      <td>24.2</td>\n",
       "      <td>8.8</td>\n",
       "    </tr>\n",
       "  </tbody>\n",
       "</table>\n",
       "</div>"
      ],
      "text/plain": [
       "               Loop  Helix  Beta-Sheet\n",
       "WT ph. res.    96.9    2.3         0.9\n",
       "KO ph. res.    96.8    2.5         0.8\n",
       "WT background  65.7   25.0         9.4\n",
       "KO background  67.0   24.2         8.8"
      ]
     },
     "execution_count": 31,
     "metadata": {},
     "output_type": "execute_result"
    }
   ],
   "source": [
    "df_ss3.round(1)"
   ]
  },
  {
   "cell_type": "code",
   "execution_count": 22,
   "metadata": {},
   "outputs": [
    {
     "data": {
      "image/png": "[encoded data removed]",
      "text/plain": [
       "<Figure size 360x360 with 1 Axes>"
      ]
     },
     "metadata": {
      "needs_background": "light"
     },
     "output_type": "display_data"
    }
   ],
   "source": [
    "font = {'family' : 'Arial',\n",
    "        'weight' : 'normal',\n",
    "        'size'   : 14}\n",
    "\n",
    "rc('font', **font)\n",
    "\n",
    "df = df_ss3\n",
    "color1 = '#7da96a'\n",
    "color2 = '#adc3a2'\n",
    "color3 = '#e2e2e2'\n",
    "\n",
    "bars1 = df['Loop'].values\n",
    "bars2 = df['Helix'].values\n",
    "bars3 = df['Beta-Sheet'].values\n",
    "bars = np.add(bars1, bars2).tolist()\n",
    "\n",
    "names = df.T.columns\n",
    "r = [0,1,2,3]\n",
    "barWidth = 1\n",
    "\n",
    "plt.figure(figsize=(5,5)) \n",
    "plt.bar(r, bars1, color=color1, edgecolor='white', width=barWidth)\n",
    "plt.bar(r, bars2, bottom=bars1, color=color2, edgecolor='white', width=barWidth)\n",
    "plt.bar(r, bars3, bottom=bars, color=color3, edgecolor='white', width=barWidth)\n",
    "\n",
    "plt.xticks(r, names, fontweight='bold', rotation=45)\n",
    "plt.ylabel(\"[%]\")\n",
    "plt.legend(df.columns)\n",
    "plt.title('Predicted Secondary Structure')\n",
    "plt.savefig('../reports/figures/figure2A.png', bbox_inches='tight', dpi=360)"
   ]
  },
  {
   "cell_type": "code",
   "execution_count": 23,
   "metadata": {},
   "outputs": [
    {
     "data": {
      "image/png": "[encoded data removed]",
      "text/plain": [
       "<Figure size 360x360 with 1 Axes>"
      ]
     },
     "metadata": {
      "needs_background": "light"
     },
     "output_type": "display_data"
    }
   ],
   "source": [
    "font = {'family' : 'Arial',\n",
    "        'weight' : 'normal',\n",
    "        'size'   : 14}\n",
    "\n",
    "rc('font', **font)\n",
    "\n",
    "df = df_dis\n",
    "color1 = '#e57c84'\n",
    "color2 = '#c6c6c6'\n",
    "\n",
    "bars1 = df['Disordered'].values\n",
    "bars2 = df['Ordered'].values\n",
    "\n",
    "names = df.T.columns\n",
    "r = [0,1,2,3]\n",
    "barWidth = 1\n",
    "\n",
    "plt.figure(figsize=(5,5)) \n",
    "plt.bar(r, bars1, color=color1, edgecolor='white', width=barWidth)\n",
    "plt.bar(r, bars2, bottom=bars1, color=color2, edgecolor='white', width=barWidth)\n",
    "plt.xticks(r, names, fontweight='bold', rotation=45)\n",
    "plt.ylabel(\"[%]\")\n",
    "plt.legend(df.columns)\n",
    "plt.title('Predicted Disorder')\n",
    "plt.savefig('../reports/figures/figure2B.png', bbox_inches='tight', dpi=360)"
   ]
  },
  {
   "cell_type": "code",
   "execution_count": 24,
   "metadata": {},
   "outputs": [
    {
     "data": {
      "image/png": "[encoded data removed]",
      "text/plain": [
       "<Figure size 360x360 with 1 Axes>"
      ]
     },
     "metadata": {
      "needs_background": "light"
     },
     "output_type": "display_data"
    }
   ],
   "source": [
    "font = {'family' : 'Arial',\n",
    "        'weight' : 'normal',\n",
    "        'size'   : 14}\n",
    "\n",
    "rc('font', **font)\n",
    "\n",
    "df = df_rsa\n",
    "color1 = '#6087a1'\n",
    "color2 = '#b1bab3'\n",
    "\n",
    "bars1 = df['Exposed'].values\n",
    "bars2 = df['Buried'].values\n",
    "\n",
    "names = df.T.columns\n",
    "r = [0,1,2,3]\n",
    "barWidth = 1\n",
    "\n",
    "plt.figure(figsize=(5,5)) \n",
    "plt.bar(r, bars1, color=color1, edgecolor='white', width=barWidth)\n",
    "plt.bar(r, bars2, bottom=bars1, color=color2, edgecolor='white', width=barWidth)\n",
    "plt.xticks(r, names, fontweight='bold', rotation=45)\n",
    "plt.ylabel(\"[%]\")\n",
    "plt.legend(df.columns)\n",
    "plt.title('Predicted Relative Solvent Exposure')\n",
    "plt.savefig('../reports/figures/figure2C.png', bbox_inches='tight', dpi=360)"
   ]
  },
  {
   "cell_type": "code",
   "execution_count": 25,
   "metadata": {},
   "outputs": [
    {
     "data": {
      "image/png": "[encoded data removed]",
      "text/plain": [
       "<Figure size 576x432 with 1 Axes>"
      ]
     },
     "metadata": {
      "needs_background": "light"
     },
     "output_type": "display_data"
    }
   ],
   "source": [
    "plot_stacked_data(df_ss3, title='A', cmp='Paired')"
   ]
  },
  {
   "cell_type": "code",
   "execution_count": 26,
   "metadata": {},
   "outputs": [
    {
     "data": {
      "image/png": "[encoded data removed]",
      "text/plain": [
       "<Figure size 576x432 with 1 Axes>"
      ]
     },
     "metadata": {
      "needs_background": "light"
     },
     "output_type": "display_data"
    }
   ],
   "source": [
    "plot_stacked_data(df_dis, title='B', cmp='Set2')"
   ]
  },
  {
   "cell_type": "code",
   "execution_count": 27,
   "metadata": {},
   "outputs": [
    {
     "data": {
      "image/png": "[encoded data removed]",
      "text/plain": [
       "<Figure size 576x432 with 1 Axes>"
      ]
     },
     "metadata": {
      "needs_background": "light"
     },
     "output_type": "display_data"
    }
   ],
   "source": [
    "plot_stacked_data(df_rsa, title='C', cmp='Set1')"
   ]
  },
  {
   "cell_type": "code",
   "execution_count": 28,
   "metadata": {},
   "outputs": [],
   "source": [
    "# old format\n",
    "# df = pd.merge(df_exptypes, df_ss_pred, how='left', on='proteinName')\n",
    "# df = df[~df['ss3'].isnull()]\n",
    "# df['kmer_rsa'] = [str(rsa)[ploc-6:ploc+7] for ploc, rsa  in zip(df['proteinSeq-loc'], df['rsa'])]\n",
    "# df['kmer_rsa_n'] = [round(sum(list(map(int, rsa)))/117, 2) for rsa in df['kmer_rsa'].str.split('').str[1:-1]]\n",
    "# df['no_kmer_rsa'] = [str(rsa)[:ploc-6] + str(rsa)[ploc+7:] for ploc, rsa in zip(df['proteinSeq-loc'], df['rsa'])]\n",
    "# df['no_kmer_rsa_n'] = [round(sum(list(map(int, rsa)))/len(rsa), 2) for rsa in df['no_kmer_rsa'].str.split('').str[1:-1]]\n",
    "\n",
    "# df['kmer_ss3'] = [str(ss3)[ploc-6:ploc+7] for ploc, ss3 in zip(df['proteinSeq-loc'], df['ss3'])]\n",
    "# df['no_kmer_ss3'] = [str(ss3)[:ploc-6] + str(ss3)[ploc+7:] for ploc, ss3 in zip(df['proteinSeq-loc'], df['ss3'])]\n",
    "# df['kmer_p_ss3'] = [str(p_ss3)[ploc-6:ploc+7] for ploc, p_ss3  in zip(df['proteinSeq-loc'], df['p_ss3'])]\n",
    "# df['ptm_ss3'] = [str(ss3)[ploc:ploc+1] + '(' + str(p_ss3)[ploc:ploc+1] + ')' for ploc, ss3, p_ss3  in zip(df['proteinSeq-loc'], df['ss3'], df['p_ss3'])]\n",
    "# df['kmer_p_ss3_n'] = [round(sum(list(map(int, pss3)))/117, 2) for pss3 in df['kmer_p_ss3'].str.split('').str[1:-1]]\n",
    "# df['kmer_ss3_len'] = df['kmer_ss3'].str.len()\n",
    "# df['no_kmer_ss3_len'] = df['no_kmer_ss3'].str.len()\n",
    "# df['kmer_ss3_C'] = df['kmer_ss3'].str.count('C')\n",
    "# df['no_kmer_ss3_C'] = df['no_kmer_ss3'].str.count('C')\n",
    "# df['kmer_ss3_E'] = df['kmer_ss3'].str.count('E')\n",
    "# df['no_kmer_ss3_E'] = df['no_kmer_ss3'].str.count('E')\n",
    "# df['kmer_ss3_H'] = df['kmer_ss3'].str.count('H')\n",
    "# df['no_kmer_ss3_H'] = df['no_kmer_ss3'].str.count('H')\n",
    "\n",
    "# df['kmer_ss8'] = [str(ss8)[ploc-6:ploc+7] for ploc, ss8  in zip(df['proteinSeq-loc'], df['ss8'])]\n",
    "# df['kmer_p_ss8'] = [str(p_ss8)[ploc-6:ploc+7] for ploc, p_ss8  in zip(df['proteinSeq-loc'], df['p_ss8'])] \n",
    "# df['ptm_ss8'] = [str(ss8)[ploc:ploc+1] + '(' + str(p_ss8)[ploc:ploc+1] + ')' for ploc, ss8, p_ss8  in zip(df['proteinSeq-loc'], df['ss8'], df['p_ss8'])]\n",
    "# df['kmer_p_ss8_n'] = [round(sum(list(map(int, pss8)))/117, 2) for pss8 in df['kmer_p_ss8'].str.split('').str[1:-1]]\n",
    "\n",
    "# df['kmer_dis'] = [str(dis)[ploc-6:ploc+7] for ploc, dis  in zip(df['proteinSeq-loc'], df['dis'])]\n",
    "# df['ptm_dis'] = [str(dis)[ploc:ploc+1] for ploc, dis in zip(df['proteinSeq-loc'], df['dis'])]\n",
    "# df['no_kmer_dis'] = [str(dis)[:ploc-6] + str(dis)[ploc+7:] for ploc, dis in zip(df['proteinSeq-loc'], df['dis'])]\n",
    "# df['kmer_dis_n'] = [round(sum(list(map(int, dis)))/117, 2) for dis in df['kmer_dis'].str.split('').str[1:-1]]\n",
    "# df['no_kmer_dis_n'] = [round(sum(list(map(int, dis)))/len(dis), 2) for dis in df['no_kmer_dis'].str.split('').str[1:-1]]"
   ]
  },
  {
   "cell_type": "markdown",
   "metadata": {},
   "source": [
    "**Author information**:\n",
    "Fernando Pozo ([@fpozoc](https://gitlab.com/fpozoc))\n",
    "\n",
    "You can find the data driven project jupyter notebook template [here](https://gitlab.com/fpozoc/data-driven-project-template/-/blob/master/notebooks/1.0-nb_template.ipynb)."
   ]
  }
 ],
 "metadata": {
  "kernelspec": {
   "display_name": "Python 3",
   "language": "python",
   "name": "python3"
  },
  "language_info": {
   "codemirror_mode": {
    "name": "ipython",
    "version": 3
   },
   "file_extension": ".py",
   "mimetype": "text/x-python",
   "name": "python",
   "nbconvert_exporter": "python",
   "pygments_lexer": "ipython3",
   "version": "3.7.7"
  },
  "varInspector": {
   "cols": {
    "lenName": 16,
    "lenType": 16,
    "lenVar": 40
   },
   "kernels_config": {
    "python": {
     "delete_cmd_postfix": "",
     "delete_cmd_prefix": "del ",
     "library": "var_list.py",
     "varRefreshCmd": "print(var_dic_list())"
    },
    "r": {
     "delete_cmd_postfix": ") ",
     "delete_cmd_prefix": "rm(",
     "library": "var_list.r",
     "varRefreshCmd": "cat(var_dic_list()) "
    }
   },
   "types_to_exclude": [
    "module",
    "function",
    "builtin_function_or_method",
    "instance",
    "_Feature"
   ],
   "window_display": false
  }
 },
 "nbformat": 4,
 "nbformat_minor": 4
}
