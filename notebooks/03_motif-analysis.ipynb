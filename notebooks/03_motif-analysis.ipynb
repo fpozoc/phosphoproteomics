{
 "cells": [
  {
   "cell_type": "markdown",
   "metadata": {},
   "source": [
    "# PO-4"
   ]
  },
  {
   "cell_type": "markdown",
   "metadata": {},
   "source": [
    "Section 3: Phosphorylation motif analysis classification"
   ]
  },
  {
   "cell_type": "markdown",
   "metadata": {},
   "source": [
    "* To-do features como 'evidence_ProteomeScout' eliminar ids repetidos"
   ]
  },
  {
   "cell_type": "markdown",
   "metadata": {},
   "source": [
    "-----"
   ]
  },
  {
   "cell_type": "markdown",
   "metadata": {},
   "source": [
    "## Table of Contents <a class=\"anchor\" id=\"table-of-contents\"></a>"
   ]
  },
  {
   "cell_type": "markdown",
   "metadata": {
    "ExecuteTime": {
     "end_time": "2020-04-16T15:32:25.662741Z",
     "start_time": "2020-04-16T15:32:25.655434Z"
    }
   },
   "source": [
    "* [1. Introduction](#introduction)\n",
    "    * [1.1 Description](#project-description)\n",
    "    * [1.2 Packages](#packages)\n",
    "        \n",
    " \n",
    "* [2. Data Loading](#data-loading)    \n",
    "\n",
    "* [3. Data Mining](#data-preprocessing)\n",
    "    * [3.1 PhosphositePlus](#phosphositeplus)\n",
    "    * [3.2 dbPTM](#dbptm)\n",
    "    * [3.3 The functional landscape of the human phosphoproteome](#tflhp)\n",
    "    * [3.4 Phospho.ELM](#phosphoelm)\n",
    "    * [3.5 Quokka](#quokka)\n",
    "    * [3.6 ProteomeScout](#proteomescout)\n",
    "\n",
    "\n",
    "* [4. Data merging](#data-merging)\n",
    "    * [4.1 Human phosphoproteome database](#human-phosphoproteome-database)\n",
    "    * [4.2 Merging with our phosphopeptides](#merging-with-our-phosphopeptides)\n",
    "\n",
    "\n",
    "* [5. Motif identification](#motif-identification)\n",
    "\n",
    "* [6. Project contribution](#project-contribution)"
   ]
  },
  {
   "cell_type": "markdown",
   "metadata": {},
   "source": [
    "# 1. Introduction <a class=\"anchor\" id=\"introduction\"></a>"
   ]
  },
  {
   "cell_type": "markdown",
   "metadata": {},
   "source": [
    "## 1.1 Description <a class=\"anchor\" id=\"description\"></a>"
   ]
  },
  {
   "cell_type": "markdown",
   "metadata": {},
   "source": [
    "Databases"
   ]
  },
  {
   "cell_type": "markdown",
   "metadata": {},
   "source": [
    "-----"
   ]
  },
  {
   "cell_type": "markdown",
   "metadata": {},
   "source": [
    "## 1.2 Packages <a class=\"anchor\" id=\"packages\"></a>"
   ]
  },
  {
   "cell_type": "code",
   "execution_count": 1,
   "metadata": {
    "ExecuteTime": {
     "end_time": "2020-04-16T15:57:28.080865Z",
     "start_time": "2020-04-16T15:57:28.076022Z"
    }
   },
   "outputs": [],
   "source": [
    "import glob, os, sys,re \n",
    "import warnings\n",
    "warnings.filterwarnings('ignore')\n",
    "\n",
    "import pandas as pd\n",
    "import numpy as np"
   ]
  },
  {
   "cell_type": "code",
   "execution_count": 2,
   "metadata": {
    "ExecuteTime": {
     "end_time": "2020-04-16T15:57:28.449870Z",
     "start_time": "2020-04-16T15:57:28.446211Z"
    }
   },
   "outputs": [],
   "source": [
    "sys.path.append('../src/')\n",
    "from utils import *\n",
    "pd.set_option(\"display.max_rows\", 100)\n",
    "pd.set_option(\"display.max_columns\", 100)"
   ]
  },
  {
   "cell_type": "code",
   "execution_count": 3,
   "metadata": {
    "ExecuteTime": {
     "end_time": "2020-04-16T15:57:28.845725Z",
     "start_time": "2020-04-16T15:57:28.824836Z"
    }
   },
   "outputs": [
    {
     "name": "stdout",
     "output_type": "stream",
     "text": [
      "Fernando Pozo \n",
      "last updated: Tue Dec 01 2020 20:04:10 CET \n",
      "\n",
      "pandas 1.0.4\n",
      "numpy 1.18.5\n",
      "Git hash: 5c22d671e317fb544b45b8b430b3ec63d8173175\n",
      "/local/fpozoc/projects/dev/ph-proteomics/notebooks\n"
     ]
    }
   ],
   "source": [
    "%load_ext autoreload\n",
    "%autoreload 2\n",
    "\n",
    "%load_ext watermark\n",
    "%watermark -a 'Fernando Pozo' -u -n -t -z -g -p pandas,numpy\n",
    "\n",
    "!pwd"
   ]
  },
  {
   "cell_type": "markdown",
   "metadata": {},
   "source": [
    "-----"
   ]
  },
  {
   "cell_type": "markdown",
   "metadata": {},
   "source": [
    "# 2. Data Loading <a class=\"anchor\" id=\"data-loading\"></a>"
   ]
  },
  {
   "cell_type": "markdown",
   "metadata": {},
   "source": [
    "To perfom the analysis of our motifs we are going to load the next datasets:\n",
    "- Our custom knock-out and wild-type files previously preprocessed in [`01_file-processing.ipynb`](01_file-processing.ipynb).\n",
    "- Multiple types of databases from [PhosphoSitePlus](https://www.phosphosite.org/staticDownloads).\n",
    "- Supplementary data from [*The functional landscape of the human phosphoproteome. Ochoa et al. 2019. Nat. bio.*](https://www.nature.com/articles/s41587-019-0344-3?draft=marketing)"
   ]
  },
  {
   "cell_type": "markdown",
   "metadata": {},
   "source": [
    "`res_id` will be our identifier to merge other sites: accession_id + '-' + S/T/Y + '-p'"
   ]
  },
  {
   "cell_type": "code",
   "execution_count": 4,
   "metadata": {},
   "outputs": [
    {
     "name": "stdout",
     "output_type": "stream",
     "text": [
      "Fasta shape = (71607, 4)\n"
     ]
    }
   ],
   "source": [
    "df_fastas = load_fasta('../data/raw/uniprot/uniprot-proteome-3AUP000005640.txt')"
   ]
  },
  {
   "cell_type": "code",
   "execution_count": 5,
   "metadata": {},
   "outputs": [],
   "source": [
    "df_exptypes = pd.read_csv('../data/interim/preprocessed_peptides.tsv.gz', compression='gzip', sep='\\t')\n",
    "df_exptypes = df_exptypes.rename(columns={'proteinName': 'ACC_ID'})\n",
    "df_exptypes['res_id'] = df_exptypes.apply(lambda row: row['ACC_ID'] + '-' + row['res-ptm'] + str(row['proteinSeq-loc']) + '-p', axis=1)\n",
    "df_exptypes = df_exptypes[['res_id', 'ACC_ID', 'geneName', 'res-ptm', 'kmer', 'peptide', 'proteinLen', 'proteinSeq']]\n",
    "df_exptypes = df_exptypes.drop_duplicates(['res_id']).reset_index(drop=True)"
   ]
  },
  {
   "cell_type": "code",
   "execution_count": 6,
   "metadata": {},
   "outputs": [
    {
     "data": {
      "text/html": [
       "<div>\n",
       "<style scoped>\n",
       "    .dataframe tbody tr th:only-of-type {\n",
       "        vertical-align: middle;\n",
       "    }\n",
       "\n",
       "    .dataframe tbody tr th {\n",
       "        vertical-align: top;\n",
       "    }\n",
       "\n",
       "    .dataframe thead th {\n",
       "        text-align: right;\n",
       "    }\n",
       "</style>\n",
       "<table border=\"1\" class=\"dataframe\">\n",
       "  <thead>\n",
       "    <tr style=\"text-align: right;\">\n",
       "      <th></th>\n",
       "      <th>res_id</th>\n",
       "      <th>ACC_ID</th>\n",
       "      <th>geneName</th>\n",
       "      <th>res-ptm</th>\n",
       "      <th>kmer</th>\n",
       "      <th>peptide</th>\n",
       "      <th>proteinLen</th>\n",
       "      <th>proteinSeq</th>\n",
       "    </tr>\n",
       "  </thead>\n",
       "  <tbody>\n",
       "    <tr>\n",
       "      <th>0</th>\n",
       "      <td>Q6EEV4-S10-p</td>\n",
       "      <td>Q6EEV4</td>\n",
       "      <td>POLR2M</td>\n",
       "      <td>S</td>\n",
       "      <td>PARAPESPPSADP</td>\n",
       "      <td>APESPPSADPALVAGPAEEAECPPPRQPQPAQNVLAAPR</td>\n",
       "      <td>148</td>\n",
       "      <td>MATPARAPESPPSADPALVAGPAEEAECPPPRQPQPAQNVLAAPRL...</td>\n",
       "    </tr>\n",
       "    <tr>\n",
       "      <th>1</th>\n",
       "      <td>Q9H6F5-S91-p</td>\n",
       "      <td>Q9H6F5</td>\n",
       "      <td>CCDC86</td>\n",
       "      <td>S</td>\n",
       "      <td>PEPGAASPQRQQD</td>\n",
       "      <td>LQQGAGLESPQGQPEPGAASPQRQQDLHLESPQR</td>\n",
       "      <td>360</td>\n",
       "      <td>MDTPLRRSRRLGGLRPESPESLTSVSRTRRALVEFESNPEETREPG...</td>\n",
       "    </tr>\n",
       "    <tr>\n",
       "      <th>2</th>\n",
       "      <td>P62328-T23-p</td>\n",
       "      <td>P62328</td>\n",
       "      <td>TMSB4X</td>\n",
       "      <td>T</td>\n",
       "      <td>KLKKTETQEKNPL</td>\n",
       "      <td>KTETQEKNPLPSK</td>\n",
       "      <td>44</td>\n",
       "      <td>MSDKPDMAEIEKFDKSKLKKTETQEKNPLPSKETIEQEKQAGES</td>\n",
       "    </tr>\n",
       "    <tr>\n",
       "      <th>3</th>\n",
       "      <td>P02765-S138-p</td>\n",
       "      <td>P02765</td>\n",
       "      <td>AHSG</td>\n",
       "      <td>S</td>\n",
       "      <td>CDSSPDSAEDVRK</td>\n",
       "      <td>CDSSPDSAEDVRK</td>\n",
       "      <td>367</td>\n",
       "      <td>MKSLVLLLCLAQLWGCHSAPHGPGLIYRQPNCDDPETEEAALVAID...</td>\n",
       "    </tr>\n",
       "    <tr>\n",
       "      <th>4</th>\n",
       "      <td>Q96F86-S131-p</td>\n",
       "      <td>Q96F86</td>\n",
       "      <td>EDC3</td>\n",
       "      <td>S</td>\n",
       "      <td>SQDVAVSPQQQQC</td>\n",
       "      <td>SQDVAVSPQQQQCSK</td>\n",
       "      <td>508</td>\n",
       "      <td>MATDWLGSIVSINCGDSLGVYQGRVSAVDQVSQTISLTRPFHNGVK...</td>\n",
       "    </tr>\n",
       "    <tr>\n",
       "      <th>...</th>\n",
       "      <td>...</td>\n",
       "      <td>...</td>\n",
       "      <td>...</td>\n",
       "      <td>...</td>\n",
       "      <td>...</td>\n",
       "      <td>...</td>\n",
       "      <td>...</td>\n",
       "      <td>...</td>\n",
       "    </tr>\n",
       "    <tr>\n",
       "      <th>7395</th>\n",
       "      <td>P24928-S1917-p</td>\n",
       "      <td>P24928</td>\n",
       "      <td>POLR2A</td>\n",
       "      <td>S</td>\n",
       "      <td>PTSPTYSPTSPKY</td>\n",
       "      <td>YSPTSPTYSPTSPK</td>\n",
       "      <td>1970</td>\n",
       "      <td>MHGGGPPSGDSACPLRTIKRVQFGVLSPDELKRMSVTEGGIKYPET...</td>\n",
       "    </tr>\n",
       "    <tr>\n",
       "      <th>7396</th>\n",
       "      <td>Q02880-S1375-p</td>\n",
       "      <td>Q02880</td>\n",
       "      <td>TOP2B</td>\n",
       "      <td>S</td>\n",
       "      <td>KYTFDFSEEEDDD</td>\n",
       "      <td>YTFDFSEEEDDDADDDDDDNNDLEELK</td>\n",
       "      <td>1626</td>\n",
       "      <td>MAKSGGCGAGAGVGGGNGALTWVTLFDQNNAAKKEESETANKNDSS...</td>\n",
       "    </tr>\n",
       "    <tr>\n",
       "      <th>7397</th>\n",
       "      <td>P24928-Y1839-p</td>\n",
       "      <td>P24928</td>\n",
       "      <td>POLR2A</td>\n",
       "      <td>Y</td>\n",
       "      <td>SPASPKYTPTSPS</td>\n",
       "      <td>YTPTSPSYSPSSPEYTPTSPK</td>\n",
       "      <td>1970</td>\n",
       "      <td>MHGGGPPSGDSACPLRTIKRVQFGVLSPDELKRMSVTEGGIKYPET...</td>\n",
       "    </tr>\n",
       "    <tr>\n",
       "      <th>7398</th>\n",
       "      <td>P24928-S1850-p</td>\n",
       "      <td>P24928</td>\n",
       "      <td>POLR2A</td>\n",
       "      <td>S</td>\n",
       "      <td>PSYSPSSPEYTPT</td>\n",
       "      <td>YTPTSPSYSPSSPEYTPTSPK</td>\n",
       "      <td>1970</td>\n",
       "      <td>MHGGGPPSGDSACPLRTIKRVQFGVLSPDELKRMSVTEGGIKYPET...</td>\n",
       "    </tr>\n",
       "    <tr>\n",
       "      <th>7399</th>\n",
       "      <td>P24928-S1845-p</td>\n",
       "      <td>P24928</td>\n",
       "      <td>POLR2A</td>\n",
       "      <td>S</td>\n",
       "      <td>YTPTSPSYSPSSP</td>\n",
       "      <td>YTPTSPSYSPSSPEYTPTSPK</td>\n",
       "      <td>1970</td>\n",
       "      <td>MHGGGPPSGDSACPLRTIKRVQFGVLSPDELKRMSVTEGGIKYPET...</td>\n",
       "    </tr>\n",
       "  </tbody>\n",
       "</table>\n",
       "<p>7400 rows × 8 columns</p>\n",
       "</div>"
      ],
      "text/plain": [
       "              res_id  ACC_ID geneName res-ptm           kmer  \\\n",
       "0       Q6EEV4-S10-p  Q6EEV4   POLR2M       S  PARAPESPPSADP   \n",
       "1       Q9H6F5-S91-p  Q9H6F5   CCDC86       S  PEPGAASPQRQQD   \n",
       "2       P62328-T23-p  P62328   TMSB4X       T  KLKKTETQEKNPL   \n",
       "3      P02765-S138-p  P02765     AHSG       S  CDSSPDSAEDVRK   \n",
       "4      Q96F86-S131-p  Q96F86     EDC3       S  SQDVAVSPQQQQC   \n",
       "...              ...     ...      ...     ...            ...   \n",
       "7395  P24928-S1917-p  P24928   POLR2A       S  PTSPTYSPTSPKY   \n",
       "7396  Q02880-S1375-p  Q02880    TOP2B       S  KYTFDFSEEEDDD   \n",
       "7397  P24928-Y1839-p  P24928   POLR2A       Y  SPASPKYTPTSPS   \n",
       "7398  P24928-S1850-p  P24928   POLR2A       S  PSYSPSSPEYTPT   \n",
       "7399  P24928-S1845-p  P24928   POLR2A       S  YTPTSPSYSPSSP   \n",
       "\n",
       "                                      peptide  proteinLen  \\\n",
       "0     APESPPSADPALVAGPAEEAECPPPRQPQPAQNVLAAPR         148   \n",
       "1          LQQGAGLESPQGQPEPGAASPQRQQDLHLESPQR         360   \n",
       "2                               KTETQEKNPLPSK          44   \n",
       "3                               CDSSPDSAEDVRK         367   \n",
       "4                             SQDVAVSPQQQQCSK         508   \n",
       "...                                       ...         ...   \n",
       "7395                           YSPTSPTYSPTSPK        1970   \n",
       "7396              YTFDFSEEEDDDADDDDDDNNDLEELK        1626   \n",
       "7397                    YTPTSPSYSPSSPEYTPTSPK        1970   \n",
       "7398                    YTPTSPSYSPSSPEYTPTSPK        1970   \n",
       "7399                    YTPTSPSYSPSSPEYTPTSPK        1970   \n",
       "\n",
       "                                             proteinSeq  \n",
       "0     MATPARAPESPPSADPALVAGPAEEAECPPPRQPQPAQNVLAAPRL...  \n",
       "1     MDTPLRRSRRLGGLRPESPESLTSVSRTRRALVEFESNPEETREPG...  \n",
       "2          MSDKPDMAEIEKFDKSKLKKTETQEKNPLPSKETIEQEKQAGES  \n",
       "3     MKSLVLLLCLAQLWGCHSAPHGPGLIYRQPNCDDPETEEAALVAID...  \n",
       "4     MATDWLGSIVSINCGDSLGVYQGRVSAVDQVSQTISLTRPFHNGVK...  \n",
       "...                                                 ...  \n",
       "7395  MHGGGPPSGDSACPLRTIKRVQFGVLSPDELKRMSVTEGGIKYPET...  \n",
       "7396  MAKSGGCGAGAGVGGGNGALTWVTLFDQNNAAKKEESETANKNDSS...  \n",
       "7397  MHGGGPPSGDSACPLRTIKRVQFGVLSPDELKRMSVTEGGIKYPET...  \n",
       "7398  MHGGGPPSGDSACPLRTIKRVQFGVLSPDELKRMSVTEGGIKYPET...  \n",
       "7399  MHGGGPPSGDSACPLRTIKRVQFGVLSPDELKRMSVTEGGIKYPET...  \n",
       "\n",
       "[7400 rows x 8 columns]"
      ]
     },
     "execution_count": 6,
     "metadata": {},
     "output_type": "execute_result"
    }
   ],
   "source": [
    "df_exptypes"
   ]
  },
  {
   "cell_type": "code",
   "execution_count": 7,
   "metadata": {},
   "outputs": [
    {
     "data": {
      "text/plain": [
       "res_id                                             Q6EEV4-S10-p\n",
       "ACC_ID                                                   Q6EEV4\n",
       "geneName                                                 POLR2M\n",
       "res-ptm                                                       S\n",
       "kmer                                              PARAPESPPSADP\n",
       "peptide                 APESPPSADPALVAGPAEEAECPPPRQPQPAQNVLAAPR\n",
       "proteinLen                                                  148\n",
       "proteinSeq    MATPARAPESPPSADPALVAGPAEEAECPPPRQPQPAQNVLAAPRL...\n",
       "Name: 0, dtype: object"
      ]
     },
     "execution_count": 7,
     "metadata": {},
     "output_type": "execute_result"
    }
   ],
   "source": [
    "df_exptypes.iloc[0]"
   ]
  },
  {
   "cell_type": "code",
   "execution_count": 8,
   "metadata": {},
   "outputs": [
    {
     "name": "stdout",
     "output_type": "stream",
     "text": [
      "We have 7400 different sites\n"
     ]
    }
   ],
   "source": [
    "print(f'We have {df_exptypes.shape[0]} different sites')"
   ]
  },
  {
   "cell_type": "code",
   "execution_count": 9,
   "metadata": {},
   "outputs": [
    {
     "data": {
      "text/html": [
       "<div>\n",
       "<style scoped>\n",
       "    .dataframe tbody tr th:only-of-type {\n",
       "        vertical-align: middle;\n",
       "    }\n",
       "\n",
       "    .dataframe tbody tr th {\n",
       "        vertical-align: top;\n",
       "    }\n",
       "\n",
       "    .dataframe thead th {\n",
       "        text-align: right;\n",
       "    }\n",
       "</style>\n",
       "<table border=\"1\" class=\"dataframe\">\n",
       "  <thead>\n",
       "    <tr style=\"text-align: right;\">\n",
       "      <th></th>\n",
       "      <th>res_id</th>\n",
       "      <th>ACC_ID</th>\n",
       "      <th>geneName</th>\n",
       "      <th>res-ptm</th>\n",
       "      <th>kmer</th>\n",
       "      <th>peptide</th>\n",
       "      <th>proteinLen</th>\n",
       "      <th>proteinSeq</th>\n",
       "    </tr>\n",
       "  </thead>\n",
       "  <tbody>\n",
       "    <tr>\n",
       "      <th>0</th>\n",
       "      <td>Q6EEV4-S10-p</td>\n",
       "      <td>Q6EEV4</td>\n",
       "      <td>POLR2M</td>\n",
       "      <td>S</td>\n",
       "      <td>PARAPESPPSADP</td>\n",
       "      <td>APESPPSADPALVAGPAEEAECPPPRQPQPAQNVLAAPR</td>\n",
       "      <td>148</td>\n",
       "      <td>MATPARAPESPPSADPALVAGPAEEAECPPPRQPQPAQNVLAAPRL...</td>\n",
       "    </tr>\n",
       "    <tr>\n",
       "      <th>1</th>\n",
       "      <td>Q9H6F5-S91-p</td>\n",
       "      <td>Q9H6F5</td>\n",
       "      <td>CCDC86</td>\n",
       "      <td>S</td>\n",
       "      <td>PEPGAASPQRQQD</td>\n",
       "      <td>LQQGAGLESPQGQPEPGAASPQRQQDLHLESPQR</td>\n",
       "      <td>360</td>\n",
       "      <td>MDTPLRRSRRLGGLRPESPESLTSVSRTRRALVEFESNPEETREPG...</td>\n",
       "    </tr>\n",
       "    <tr>\n",
       "      <th>2</th>\n",
       "      <td>P62328-T23-p</td>\n",
       "      <td>P62328</td>\n",
       "      <td>TMSB4X</td>\n",
       "      <td>T</td>\n",
       "      <td>KLKKTETQEKNPL</td>\n",
       "      <td>KTETQEKNPLPSK</td>\n",
       "      <td>44</td>\n",
       "      <td>MSDKPDMAEIEKFDKSKLKKTETQEKNPLPSKETIEQEKQAGES</td>\n",
       "    </tr>\n",
       "    <tr>\n",
       "      <th>3</th>\n",
       "      <td>P02765-S138-p</td>\n",
       "      <td>P02765</td>\n",
       "      <td>AHSG</td>\n",
       "      <td>S</td>\n",
       "      <td>CDSSPDSAEDVRK</td>\n",
       "      <td>CDSSPDSAEDVRK</td>\n",
       "      <td>367</td>\n",
       "      <td>MKSLVLLLCLAQLWGCHSAPHGPGLIYRQPNCDDPETEEAALVAID...</td>\n",
       "    </tr>\n",
       "    <tr>\n",
       "      <th>4</th>\n",
       "      <td>Q96F86-S131-p</td>\n",
       "      <td>Q96F86</td>\n",
       "      <td>EDC3</td>\n",
       "      <td>S</td>\n",
       "      <td>SQDVAVSPQQQQC</td>\n",
       "      <td>SQDVAVSPQQQQCSK</td>\n",
       "      <td>508</td>\n",
       "      <td>MATDWLGSIVSINCGDSLGVYQGRVSAVDQVSQTISLTRPFHNGVK...</td>\n",
       "    </tr>\n",
       "    <tr>\n",
       "      <th>...</th>\n",
       "      <td>...</td>\n",
       "      <td>...</td>\n",
       "      <td>...</td>\n",
       "      <td>...</td>\n",
       "      <td>...</td>\n",
       "      <td>...</td>\n",
       "      <td>...</td>\n",
       "      <td>...</td>\n",
       "    </tr>\n",
       "    <tr>\n",
       "      <th>7395</th>\n",
       "      <td>P24928-S1917-p</td>\n",
       "      <td>P24928</td>\n",
       "      <td>POLR2A</td>\n",
       "      <td>S</td>\n",
       "      <td>PTSPTYSPTSPKY</td>\n",
       "      <td>YSPTSPTYSPTSPK</td>\n",
       "      <td>1970</td>\n",
       "      <td>MHGGGPPSGDSACPLRTIKRVQFGVLSPDELKRMSVTEGGIKYPET...</td>\n",
       "    </tr>\n",
       "    <tr>\n",
       "      <th>7396</th>\n",
       "      <td>Q02880-S1375-p</td>\n",
       "      <td>Q02880</td>\n",
       "      <td>TOP2B</td>\n",
       "      <td>S</td>\n",
       "      <td>KYTFDFSEEEDDD</td>\n",
       "      <td>YTFDFSEEEDDDADDDDDDNNDLEELK</td>\n",
       "      <td>1626</td>\n",
       "      <td>MAKSGGCGAGAGVGGGNGALTWVTLFDQNNAAKKEESETANKNDSS...</td>\n",
       "    </tr>\n",
       "    <tr>\n",
       "      <th>7397</th>\n",
       "      <td>P24928-Y1839-p</td>\n",
       "      <td>P24928</td>\n",
       "      <td>POLR2A</td>\n",
       "      <td>Y</td>\n",
       "      <td>SPASPKYTPTSPS</td>\n",
       "      <td>YTPTSPSYSPSSPEYTPTSPK</td>\n",
       "      <td>1970</td>\n",
       "      <td>MHGGGPPSGDSACPLRTIKRVQFGVLSPDELKRMSVTEGGIKYPET...</td>\n",
       "    </tr>\n",
       "    <tr>\n",
       "      <th>7398</th>\n",
       "      <td>P24928-S1850-p</td>\n",
       "      <td>P24928</td>\n",
       "      <td>POLR2A</td>\n",
       "      <td>S</td>\n",
       "      <td>PSYSPSSPEYTPT</td>\n",
       "      <td>YTPTSPSYSPSSPEYTPTSPK</td>\n",
       "      <td>1970</td>\n",
       "      <td>MHGGGPPSGDSACPLRTIKRVQFGVLSPDELKRMSVTEGGIKYPET...</td>\n",
       "    </tr>\n",
       "    <tr>\n",
       "      <th>7399</th>\n",
       "      <td>P24928-S1845-p</td>\n",
       "      <td>P24928</td>\n",
       "      <td>POLR2A</td>\n",
       "      <td>S</td>\n",
       "      <td>YTPTSPSYSPSSP</td>\n",
       "      <td>YTPTSPSYSPSSPEYTPTSPK</td>\n",
       "      <td>1970</td>\n",
       "      <td>MHGGGPPSGDSACPLRTIKRVQFGVLSPDELKRMSVTEGGIKYPET...</td>\n",
       "    </tr>\n",
       "  </tbody>\n",
       "</table>\n",
       "<p>7400 rows × 8 columns</p>\n",
       "</div>"
      ],
      "text/plain": [
       "              res_id  ACC_ID geneName res-ptm           kmer  \\\n",
       "0       Q6EEV4-S10-p  Q6EEV4   POLR2M       S  PARAPESPPSADP   \n",
       "1       Q9H6F5-S91-p  Q9H6F5   CCDC86       S  PEPGAASPQRQQD   \n",
       "2       P62328-T23-p  P62328   TMSB4X       T  KLKKTETQEKNPL   \n",
       "3      P02765-S138-p  P02765     AHSG       S  CDSSPDSAEDVRK   \n",
       "4      Q96F86-S131-p  Q96F86     EDC3       S  SQDVAVSPQQQQC   \n",
       "...              ...     ...      ...     ...            ...   \n",
       "7395  P24928-S1917-p  P24928   POLR2A       S  PTSPTYSPTSPKY   \n",
       "7396  Q02880-S1375-p  Q02880    TOP2B       S  KYTFDFSEEEDDD   \n",
       "7397  P24928-Y1839-p  P24928   POLR2A       Y  SPASPKYTPTSPS   \n",
       "7398  P24928-S1850-p  P24928   POLR2A       S  PSYSPSSPEYTPT   \n",
       "7399  P24928-S1845-p  P24928   POLR2A       S  YTPTSPSYSPSSP   \n",
       "\n",
       "                                      peptide  proteinLen  \\\n",
       "0     APESPPSADPALVAGPAEEAECPPPRQPQPAQNVLAAPR         148   \n",
       "1          LQQGAGLESPQGQPEPGAASPQRQQDLHLESPQR         360   \n",
       "2                               KTETQEKNPLPSK          44   \n",
       "3                               CDSSPDSAEDVRK         367   \n",
       "4                             SQDVAVSPQQQQCSK         508   \n",
       "...                                       ...         ...   \n",
       "7395                           YSPTSPTYSPTSPK        1970   \n",
       "7396              YTFDFSEEEDDDADDDDDDNNDLEELK        1626   \n",
       "7397                    YTPTSPSYSPSSPEYTPTSPK        1970   \n",
       "7398                    YTPTSPSYSPSSPEYTPTSPK        1970   \n",
       "7399                    YTPTSPSYSPSSPEYTPTSPK        1970   \n",
       "\n",
       "                                             proteinSeq  \n",
       "0     MATPARAPESPPSADPALVAGPAEEAECPPPRQPQPAQNVLAAPRL...  \n",
       "1     MDTPLRRSRRLGGLRPESPESLTSVSRTRRALVEFESNPEETREPG...  \n",
       "2          MSDKPDMAEIEKFDKSKLKKTETQEKNPLPSKETIEQEKQAGES  \n",
       "3     MKSLVLLLCLAQLWGCHSAPHGPGLIYRQPNCDDPETEEAALVAID...  \n",
       "4     MATDWLGSIVSINCGDSLGVYQGRVSAVDQVSQTISLTRPFHNGVK...  \n",
       "...                                                 ...  \n",
       "7395  MHGGGPPSGDSACPLRTIKRVQFGVLSPDELKRMSVTEGGIKYPET...  \n",
       "7396  MAKSGGCGAGAGVGGGNGALTWVTLFDQNNAAKKEESETANKNDSS...  \n",
       "7397  MHGGGPPSGDSACPLRTIKRVQFGVLSPDELKRMSVTEGGIKYPET...  \n",
       "7398  MHGGGPPSGDSACPLRTIKRVQFGVLSPDELKRMSVTEGGIKYPET...  \n",
       "7399  MHGGGPPSGDSACPLRTIKRVQFGVLSPDELKRMSVTEGGIKYPET...  \n",
       "\n",
       "[7400 rows x 8 columns]"
      ]
     },
     "execution_count": 9,
     "metadata": {},
     "output_type": "execute_result"
    }
   ],
   "source": [
    "df_exptypes"
   ]
  },
  {
   "cell_type": "markdown",
   "metadata": {},
   "source": [
    "-----"
   ]
  },
  {
   "cell_type": "markdown",
   "metadata": {},
   "source": [
    "# 3. Data Exploration <a class=\"anchor\" id=\"data-exploration\"></a>"
   ]
  },
  {
   "cell_type": "markdown",
   "metadata": {},
   "source": [
    "## 3.1 PhosphoSitePlus <a class=\"anchor\" id=\"phosphositeplus\"></a>"
   ]
  },
  {
   "cell_type": "markdown",
   "metadata": {},
   "source": [
    "PhosphoSitePlus provides comprehensive information and tools for the study of protein post-translational modifications (PTMs) including phosphorylation, acetylation, and more. The web use is free for everyone including commercial. https://www.phosphosite.org/homeAction"
   ]
  },
  {
   "cell_type": "markdown",
   "metadata": {},
   "source": [
    "PTMVar dataset: maps and characterizes PostTranslational Modifications (phosphorlyation, ubiquitylation, acetylation, methylation and succinylation) that overlap with genetic variants associated with diseases and genetic polymorphisms. PTMVars can rewire signaling pathways, some of which are known to cause disease by modifying the function of the mutated protein. https://www.phosphosite.org/staticDownloads"
   ]
  },
  {
   "cell_type": "code",
   "execution_count": 10,
   "metadata": {},
   "outputs": [],
   "source": [
    "df_psp_sites = pd.read_csv('../data/raw/PhosphoSitePlus/Phosphorylation_site_dataset.gz', sep='\\t', compression='gzip', skiprows=3)\n",
    "df_psp_sites['res_id'] = df_psp_sites.apply(lambda row: str(row['ACC_ID']) + '-' + str(row['MOD_RSD']), axis=1)\n",
    "df_psp_sites = df_psp_sites.replace(np.nan, '-')\n",
    "df_psp_sites['notes'] = df_psp_sites.apply(lambda row: str(row['MW_kD'] )+ ';' + str(row['SITE_GRP_ID']) + ';' + str(row['DOMAIN']), axis=1)\n",
    "df_psp_sites = df_psp_sites.groupby(['res_id', 'SITE_+/-7_AA']).agg(lambda x: tuple(x)).applymap(list).reset_index()\n",
    "df_psp_sites = df_psp_sites[['res_id', 'ORGANISM', 'SITE_+/-7_AA', 'notes']]\n",
    "df_psp_sites.columns.values[1:] = ['PSP_' + str(col) for col in df_psp_sites.columns[1:]]\n",
    "df_psp_sites = replace_list_brackets(df_psp_sites)"
   ]
  },
  {
   "cell_type": "markdown",
   "metadata": {},
   "source": [
    "Disease-associated sites: information curated from the literature about modification sites shown to correlate with specific disease states"
   ]
  },
  {
   "cell_type": "code",
   "execution_count": 11,
   "metadata": {},
   "outputs": [],
   "source": [
    "df_psp_diseases = pd.read_csv('../data/raw/PhosphoSitePlus/Disease-associated_sites.gz', sep='\\t', compression='gzip', skiprows=3)\n",
    "df_psp_diseases['ACC_ID'] = df_psp_diseases['ACC_ID'].str.split('-').str[0]\n",
    "df_psp_diseases = df_psp_diseases.replace(np.nan, '-')\n",
    "df_psp_diseases['res_id'] = df_psp_diseases.apply(lambda row: row['ACC_ID'] + '-' + row['MOD_RSD'], axis=1)\n",
    "df_psp_diseases['disease'] = df_psp_diseases.apply(lambda row: str(row['DISEASE'] )+ ';' + str(row['ALTERATION']) + ';' + str(row['PMIDs']) + ';' + str(row['NOTES']), axis=1)\n",
    "df_psp_diseases = df_psp_diseases.groupby(['res_id', 'SITE_+/-7_AA']).agg(lambda x: tuple(x)).applymap(list).reset_index()\n",
    "df_psp_diseases = df_psp_diseases[['res_id', 'SITE_+/-7_AA', 'disease']]\n",
    "df_psp_diseases.columns.values[1:] = ['PSP_' + str(col) for col in df_psp_diseases.columns[1:]]\n",
    "df_psp_diseases = replace_list_brackets(df_psp_diseases)"
   ]
  },
  {
   "cell_type": "markdown",
   "metadata": {},
   "source": [
    "`disease_notes` is going to join [DISEASE, ALTERATION, PMIDs, NOTES]\n",
    "\n",
    "`phosphosite_notes` is going to join [ MW_kD, SITE_GRP_ID, DOMAIN]"
   ]
  },
  {
   "cell_type": "markdown",
   "metadata": {},
   "source": [
    "## 3.2 dbPTM <a class=\"anchor\" id=\"dbptm\"></a>"
   ]
  },
  {
   "cell_type": "markdown",
   "metadata": {},
   "source": [
    "dbPTM is an integrated resource for protein post-translational modifications (PTMs). Due to the importance of protein post-translational modifications (PTMs) in regulating biological processes, the dbPTM was developed as a comprehensive database by integrating experimentally verified PTMs from several databases and annotating the potential PTMs for all UniProtKB protein entries. The dbPTM has been maintained for over ten years with an attempt to provide comprehensively functional and structural analyses for post-translational modifications (PTMs)."
   ]
  },
  {
   "cell_type": "markdown",
   "metadata": {},
   "source": [
    "http://dbptm.mbc.nctu.edu.tw/"
   ]
  },
  {
   "cell_type": "code",
   "execution_count": 12,
   "metadata": {},
   "outputs": [],
   "source": [
    "df_dbptm = pd.read_csv('../data/raw/dbPTM/Phosphorylation.txt.gz', compression='gzip', sep='\\t', \n",
    "                      names=['gene_name', 'proteinName', 'proteinLoc', 'dbPTM_label', 'dbPTM_position', 'dbPTM_sequence'])\n",
    "df_dbptm['id'] = df_dbptm.apply(lambda row: str(row['proteinName']) + '-' + str(row['proteinLoc']) + '-p', axis=1)\n",
    "df_dbptm = df_dbptm[['id', 'dbPTM_label', 'dbPTM_position', 'dbPTM_sequence']]"
   ]
  },
  {
   "cell_type": "code",
   "execution_count": 13,
   "metadata": {},
   "outputs": [
    {
     "data": {
      "text/html": [
       "<div>\n",
       "<style scoped>\n",
       "    .dataframe tbody tr th:only-of-type {\n",
       "        vertical-align: middle;\n",
       "    }\n",
       "\n",
       "    .dataframe tbody tr th {\n",
       "        vertical-align: top;\n",
       "    }\n",
       "\n",
       "    .dataframe thead th {\n",
       "        text-align: right;\n",
       "    }\n",
       "</style>\n",
       "<table border=\"1\" class=\"dataframe\">\n",
       "  <thead>\n",
       "    <tr style=\"text-align: right;\">\n",
       "      <th></th>\n",
       "      <th>id</th>\n",
       "      <th>dbPTM_label</th>\n",
       "      <th>dbPTM_position</th>\n",
       "      <th>dbPTM_sequence</th>\n",
       "    </tr>\n",
       "  </thead>\n",
       "  <tbody>\n",
       "    <tr>\n",
       "      <th>0</th>\n",
       "      <td>P32234-295-p</td>\n",
       "      <td>Phosphorylation</td>\n",
       "      <td>22817900</td>\n",
       "      <td>MWEYLRLQRIYTKPKGQLPDY</td>\n",
       "    </tr>\n",
       "    <tr>\n",
       "      <th>1</th>\n",
       "      <td>P48347-209-p</td>\n",
       "      <td>Phosphorylation</td>\n",
       "      <td>23328941;23572148</td>\n",
       "      <td>AFDDAIAELDSLNEESYKDST</td>\n",
       "    </tr>\n",
       "    <tr>\n",
       "      <th>2</th>\n",
       "      <td>P48347-233-p</td>\n",
       "      <td>Phosphorylation</td>\n",
       "      <td>23572148</td>\n",
       "      <td>QLLRDNLTLWTSDLNEEGDER</td>\n",
       "    </tr>\n",
       "    <tr>\n",
       "      <th>3</th>\n",
       "      <td>P48347-234-p</td>\n",
       "      <td>Phosphorylation</td>\n",
       "      <td>18463617</td>\n",
       "      <td>LLRDNLTLWTSDLNEEGDERT</td>\n",
       "    </tr>\n",
       "    <tr>\n",
       "      <th>4</th>\n",
       "      <td>P48347-244-p</td>\n",
       "      <td>Phosphorylation</td>\n",
       "      <td>23572148;20466843;20733066;24243849;19880383</td>\n",
       "      <td>SDLNEEGDERTKGADEPQDEN</td>\n",
       "    </tr>\n",
       "    <tr>\n",
       "      <th>...</th>\n",
       "      <td>...</td>\n",
       "      <td>...</td>\n",
       "      <td>...</td>\n",
       "      <td>...</td>\n",
       "    </tr>\n",
       "    <tr>\n",
       "      <th>571026</th>\n",
       "      <td>Q6KAQ7-321-p</td>\n",
       "      <td>Phosphorylation</td>\n",
       "      <td>25338131</td>\n",
       "      <td>VSEIQSSLRDSEEEVDVVGDS</td>\n",
       "    </tr>\n",
       "    <tr>\n",
       "      <th>571027</th>\n",
       "      <td>Q6KAQ7-388-p</td>\n",
       "      <td>Phosphorylation</td>\n",
       "      <td>25338131</td>\n",
       "      <td>PQEHRYTLRTSPRRAALARSS</td>\n",
       "    </tr>\n",
       "    <tr>\n",
       "      <th>571028</th>\n",
       "      <td>Q6KAQ7-404-p</td>\n",
       "      <td>Phosphorylation</td>\n",
       "      <td>25338131</td>\n",
       "      <td>LARSSPTKTTSPYRENGQLEE</td>\n",
       "    </tr>\n",
       "    <tr>\n",
       "      <th>571029</th>\n",
       "      <td>Q6KAQ7-475-p</td>\n",
       "      <td>Phosphorylation</td>\n",
       "      <td>25338131</td>\n",
       "      <td>EARVNIGHLPSAKESASQHTA</td>\n",
       "    </tr>\n",
       "    <tr>\n",
       "      <th>571030</th>\n",
       "      <td>Q6KAQ7-613-p</td>\n",
       "      <td>Phosphorylation</td>\n",
       "      <td>22135298;25266776;25338131</td>\n",
       "      <td>DKVGLPARPKSPLDPKKDGES</td>\n",
       "    </tr>\n",
       "  </tbody>\n",
       "</table>\n",
       "<p>571031 rows × 4 columns</p>\n",
       "</div>"
      ],
      "text/plain": [
       "                  id      dbPTM_label  \\\n",
       "0       P32234-295-p  Phosphorylation   \n",
       "1       P48347-209-p  Phosphorylation   \n",
       "2       P48347-233-p  Phosphorylation   \n",
       "3       P48347-234-p  Phosphorylation   \n",
       "4       P48347-244-p  Phosphorylation   \n",
       "...              ...              ...   \n",
       "571026  Q6KAQ7-321-p  Phosphorylation   \n",
       "571027  Q6KAQ7-388-p  Phosphorylation   \n",
       "571028  Q6KAQ7-404-p  Phosphorylation   \n",
       "571029  Q6KAQ7-475-p  Phosphorylation   \n",
       "571030  Q6KAQ7-613-p  Phosphorylation   \n",
       "\n",
       "                                      dbPTM_position         dbPTM_sequence  \n",
       "0                                           22817900  MWEYLRLQRIYTKPKGQLPDY  \n",
       "1                                  23328941;23572148  AFDDAIAELDSLNEESYKDST  \n",
       "2                                           23572148  QLLRDNLTLWTSDLNEEGDER  \n",
       "3                                           18463617  LLRDNLTLWTSDLNEEGDERT  \n",
       "4       23572148;20466843;20733066;24243849;19880383  SDLNEEGDERTKGADEPQDEN  \n",
       "...                                              ...                    ...  \n",
       "571026                                      25338131  VSEIQSSLRDSEEEVDVVGDS  \n",
       "571027                                      25338131  PQEHRYTLRTSPRRAALARSS  \n",
       "571028                                      25338131  LARSSPTKTTSPYRENGQLEE  \n",
       "571029                                      25338131  EARVNIGHLPSAKESASQHTA  \n",
       "571030                    22135298;25266776;25338131  DKVGLPARPKSPLDPKKDGES  \n",
       "\n",
       "[571031 rows x 4 columns]"
      ]
     },
     "execution_count": 13,
     "metadata": {},
     "output_type": "execute_result"
    }
   ],
   "source": [
    "df_dbptm"
   ]
  },
  {
   "cell_type": "markdown",
   "metadata": {},
   "source": [
    "## 3.3 The functional landscape of the human phosphoproteome <a class=\"anchor\" id=\"tflhp\"></a>"
   ]
  },
  {
   "cell_type": "markdown",
   "metadata": {},
   "source": [
    "Protein phosphorylation is a key post-translational modification regulating protein function in almost all cellular processes. Although tens of thousands of phosphorylation sites have been identified in human cells, approaches to determine the functional importance of each phosphosite are lacking. Here, we manually curated 112 datasets of phospho-enriched proteins, generated from 104 different human cell types or tissues. We re-analyzed the 6,801 proteomics experiments that passed our quality control criteria, creating a reference phosphoproteome containing 119,809 human phosphosites. To prioritize functional sites, we used machine learning to identify 59 features indicative of proteomic, structural, regulatory or evolutionary relevance and integrate them into a single functional score. Our approach identifies regulatory phosphosites across different molecular mechanisms, processes and diseases, and reveals genetic susceptibilities at a genomic scale."
   ]
  },
  {
   "cell_type": "markdown",
   "metadata": {},
   "source": [
    "https://www.nature.com/articles/s41587-019-0344-3#Sec9"
   ]
  },
  {
   "cell_type": "markdown",
   "metadata": {},
   "source": [
    "- **Supplementary Table 2**: Annotated phosphoproteome features that might indicate phosphosite function for the 116,258 sites contained in the subset of 21,009 reviewed proteins within the human UniProt reference proteome (https://static-content.springer.com/esm/art%3A10.1038%2Fs41587-019-0344-3/MediaObjects/41587_2019_344_MOESM4_ESM.xlsx).\n",
    "- **Supplementary Table 3**: Phosphosite functional scores of 116,258 scored sites contained in the subset of 21,009 reviewed proteins within the human UniProt reference proteome (https://static-content.springer.com/esm/art%3A10.1038%2Fs41587-019-0344-3/MediaObjects/41587_2019_344_MOESM5_ESM.xlsx)."
   ]
  },
  {
   "cell_type": "code",
   "execution_count": 14,
   "metadata": {},
   "outputs": [],
   "source": [
    "df_ochoa_annotations = pd.read_excel('../data/raw/ochoa/supplementary/41587_2019_344_MOESM4_ESM.xlsx', sheet_name='feature_coverage', comment='#')"
   ]
  },
  {
   "cell_type": "code",
   "execution_count": 15,
   "metadata": {},
   "outputs": [],
   "source": [
    "df_ochoa_score = pd.read_excel('../data/raw/ochoa/supplementary/41587_2019_344_MOESM5_ESM.xlsx')\n",
    "df_ochoa_score['id'] = df_ochoa_score.apply(lambda row: str(row['uniprot']) + '-' + str(row['position']), axis=1)\n",
    "df_ochoa_score = df_ochoa_score[['id', 'functional_score']]\n",
    "\n",
    "df_ochoa_features = pd.read_excel('../data/raw/ochoa/supplementary/41587_2019_344_MOESM4_ESM.xlsx', sheet_name='annotated_phosphoproteome')\n",
    "df_ochoa_features.insert(0, 'id', df_ochoa_features.apply(lambda row: str(row['uniprot']) + '-' + str(row['position']), axis=1))\n",
    "# df_ochoa_features = df_ochoa_features[['id', 'MQ_siteid',\n",
    "#                    'biological_samples', 'best_PEP', 'best_localization_prob',\n",
    "#                    'spectralcounts','netpho_max_all', 'netpho_max_KIN', 'netpho_max_STdomain',\n",
    "#                    'PWM_max_mss','PWM_nkinTop005','PWM_nkinTop01','PWM_nkinTop02',\n",
    "#                    'disopred_score','is_disopred','ACCpro','SSpro','SSpro8','sift_acid_score',\n",
    "#                    'sift_ala_score','sift_mean_score','sift_min_score','w0_ancestor_name','w0_mya',\n",
    "#                    'w3_ancestor_name','w3_mya','pubmed_counts','quant_top1','quant_top10','quant_top5',\n",
    "#                    'adj_ptms_w21','isHotspot']] \n",
    "df_ochoa = pd.merge(df_ochoa_score, df_ochoa_features, how='left', on='id')\n",
    "df_ochoa.insert(0, 'res_id', df_ochoa.apply(lambda row: str(row['uniprot']) + '-' + str(row['residue']) + str(row['position']) + '-p', axis=1))\n",
    "df_ochoa = df_ochoa.drop('id', axis=1)\n",
    "df_ochoa.columns.values[1:] = ['TFLHP_' + str(col) for col in df_ochoa.columns[1:]]"
   ]
  },
  {
   "cell_type": "markdown",
   "metadata": {},
   "source": [
    "## 3.4 Phospho.ELM <a class=\"anchor\" id=\"phosphoelm\"></a>"
   ]
  },
  {
   "cell_type": "markdown",
   "metadata": {},
   "source": [
    "Phospho.ELM a database of S/T/Y phosphorylation sites."
   ]
  },
  {
   "cell_type": "markdown",
   "metadata": {},
   "source": [
    "Phospho.ELM version 9.0 contains 8,718 substrate proteins covering 3,370 tyrosine, 31,754 serine and 7,449 threonine instances (including data from high-throughput experiments)."
   ]
  },
  {
   "cell_type": "markdown",
   "metadata": {},
   "source": [
    "https://academic.oup.com/nar/article/39/suppl_1/D261/2506728"
   ]
  },
  {
   "cell_type": "code",
   "execution_count": 16,
   "metadata": {},
   "outputs": [],
   "source": [
    "df_pelm = pd.read_csv('../data/raw/Phospho.ELM/phosphoELM_all_latest.dump.tgz', sep='\\t', compression='gzip')\n",
    "df_pelm = df_pelm[~df_pelm['phosphoELM_all_2015-04.dump'].isnull()]\n",
    "df_pelm['phosphoELM_all_2015-04.dump'] = df_pelm['phosphoELM_all_2015-04.dump'].str.split('.').str[0]\n",
    "df_pelm['position'] = df_pelm['position'].astype(float).astype(int)\n",
    "df_pelm['res_id'] = df_pelm.apply(lambda row: row['phosphoELM_all_2015-04.dump'] + '-' + row['code'] + str(int(row['position'])) + '-p', axis=1)\n",
    "df_pelm = df_pelm.replace(np.nan, '-')\n",
    "df_pelm = df_pelm[df_pelm['kinases'] != '-']\n",
    "df_pelm = df_pelm.groupby('res_id').agg(lambda x: tuple(x)).applymap(list).reset_index()\n",
    "df_pelm = replace_list_brackets(df_pelm)\n",
    "df_pelm = df_pelm[df_pelm['species'].str.contains('Homo sapiens')]\n",
    "df_pelm = df_pelm[~df_pelm['res_id'].str.startswith('ENSP')]\n",
    "df_pelm = df_pelm[['res_id', 'pmids', 'kinases']]\n",
    "df_pelm.columns.values[1:] = ['Phospho.ELM_' + str(col) for col in df_pelm.columns[1:]]"
   ]
  },
  {
   "cell_type": "markdown",
   "metadata": {},
   "source": [
    "## 3.5 Quokka <a class=\"anchor\" id=\"quokka\"></a>"
   ]
  },
  {
   "cell_type": "markdown",
   "metadata": {},
   "source": [
    "A comprehensive tool for rapid and accurate prediction of kinase-specific phosphorylation sites in the human proteome"
   ]
  },
  {
   "cell_type": "markdown",
   "metadata": {},
   "source": [
    "Kinase-regulated phosphorylation is a ubiquitous type of post-translational modification (PTM) in both eukaryotic and prokaryotic cells. Phosphorylation plays fundamental roles in many signalling pathways and biological processes, such as protein degradation and protein-protein interactions, and experimental studies have revealed that signalling defects caused by aberrant phosphorylation are highly associated with a variety of human diseases, especially cancers. In light of this, a number of computational methods aiming to accurately predict protein kinase-specific phosphorylation sites have been established, thereby facilitating phosphoproteomic data analysis. In this work, we present Quokka, a novel bioinformatics tool that allows users to rapidly and accurately identify human kinase-regulated phosphorylation sites. Quokka provides users with multiple prediction models, including a variety of sequence scoring functions and a logistic regression algorithm. A variety of experimental studies based on both benchmark and independent test datasets demonstrate that Quokka improves the prediction performance compared with state-of-the-art computational tools for phosphorylation prediction. We anticipate that Quokka will provide users with high-quality predicted human phosphorylation sites for hypothesis generation and further biological validation. "
   ]
  },
  {
   "cell_type": "markdown",
   "metadata": {},
   "source": [
    "http://quokka.erc.monash.edu/"
   ]
  },
  {
   "cell_type": "markdown",
   "metadata": {},
   "source": [
    "https://pubmed.ncbi.nlm.nih.gov/29947803/"
   ]
  },
  {
   "cell_type": "code",
   "execution_count": 17,
   "metadata": {},
   "outputs": [],
   "source": [
    "def parse_quokka(filepath):\n",
    "    df = pd.read_excel(filepath, header=None, skiprows=1)\n",
    "    df['kinase_name'] = os.path.basename(filepath).split('.')[0]\n",
    "    return df \n",
    "\n",
    "df_quokka = pd.concat([parse_quokka(filepath) for filepath in glob.glob('../data/raw/quokka/*')])\n",
    "df_quokka.columns = ['ACC_ID', 'position',  'Quokka_kinase_score', 'Quokka_kinase_name']\n",
    "\n",
    "df_quokka['id'] = df_quokka.apply(lambda row: row['ACC_ID'] + '-' + str(row['position']) + '-p', axis=1)\n",
    "df_quokka = df_quokka.drop(['ACC_ID', 'position'], axis=1)\n",
    "df_quokka = df_quokka.groupby(['id']).agg(lambda x: tuple(x)).applymap(list).reset_index()\n",
    "df_quokka = replace_list_brackets(df_quokka)\n",
    "df_quokka['Quokka_kinase_score'] = df_quokka['Quokka_kinase_score'].apply(lambda x: str(x).replace(\"[\",\"\").replace(\"]\",\"\"))"
   ]
  },
  {
   "cell_type": "markdown",
   "metadata": {},
   "source": [
    "## 3.6 ProteomeScout <a class=\"anchor\" id=\"proteomescout\"></a>"
   ]
  },
  {
   "cell_type": "markdown",
   "metadata": {},
   "source": [
    "ProteomeScout is a database of proteins and post-translational modifications"
   ]
  },
  {
   "cell_type": "markdown",
   "metadata": {},
   "source": [
    "https://proteomescout.wustl.edu/"
   ]
  },
  {
   "cell_type": "markdown",
   "metadata": {},
   "source": [
    "https://pubmed.ncbi.nlm.nih.gov/25414335/"
   ]
  },
  {
   "cell_type": "code",
   "execution_count": 18,
   "metadata": {},
   "outputs": [],
   "source": [
    "df_proteomescout = pd.read_csv('../data/raw/ProteomeScout/data.tsv', sep='\\t')\n",
    "df_proteomescout['ACC_ID'] = df_proteomescout['accessions'].str.split(';').str[0]\n",
    "df_proteomescout['modifications'] = df_proteomescout['modifications'].str.split(';').to_list()\n",
    "df_proteomescout = df_proteomescout.explode('modifications').reset_index(drop=True)\n",
    "df_proteomescout['modifications'] = df_proteomescout['modifications'].str.split('-').str[0] + '-p'\n",
    "df_proteomescout['modifications'] = df_proteomescout['modifications'].str.strip()\n",
    "df_proteomescout['res_id'] = df_proteomescout.apply(lambda row: str(row['ACC_ID']) + '-' + str(row['modifications']), axis=1)\n",
    "df_proteomescout = df_proteomescout.loc[df_proteomescout['species'].str.contains('homo sapiens')]\n",
    "df_proteomescout = df_proteomescout[['res_id', 'evidence', 'pfam_domains', 'uniprot_domains', \n",
    "                  'kinase_loops', 'macro_molecular', 'topological', 'structure', \n",
    "                  'scansite_predictions', 'GO_terms', 'mutations', 'mutation_annotations']]\n",
    "df_proteomescout = df_proteomescout.replace(np.nan, '-')\n",
    "df_proteomescout = df_proteomescout.groupby('res_id').agg(lambda x: tuple(x)).applymap(list).reset_index()\n",
    "df_proteomescout.columns.values[1:] = ['ProteomeScout_' + str(col) for col in df_proteomescout.columns[1:]]\n",
    "df_proteomescout = replace_list_brackets(df_proteomescout)"
   ]
  },
  {
   "cell_type": "markdown",
   "metadata": {},
   "source": [
    "-----"
   ]
  },
  {
   "cell_type": "markdown",
   "metadata": {},
   "source": [
    "# 4. Data merging <a class=\"anchor\" id=\"data-merging\"></a>"
   ]
  },
  {
   "cell_type": "markdown",
   "metadata": {},
   "source": [
    "## 4.1 Human phosphoproteome database <a class=\"anchor\" id=\"human-phosphoproteome-database\"></a>"
   ]
  },
  {
   "cell_type": "code",
   "execution_count": 19,
   "metadata": {},
   "outputs": [],
   "source": [
    "# merging with PhosphoSitePlus\n",
    "df_phosphosites = pd.merge(df_psp_sites, df_psp_diseases, on=['res_id', 'PSP_SITE_+/-7_AA'], how='left')\n",
    "\n",
    "# merging with Phospho.ELM\n",
    "df_phosphosites = pd.merge(df_phosphosites, df_pelm, on='res_id', how='outer')\n",
    "\n",
    "# merging with ProteomeScout\n",
    "df_phosphosites = pd.merge(df_phosphosites, df_proteomescout, on='res_id', how='outer')\n",
    "\n",
    "# merging with The functional landscape of the human phosphoproteome\n",
    "df_phosphosites = pd.merge(df_phosphosites, df_ochoa, on='res_id', how='outer')\n",
    "\n",
    "# merging with Quokka \n",
    "df_phosphosites['id'] = df_phosphosites['res_id'].str.replace(r\"-([A-Z])\", '-')\n",
    "df_phosphosites = pd.merge(df_phosphosites, df_quokka, on='id', how='outer')\n",
    "\n",
    "df_phosphosites = df_phosphosites.loc[~df_phosphosites['res_id'].isnull()]\n",
    "\n",
    "df_phosphosites = df_phosphosites.drop('id', axis=1).replace(np.nan, '-')\n",
    "\n",
    "df_phosphosites.to_csv('../data/interim/phosphosites_human.tsv.gz', index=None, sep='\\t', compression='gzip')"
   ]
  },
  {
   "cell_type": "markdown",
   "metadata": {},
   "source": [
    "## 4.2 Merging with our phosphopeptides <a class=\"anchor\" id=\"merging-with-our-phosphopeptides\"></a>"
   ]
  },
  {
   "cell_type": "code",
   "execution_count": 21,
   "metadata": {},
   "outputs": [],
   "source": [
    "df_merged = pd.merge(df_exptypes, df_phosphosites, on='res_id', how='left')\n",
    "df_merged = df_merged.replace(np.nan, '-')\n",
    "df_merged.loc[(df_merged['PSP_ORGANISM'] == '-') & \n",
    "              (df_merged['Phospho.ELM_kinases'] == '-' ) & \n",
    "              (df_merged['ProteomeScout_evidence'] == '-') & \n",
    "              (df_merged['TFLHP_functional_score'] == '-') & \n",
    "              (df_merged['Quokka_kinase_score'] == '-'), 'status'\n",
    "             ] = 'novel'\n",
    "df_merged.loc[df_merged['status'] != 'novel', 'status'] = 'annotated'\n",
    "df_merged.to_csv('../data/interim/preprocessed_peptides.nr.psp.tsv.gz', index=None, sep='\\t', compression='gzip')"
   ]
  },
  {
   "cell_type": "code",
   "execution_count": 22,
   "metadata": {},
   "outputs": [
    {
     "data": {
      "text/plain": [
       "annotated    7121\n",
       "novel         279\n",
       "Name: status, dtype: int64"
      ]
     },
     "execution_count": 22,
     "metadata": {},
     "output_type": "execute_result"
    }
   ],
   "source": [
    "df_merged.status.value_counts()"
   ]
  },
  {
   "cell_type": "code",
   "execution_count": 24,
   "metadata": {},
   "outputs": [],
   "source": [
    "# df_merged.loc[df_merged['FTestQValueWTvsKO'] != '-'].loc[df_merged['TFLHP_functional_score'] != '-'].sort_values(by='TFLHP_functional_score', ascending=False)"
   ]
  },
  {
   "cell_type": "markdown",
   "metadata": {},
   "source": [
    "-----"
   ]
  },
  {
   "cell_type": "markdown",
   "metadata": {},
   "source": [
    "# 5. Motif identification <a class=\"anchor\" id=\"motif-identification\"></a>"
   ]
  },
  {
   "cell_type": "code",
   "execution_count": null,
   "metadata": {},
   "outputs": [],
   "source": [
    "# saving novels (foreground)\n",
    "df_merged[(df_merged['status'] == 'novel') & (df_merged['res-ptm'] == 'S')]['kmer'].to_csv('../data/interim/serine_fg.tsv', sep='\\t', index=None, header=None)\n",
    "df_merged[(df_merged['status'] == 'novel') & (df_merged['res-ptm'] == 'T')]['kmer'].to_csv('../data/interim/threonine_fg.tsv', sep='\\t', index=None, header=None)\n",
    "df_merged[(df_merged['status'] == 'novel') & (df_merged['res-ptm'] == 'Y')]['kmer'].to_csv('../data/interim/tyrosine_fg.tsv', sep='\\t', index=None, header=None)\n",
    "\n",
    "# saving backgrounds\n",
    "bg = pd.read_csv('../data/interim/sty.13mers.3AUP000005640.tsv.gz', sep='\\t')\n",
    "bg[bg['res'] == 'S']['kmer'].to_csv('../data/interim/serine_bg.tsv', sep='\\t', index=None, header=None)\n",
    "bg[bg['res'] == 'T']['kmer'].to_csv('../data/interim/threonine_bg.tsv', sep='\\t', index=None, header=None)\n",
    "bg[bg['res'] == 'Y']['kmer'].to_csv('../data/interim/tyrosine_bg.tsv', sep='\\t', index=None, header=None)"
   ]
  },
  {
   "cell_type": "markdown",
   "metadata": {},
   "source": [
    "-----"
   ]
  },
  {
   "cell_type": "markdown",
   "metadata": {
    "cell_style": "center"
   },
   "source": [
    "# 6. Project contribution <a class=\"anchor\" id=\"project-contribution\"></a>"
   ]
  },
  {
   "cell_type": "markdown",
   "metadata": {},
   "source": [
    "**Author information**:\n",
    "Fernando Pozo ([@fpozoc](https://gitlab.com/fpozoc))\n",
    "\n",
    "You can find the data driven project jupyter notebook template [here](https://gitlab.com/fpozoc/data-driven-project-template/-/blob/master/notebooks/1.0-nb_template.ipynb)."
   ]
  },
  {
   "cell_type": "code",
   "execution_count": null,
   "metadata": {},
   "outputs": [],
   "source": []
  }
 ],
 "metadata": {
  "kernelspec": {
   "display_name": "Python 3",
   "language": "python",
   "name": "python3"
  },
  "language_info": {
   "codemirror_mode": {
    "name": "ipython",
    "version": 3
   },
   "file_extension": ".py",
   "mimetype": "text/x-python",
   "name": "python",
   "nbconvert_exporter": "python",
   "pygments_lexer": "ipython3",
   "version": "3.7.10"
  },
  "varInspector": {
   "cols": {
    "lenName": 16,
    "lenType": 16,
    "lenVar": 40
   },
   "kernels_config": {
    "python": {
     "delete_cmd_postfix": "",
     "delete_cmd_prefix": "del ",
     "library": "var_list.py",
     "varRefreshCmd": "print(var_dic_list())"
    },
    "r": {
     "delete_cmd_postfix": ") ",
     "delete_cmd_prefix": "rm(",
     "library": "var_list.r",
     "varRefreshCmd": "cat(var_dic_list()) "
    }
   },
   "types_to_exclude": [
    "module",
    "function",
    "builtin_function_or_method",
    "instance",
    "_Feature"
   ],
   "window_display": false
  }
 },
 "nbformat": 4,
 "nbformat_minor": 4
}
