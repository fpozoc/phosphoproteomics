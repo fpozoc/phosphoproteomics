{
 "cells": [
  {
   "cell_type": "markdown",
   "metadata": {},
   "source": [
    "# PO-4"
   ]
  },
  {
   "cell_type": "markdown",
   "metadata": {},
   "source": [
    "Section 4: Are the phospho-peptides: Acidic-, basic-,proline-,asparagine-, or hydrophobic-directed?"
   ]
  },
  {
   "cell_type": "markdown",
   "metadata": {},
   "source": [
    "# 1. Introduction <a class=\"anchor\" id=\"introduction\"></a>"
   ]
  },
  {
   "cell_type": "markdown",
   "metadata": {},
   "source": [
    "## 1.1 Table of Contents <a class=\"anchor\" id=\"table-of-contents\"></a>"
   ]
  },
  {
   "cell_type": "markdown",
   "metadata": {
    "ExecuteTime": {
     "end_time": "2020-04-16T15:32:25.662741Z",
     "start_time": "2020-04-16T15:32:25.655434Z"
    }
   },
   "source": [
    "* [1. Introduction](#introduction)\n",
    "    * [1.1 Table of Contents](#table-of-contents)\n",
    "    * [1.2 Project Description](#project-description)\n",
    "    * [1.3 Packages](#packages)\n",
    "        * [1.3.1 Python and 3rd party libraries](#python-and-third-party-libraries)\n",
    "        * [1.3.2 Custom packages](#custom-packages)\n",
    "        * [1.3.3 Magic functions](#magic-functions)\n",
    "        * [1.3.4 Reproducibility](#reproducibility)\n",
    "* [2. Data Loading](#data-loading)\n",
    "* [3. Data Exploration](#data-exploration)\n",
    "* [4. Data Preprocessing](#data-preprocessing)\n",
    "* [5. Modeling](#modeling)\n",
    "* [6. Functions](#functions)\n",
    "* [7. References](#references)\n",
    "* [8. Project contribution](#project-contribution)"
   ]
  },
  {
   "cell_type": "markdown",
   "metadata": {},
   "source": [
    "## 1.2 Project Description <a class=\"anchor\" id=\"project-description\"></a>"
   ]
  },
  {
   "cell_type": "markdown",
   "metadata": {},
   "source": [
    "Brief description of what are you using in this notebook."
   ]
  },
  {
   "cell_type": "markdown",
   "metadata": {},
   "source": [
    "## 1.3 Packages <a class=\"anchor\" id=\"packages\"></a>"
   ]
  },
  {
   "cell_type": "markdown",
   "metadata": {},
   "source": [
    "### 1.3.1 Python and 3rd party libraries <a class=\"anchor\" id=\"python-and-third-party-libraries\"></a>"
   ]
  },
  {
   "cell_type": "code",
   "execution_count": 1,
   "metadata": {
    "ExecuteTime": {
     "end_time": "2020-04-16T15:57:28.080865Z",
     "start_time": "2020-04-16T15:57:28.076022Z"
    }
   },
   "outputs": [],
   "source": [
    "import glob, os, sys\n",
    "import warnings\n",
    "warnings.filterwarnings('ignore')\n",
    "\n",
    "import pandas as pd\n",
    "import numpy as np\n",
    "\n",
    "import matplotlib.pyplot as plt\n",
    "from matplotlib import rc"
   ]
  },
  {
   "cell_type": "markdown",
   "metadata": {},
   "source": [
    "###  1.3.2 Custom packages <a class=\"anchor\" id=\"custom-packages\"></a>"
   ]
  },
  {
   "cell_type": "code",
   "execution_count": 2,
   "metadata": {
    "ExecuteTime": {
     "end_time": "2020-04-16T15:57:28.449870Z",
     "start_time": "2020-04-16T15:57:28.446211Z"
    }
   },
   "outputs": [],
   "source": [
    "sys.path.append('./')\n",
    "# from . import ., ."
   ]
  },
  {
   "cell_type": "markdown",
   "metadata": {},
   "source": [
    "### 1.3.3 Magic functions <a class=\"anchor\" id=\"magic-functions\"></a>"
   ]
  },
  {
   "cell_type": "code",
   "execution_count": 3,
   "metadata": {
    "ExecuteTime": {
     "end_time": "2020-04-16T15:57:28.845725Z",
     "start_time": "2020-04-16T15:57:28.824836Z"
    }
   },
   "outputs": [],
   "source": [
    "%load_ext autoreload\n",
    "%autoreload 2"
   ]
  },
  {
   "cell_type": "markdown",
   "metadata": {},
   "source": [
    "### 1.3.4 Reproducibility <a class=\"anchor\" id=\"reproducibility\"></a>"
   ]
  },
  {
   "cell_type": "code",
   "execution_count": 4,
   "metadata": {
    "ExecuteTime": {
     "end_time": "2020-04-16T15:57:29.393127Z",
     "start_time": "2020-04-16T15:57:29.149945Z"
    }
   },
   "outputs": [
    {
     "name": "stdout",
     "output_type": "stream",
     "text": [
      "Fernando Pozo \n",
      "last updated: Mon Sep 14 2020 11:44:41 CEST \n",
      "\n",
      "pandas 1.0.4\n",
      "numpy 1.18.5\n",
      "Git hash: cefe14675e7c07123ef09f36d71551826a082e93\n",
      "/local/fpozoc/projects/dev/ph-proteomics/notebooks\n"
     ]
    }
   ],
   "source": [
    "#### !pip install watermark\n",
    "#### rasbt watermark https://github.com/rasbt/watermark\n",
    "%load_ext watermark\n",
    "%watermark -a 'Fernando Pozo' -u -n -t -z -g -p pandas,numpy\n",
    "\n",
    "!pwd"
   ]
  },
  {
   "cell_type": "markdown",
   "metadata": {},
   "source": [
    "# 2. Data Loading <a class=\"anchor\" id=\"data-loading\"></a>"
   ]
  },
  {
   "cell_type": "markdown",
   "metadata": {},
   "source": [
    "Treeck \n",
    "\n",
    "D) Phosphorylation motif analysis. Phosphorylation motif analysis was performed using the\n",
    "motif-x algorithm. All identified phosphorylation motifs were classified as one of six\n",
    "phosphorylation motif categories (acidic-, basic-, proline-, asparagine- or hydrophobicdirected or “other”). Motifs were assigned using binary decision tree: P in the +1 position\n",
    "(proline-directed), [R/K] in the -3 position (basic), [D/E] in the +1- +3 position, >2 [D/E] in\n",
    "the +1-+6 position (acidic), [F/I/L/M] in the +1 position (hydrophobic), or [N] in any\n",
    "specific position over background (asparagine). See also supplementary Figure S2 and Table\n",
    "S2."
   ]
  },
  {
   "cell_type": "code",
   "execution_count": 5,
   "metadata": {},
   "outputs": [],
   "source": [
    "df_exptypes = pd.read_csv('../data/interim/preprocessed_peptides.tsv.gz', compression='gzip', sep='\\t')\n",
    "df_exptypes['res_id'] = df_exptypes.apply(lambda row: row['proteinName'] + '-' + row['res-ptm'] + str(row['proteinSeq-loc']) + '-p', axis=1)\n",
    "df_bioc = df_exptypes[['type', 'res_id', 'kmer']]"
   ]
  },
  {
   "cell_type": "code",
   "execution_count": 6,
   "metadata": {},
   "outputs": [],
   "source": [
    "def generate_motifs_categories(df:list)->list:\n",
    "    df[['k-drop1', 'k-6','k-5','k-4','k-3','k-2','k-1','k-ptm','k+1','k+2','k+3','k+4','k+5','k+6', 'k-drop2']] = df['kmer'].str.split('', expand=True)\n",
    "    df = df.drop(['k-drop1', 'k-drop2'], axis=1)\n",
    "\n",
    "    df.loc[df['k+1'].str.contains('P'), 'Proline-directed'] = 1\n",
    "\n",
    "    df.loc[df['k-3'].str.contains('R|K'), 'Basic'] = 1\n",
    "\n",
    "    for column in df[df.columns[6:9]]:\n",
    "        df.loc[df[column].str.contains('D|E'), 'Acidic'] = 1\n",
    "\n",
    "    for column in df[df.columns[10:16]]:\n",
    "        df.loc[df[column].str.contains('D|E'), 'Acidic'] = 1\n",
    "\n",
    "    df.loc[df['k+1'].str.contains('F|I|L|M'), 'Hydrophobic'] = 1\n",
    "\n",
    "    for column in df[df.columns[3:16]]:\n",
    "        df.loc[df[column].str.contains('N'), 'Asparagine'] = 1\n",
    "\n",
    "    df.loc[df['Proline-directed'] == 1, df.columns[17:]] = 0\n",
    "    df.loc[df['Basic'] == 1, df.columns[18:]] = 0\n",
    "    df.loc[df['Acidic'] == 1, df.columns[19:]] = 0\n",
    "    df.loc[df['Hydrophobic'] == 1, df.columns[20:]] = 0\n",
    "    df = df.fillna(0)\n",
    "    df_results = df[df.columns[16:]].sum(axis=0).reset_index().rename(columns={'index':'Category', 0:'n'})\n",
    "    df_results.loc[5] = ['Unclassified', df[df.columns[16:]].sum(axis=1).value_counts()[0]]\n",
    "    df_results['p'] = (df_results['n']/df_results['n'].sum())*100\n",
    "    return df_results.drop('n', axis=1)"
   ]
  },
  {
   "cell_type": "code",
   "execution_count": 7,
   "metadata": {},
   "outputs": [],
   "source": [
    "df_motcat_wt = generate_motifs_categories(df_bioc.loc[df_bioc['type'] == 'wt']).rename(columns={'p': 'Motif category proportion (WT)'})\n",
    "df_motcat_ko = generate_motifs_categories(df_bioc.loc[df_bioc['type'] == 'ko']).rename(columns={'p': 'Motif category proportion (KO)'})"
   ]
  },
  {
   "cell_type": "code",
   "execution_count": 8,
   "metadata": {},
   "outputs": [],
   "source": [
    "df_motcats = pd.merge(df_motcat_wt, df_motcat_ko, on='Category').set_index('Category')"
   ]
  },
  {
   "cell_type": "code",
   "execution_count": 9,
   "metadata": {},
   "outputs": [
    {
     "data": {
      "image/png": "[encoded data removed]",
      "text/plain": [
       "<Figure size 432x216 with 1 Axes>"
      ]
     },
     "metadata": {
      "needs_background": "light"
     },
     "output_type": "display_data"
    }
   ],
   "source": [
    "df_motcats.plot.bar(rot=45, figsize=(6,3), colormap='Set2')\n",
    "plt.xlabel('')\n",
    "plt.ylabel('[%]')\n",
    "plt.title('Phosphorilated motif (13-mers) categories')\n",
    "plt.savefig('../reports/figures/figure3A.png', bbox_inches='tight', dpi=360)"
   ]
  },
  {
   "cell_type": "code",
   "execution_count": 10,
   "metadata": {},
   "outputs": [
    {
     "data": {
      "text/html": [
       "<div>\n",
       "<style scoped>\n",
       "    .dataframe tbody tr th:only-of-type {\n",
       "        vertical-align: middle;\n",
       "    }\n",
       "\n",
       "    .dataframe tbody tr th {\n",
       "        vertical-align: top;\n",
       "    }\n",
       "\n",
       "    .dataframe thead th {\n",
       "        text-align: right;\n",
       "    }\n",
       "</style>\n",
       "<table border=\"1\" class=\"dataframe\">\n",
       "  <thead>\n",
       "    <tr style=\"text-align: right;\">\n",
       "      <th></th>\n",
       "      <th>Motif category proportion (WT)</th>\n",
       "      <th>Motif category proportion (KO)</th>\n",
       "    </tr>\n",
       "    <tr>\n",
       "      <th>Category</th>\n",
       "      <th></th>\n",
       "      <th></th>\n",
       "    </tr>\n",
       "  </thead>\n",
       "  <tbody>\n",
       "    <tr>\n",
       "      <th>Proline-directed</th>\n",
       "      <td>49.549116</td>\n",
       "      <td>39.639924</td>\n",
       "    </tr>\n",
       "    <tr>\n",
       "      <th>Basic</th>\n",
       "      <td>22.784658</td>\n",
       "      <td>26.405559</td>\n",
       "    </tr>\n",
       "    <tr>\n",
       "      <th>Acidic</th>\n",
       "      <td>20.355898</td>\n",
       "      <td>25.963361</td>\n",
       "    </tr>\n",
       "    <tr>\n",
       "      <th>Hydrophobic</th>\n",
       "      <td>1.863653</td>\n",
       "      <td>2.874289</td>\n",
       "    </tr>\n",
       "    <tr>\n",
       "      <th>Asparagine</th>\n",
       "      <td>1.659252</td>\n",
       "      <td>1.295009</td>\n",
       "    </tr>\n",
       "    <tr>\n",
       "      <th>Unclassified</th>\n",
       "      <td>3.787423</td>\n",
       "      <td>3.821857</td>\n",
       "    </tr>\n",
       "  </tbody>\n",
       "</table>\n",
       "</div>"
      ],
      "text/plain": [
       "                  Motif category proportion (WT)  \\\n",
       "Category                                           \n",
       "Proline-directed                       49.549116   \n",
       "Basic                                  22.784658   \n",
       "Acidic                                 20.355898   \n",
       "Hydrophobic                             1.863653   \n",
       "Asparagine                              1.659252   \n",
       "Unclassified                            3.787423   \n",
       "\n",
       "                  Motif category proportion (KO)  \n",
       "Category                                          \n",
       "Proline-directed                       39.639924  \n",
       "Basic                                  26.405559  \n",
       "Acidic                                 25.963361  \n",
       "Hydrophobic                             2.874289  \n",
       "Asparagine                              1.295009  \n",
       "Unclassified                            3.821857  "
      ]
     },
     "execution_count": 10,
     "metadata": {},
     "output_type": "execute_result"
    }
   ],
   "source": [
    "df_motcats"
   ]
  },
  {
   "cell_type": "markdown",
   "metadata": {},
   "source": [
    "Brief data source explanation."
   ]
  },
  {
   "cell_type": "markdown",
   "metadata": {},
   "source": [
    "# 3. Data Exploration <a class=\"anchor\" id=\"data-exploration\"></a>"
   ]
  },
  {
   "cell_type": "markdown",
   "metadata": {},
   "source": [
    "Descriptive statistics, plots, and figures."
   ]
  },
  {
   "cell_type": "markdown",
   "metadata": {},
   "source": [
    "# 4. Data Preprocessing <a class=\"anchor\" id=\"data-preprocessing\"></a>"
   ]
  },
  {
   "cell_type": "markdown",
   "metadata": {},
   "source": [
    "Once the data has been right understood follow some preprocessing guidelines."
   ]
  },
  {
   "cell_type": "markdown",
   "metadata": {},
   "source": [
    "# 5. Modeling <a class=\"anchor\" id=\"modeling\"></a>"
   ]
  },
  {
   "cell_type": "markdown",
   "metadata": {},
   "source": [
    "Apply a model in necessary"
   ]
  },
  {
   "cell_type": "markdown",
   "metadata": {},
   "source": [
    "# 6. Functions <a class=\"anchor\" id=\"functions\"></a>"
   ]
  },
  {
   "cell_type": "code",
   "execution_count": 10,
   "metadata": {
    "ExecuteTime": {
     "end_time": "2020-04-16T15:57:31.638986Z",
     "start_time": "2020-04-16T15:57:31.621882Z"
    },
    "cell_style": "center"
   },
   "outputs": [],
   "source": [
    "def foo(arg1, arg2, arg3):\n",
    "    return list1"
   ]
  },
  {
   "cell_type": "markdown",
   "metadata": {},
   "source": [
    "# 7. References <a class=\"anchor\" id=\"references\"></a>"
   ]
  },
  {
   "cell_type": "markdown",
   "metadata": {},
   "source": [
    "That's the initial reference for this notebook: https://github.com/dair-ai/data_science_writing_primer/blob/master/Writing_Primer_for_Data_Scientists.ipynb\n",
    "\n",
    "Below, give the reader references to follow properly your work.\n",
    "- Reference 1.\n",
    "- Reference 2."
   ]
  },
  {
   "cell_type": "markdown",
   "metadata": {
    "cell_style": "center"
   },
   "source": [
    "# 8. Project contribution <a class=\"anchor\" id=\"project-contribution\"></a>"
   ]
  },
  {
   "cell_type": "markdown",
   "metadata": {},
   "source": [
    "**Author information**:\n",
    "Fernando Pozo ([@fpozoc](https://gitlab.com/fpozoc))\n",
    "\n",
    "You can find the data driven project jupyter notebook template [here](https://gitlab.com/fpozoc/data-driven-project-template/-/blob/master/notebooks/1.0-nb_template.ipynb)."
   ]
  }
 ],
 "metadata": {
  "kernelspec": {
   "display_name": "Python 3",
   "language": "python",
   "name": "python3"
  },
  "language_info": {
   "codemirror_mode": {
    "name": "ipython",
    "version": 3
   },
   "file_extension": ".py",
   "mimetype": "text/x-python",
   "name": "python",
   "nbconvert_exporter": "python",
   "pygments_lexer": "ipython3",
   "version": "3.7.7"
  },
  "varInspector": {
   "cols": {
    "lenName": 16,
    "lenType": 16,
    "lenVar": 40
   },
   "kernels_config": {
    "python": {
     "delete_cmd_postfix": "",
     "delete_cmd_prefix": "del ",
     "library": "var_list.py",
     "varRefreshCmd": "print(var_dic_list())"
    },
    "r": {
     "delete_cmd_postfix": ") ",
     "delete_cmd_prefix": "rm(",
     "library": "var_list.r",
     "varRefreshCmd": "cat(var_dic_list()) "
    }
   },
   "types_to_exclude": [
    "module",
    "function",
    "builtin_function_or_method",
    "instance",
    "_Feature"
   ],
   "window_display": false
  }
 },
 "nbformat": 4,
 "nbformat_minor": 4
}
