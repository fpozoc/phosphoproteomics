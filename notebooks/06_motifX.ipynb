{
 "cells": [
  {
   "cell_type": "markdown",
   "metadata": {},
   "source": [
    "# PO-4"
   ]
  },
  {
   "cell_type": "markdown",
   "metadata": {},
   "source": [
    "Section 6. Identification of new motifs with MotifX "
   ]
  },
  {
   "cell_type": "markdown",
   "metadata": {},
   "source": [
    "## Table of Contents <a class=\"anchor\" id=\"table-of-contents\"></a>"
   ]
  },
  {
   "cell_type": "markdown",
   "metadata": {},
   "source": [
    "* [1. Introduction](#introduction)        \n",
    " \n",
    "* [2. Loading foreground and background motifs](#data-loading)    \n",
    "\n",
    "* [3. MotifX analysis](#motifx)\n",
    "    * [3.1 Serine 13-mers](#serine)\n",
    "    * [3.2 Threonine 13-mers](#threonine)\n",
    "    * [3.3 Tyrosine 13-mers](#tyrosine)"
   ]
  },
  {
   "cell_type": "markdown",
   "metadata": {},
   "source": [
    "# 1. Introduction <a class=\"anchor\" id=\"introduction\"></a>"
   ]
  },
  {
   "cell_type": "markdown",
   "metadata": {},
   "source": [
    "https://motif-x.med.harvard.edu/faq.html is not running now. \n",
    "\n",
    "Therefore we have used the R package implemented in https://github.com/omarwagih/rmotifx"
   ]
  },
  {
   "cell_type": "code",
   "execution_count": 6,
   "metadata": {},
   "outputs": [
    {
     "name": "stderr",
     "output_type": "stream",
     "text": [
      "Installing package into ‘/home/fpozoc/R/x86_64-pc-linux-gnu-library/3.6’\n",
      "(as ‘lib’ is unspecified)\n",
      "\n",
      "also installing the dependencies ‘xml2’, ‘roxygen2’, ‘rversions’\n",
      "\n",
      "\n",
      "Loading required package: devtools\n",
      "\n",
      "Loading required package: usethis\n",
      "\n"
     ]
    }
   ],
   "source": [
    "install.packages('devtools')\n",
    "require(devtools)\n",
    "\n",
    "install_github('omarwagih/rmotifx')\n",
    "require(rmotifx)"
   ]
  },
  {
   "cell_type": "code",
   "execution_count": 34,
   "metadata": {},
   "outputs": [
    {
     "data": {
      "text/html": [
       "\n",
       "<table width=\"100%\" summary=\"page for motifx {rmotifx}\"><tr><td>motifx {rmotifx}</td><td style=\"text-align: right;\">R Documentation</td></tr></table>\n",
       "\n",
       "<h2>Find overrepresented sequence motifs</h2>\n",
       "\n",
       "<h3>Description</h3>\n",
       "\n",
       "<p>Find overrepresented sequence motifs\n",
       "</p>\n",
       "\n",
       "\n",
       "<h3>Usage</h3>\n",
       "\n",
       "<pre>\n",
       "motifx(fg.seqs, bg.seqs, central.res = \"ST\", min.seqs = 20,\n",
       "  pval.cutoff = 1e-06, verbose = F, perl.impl = F)\n",
       "</pre>\n",
       "\n",
       "\n",
       "<h3>Arguments</h3>\n",
       "\n",
       "<table summary=\"R argblock\">\n",
       "<tr valign=\"top\"><td><code>fg.seqs</code></td>\n",
       "<td>\n",
       "<p>Foreground k-mer sequences in a\n",
       "pre-aligned format. All k-mers must have same lengths.</p>\n",
       "</td></tr>\n",
       "<tr valign=\"top\"><td><code>bg.seqs</code></td>\n",
       "<td>\n",
       "<p>Background k-mer sequences in a\n",
       "pre-aligned format. All k-mers must have same lengths.</p>\n",
       "</td></tr>\n",
       "<tr valign=\"top\"><td><code>central.res</code></td>\n",
       "<td>\n",
       "<p>Central amino acid of the k-mer.\n",
       "Sequences without this amino acid in the centre position\n",
       "are filtered out. This can be one or more letter. For\n",
       "example, 'S', 'ST', 'Y', or 'STY'.</p>\n",
       "</td></tr>\n",
       "<tr valign=\"top\"><td><code>min.seqs</code></td>\n",
       "<td>\n",
       "<p>This threshold refers to the minimum\n",
       "number of times you wish each of your extracted motifs to\n",
       "occur in the data set. An occurrence threshold of 20\n",
       "usually is appropriate, although this parameter may be\n",
       "adjusted to yield more specific or less specific motifs.</p>\n",
       "</td></tr>\n",
       "<tr valign=\"top\"><td><code>pval.cutoff</code></td>\n",
       "<td>\n",
       "<p>The p-value threshold for the binomial\n",
       "probability. This is used for the selection of\n",
       "significant residue/position pairs in the motif. A\n",
       "threshold of 0.000001 is suggested to maintain a low\n",
       "false positive rate in standard protein motif analyses.</p>\n",
       "</td></tr>\n",
       "<tr valign=\"top\"><td><code>verbose</code></td>\n",
       "<td>\n",
       "<p>If true, motifx will show textual details\n",
       "of the steps while running.</p>\n",
       "</td></tr>\n",
       "<tr valign=\"top\"><td><code>perl.impl</code></td>\n",
       "<td>\n",
       "<p>The original implementation of motifx in\n",
       "perl, P-values below 1e-16 cannot be computed and are\n",
       "thus set to zero. Motifx therefore sets any P-values of\n",
       "zero to the minimal P-value of 1e-16. In R, the minimal\n",
       "P-value is much lower (depending on the machine). If this\n",
       "option is set to TRUE, P-values with a value of zero are\n",
       "set to 1e-16, as in perl. Otherwise, the R P-value\n",
       "minimum will be used. For results identical to that of\n",
       "the webserver implementation, set to TRUE.</p>\n",
       "</td></tr>\n",
       "</table>\n",
       "\n",
       "\n",
       "<h3>Value</h3>\n",
       "\n",
       "<p>Data frame with seven columns containing overrepresented\n",
       "motifs. Motifs are listed in the order in which they are\n",
       "extracted by the algorithm, not with regard to statistical\n",
       "significance. Thus it should not be assumed that a motif\n",
       "found at a higher position in the list is more\n",
       "statistically significant than a motif found at a lower\n",
       "position in the list. The columns are as follows:\n",
       "</p>\n",
       " <dl>\n",
       "<dt>motif</dt><dd><p>The overrepresented motif</p>\n",
       "</dd>\n",
       "<dt>score</dt><dd><p>The motif score, which is calculated by taking\n",
       "the sum of the negative log probabilities used to fix each\n",
       "position of the motif. Higher motif scores typically\n",
       "correspond to motifs that are more statistically\n",
       "significant as well as more specific </p>\n",
       "</dd>\n",
       "<dt>fg.matches</dt><dd><p>Frequency of sequences matching this\n",
       "motif in the foreground set</p>\n",
       "</dd> <dt>fg.size</dt><dd><p>Total number of\n",
       "foreground sequences</p>\n",
       "</dd> <dt>bg.matches</dt><dd><p>Frequency of\n",
       "sequences matching this motif in the background set</p>\n",
       "</dd>\n",
       "<dt>bg.size</dt><dd><p>Total number of background sequences</p>\n",
       "</dd>\n",
       "<dt>fold.increase</dt><dd><p>An indicator of the enrichment level\n",
       "of the extracted motifs. Specifically, it is calculated as\n",
       "(foreground matches/foreground size)/(background\n",
       "matches/background size).</p>\n",
       "</dd> </dl>\n",
       "\n",
       "\n",
       "\n",
       "<h3>Examples</h3>\n",
       "\n",
       "<pre>\n",
       "# Get paths to sample files\n",
       "fg.path = system.file(\"extdata\", \"fg-data-ck2.txt\", package=\"rmotifx\")\n",
       "bg.path = system.file(\"extdata\", \"bg-data-serine.txt\", package=\"rmotifx\")\n",
       "\n",
       "# Read in sequences\n",
       "fg.seqs = readLines( fg.path )\n",
       "bg.seqs = readLines( bg.path )\n",
       "\n",
       "# Find overrepresented motifs\n",
       "mot = motifx(fg.seqs, bg.seqs, central.res = 'S', min.seqs = 20, pval.cutoff = 1e-6)\n",
       "\n",
       "# View results\n",
       "head(mot)\n",
       "</pre>\n",
       "\n",
       "<hr /><div style=\"text-align: center;\">[Package <em>rmotifx</em> version 1.0 ]</div>"
      ],
      "text/latex": [
       "\\inputencoding{utf8}\n",
       "\\HeaderA{motifx}{Find overrepresented sequence motifs}{motifx}\n",
       "%\n",
       "\\begin{Description}\\relax\n",
       "Find overrepresented sequence motifs\n",
       "\\end{Description}\n",
       "%\n",
       "\\begin{Usage}\n",
       "\\begin{verbatim}\n",
       "motifx(fg.seqs, bg.seqs, central.res = \"ST\", min.seqs = 20,\n",
       "  pval.cutoff = 1e-06, verbose = F, perl.impl = F)\n",
       "\\end{verbatim}\n",
       "\\end{Usage}\n",
       "%\n",
       "\\begin{Arguments}\n",
       "\\begin{ldescription}\n",
       "\\item[\\code{fg.seqs}] Foreground k-mer sequences in a\n",
       "pre-aligned format. All k-mers must have same lengths.\n",
       "\n",
       "\\item[\\code{bg.seqs}] Background k-mer sequences in a\n",
       "pre-aligned format. All k-mers must have same lengths.\n",
       "\n",
       "\\item[\\code{central.res}] Central amino acid of the k-mer.\n",
       "Sequences without this amino acid in the centre position\n",
       "are filtered out. This can be one or more letter. For\n",
       "example, 'S', 'ST', 'Y', or 'STY'.\n",
       "\n",
       "\\item[\\code{min.seqs}] This threshold refers to the minimum\n",
       "number of times you wish each of your extracted motifs to\n",
       "occur in the data set. An occurrence threshold of 20\n",
       "usually is appropriate, although this parameter may be\n",
       "adjusted to yield more specific or less specific motifs.\n",
       "\n",
       "\\item[\\code{pval.cutoff}] The p-value threshold for the binomial\n",
       "probability. This is used for the selection of\n",
       "significant residue/position pairs in the motif. A\n",
       "threshold of 0.000001 is suggested to maintain a low\n",
       "false positive rate in standard protein motif analyses.\n",
       "\n",
       "\\item[\\code{verbose}] If true, motifx will show textual details\n",
       "of the steps while running.\n",
       "\n",
       "\\item[\\code{perl.impl}] The original implementation of motifx in\n",
       "perl, P-values below 1e-16 cannot be computed and are\n",
       "thus set to zero. Motifx therefore sets any P-values of\n",
       "zero to the minimal P-value of 1e-16. In R, the minimal\n",
       "P-value is much lower (depending on the machine). If this\n",
       "option is set to TRUE, P-values with a value of zero are\n",
       "set to 1e-16, as in perl. Otherwise, the R P-value\n",
       "minimum will be used. For results identical to that of\n",
       "the webserver implementation, set to TRUE.\n",
       "\\end{ldescription}\n",
       "\\end{Arguments}\n",
       "%\n",
       "\\begin{Value}\n",
       "Data frame with seven columns containing overrepresented\n",
       "motifs. Motifs are listed in the order in which they are\n",
       "extracted by the algorithm, not with regard to statistical\n",
       "significance. Thus it should not be assumed that a motif\n",
       "found at a higher position in the list is more\n",
       "statistically significant than a motif found at a lower\n",
       "position in the list. The columns are as follows:\n",
       "\\begin{description}\n",
       " \\item[motif] The overrepresented motif\n",
       "\\item[score] The motif score, which is calculated by taking\n",
       "the sum of the negative log probabilities used to fix each\n",
       "position of the motif. Higher motif scores typically\n",
       "correspond to motifs that are more statistically\n",
       "significant as well as more specific \n",
       "\\item[fg.matches] Frequency of sequences matching this\n",
       "motif in the foreground set\\item[fg.size] Total number of\n",
       "foreground sequences\\item[bg.matches] Frequency of\n",
       "sequences matching this motif in the background set\n",
       "\\item[bg.size] Total number of background sequences\n",
       "\\item[fold.increase] An indicator of the enrichment level\n",
       "of the extracted motifs. Specifically, it is calculated as\n",
       "(foreground matches/foreground size)/(background\n",
       "matches/background size).\n",
       "\\end{description}\n",
       "\n",
       "\\end{Value}\n",
       "%\n",
       "\\begin{Examples}\n",
       "\\begin{ExampleCode}\n",
       "# Get paths to sample files\n",
       "fg.path = system.file(\"extdata\", \"fg-data-ck2.txt\", package=\"rmotifx\")\n",
       "bg.path = system.file(\"extdata\", \"bg-data-serine.txt\", package=\"rmotifx\")\n",
       "\n",
       "# Read in sequences\n",
       "fg.seqs = readLines( fg.path )\n",
       "bg.seqs = readLines( bg.path )\n",
       "\n",
       "# Find overrepresented motifs\n",
       "mot = motifx(fg.seqs, bg.seqs, central.res = 'S', min.seqs = 20, pval.cutoff = 1e-6)\n",
       "\n",
       "# View results\n",
       "head(mot)\n",
       "\\end{ExampleCode}\n",
       "\\end{Examples}"
      ],
      "text/plain": [
       "motifx                 package:rmotifx                 R Documentation\n",
       "\n",
       "_\bF_\bi_\bn_\bd _\bo_\bv_\be_\br_\br_\be_\bp_\br_\be_\bs_\be_\bn_\bt_\be_\bd _\bs_\be_\bq_\bu_\be_\bn_\bc_\be _\bm_\bo_\bt_\bi_\bf_\bs\n",
       "\n",
       "_\bD_\be_\bs_\bc_\br_\bi_\bp_\bt_\bi_\bo_\bn:\n",
       "\n",
       "     Find overrepresented sequence motifs\n",
       "\n",
       "_\bU_\bs_\ba_\bg_\be:\n",
       "\n",
       "     motifx(fg.seqs, bg.seqs, central.res = \"ST\", min.seqs = 20,\n",
       "       pval.cutoff = 1e-06, verbose = F, perl.impl = F)\n",
       "     \n",
       "_\bA_\br_\bg_\bu_\bm_\be_\bn_\bt_\bs:\n",
       "\n",
       " fg.seqs: Foreground k-mer sequences in a pre-aligned format. All\n",
       "          k-mers must have same lengths.\n",
       "\n",
       " bg.seqs: Background k-mer sequences in a pre-aligned format. All\n",
       "          k-mers must have same lengths.\n",
       "\n",
       "central.res: Central amino acid of the k-mer.  Sequences without this\n",
       "          amino acid in the centre position are filtered out. This can\n",
       "          be one or more letter. For example, 'S', 'ST', 'Y', or 'STY'.\n",
       "\n",
       "min.seqs: This threshold refers to the minimum number of times you wish\n",
       "          each of your extracted motifs to occur in the data set. An\n",
       "          occurrence threshold of 20 usually is appropriate, although\n",
       "          this parameter may be adjusted to yield more specific or less\n",
       "          specific motifs.\n",
       "\n",
       "pval.cutoff: The p-value threshold for the binomial probability. This\n",
       "          is used for the selection of significant residue/position\n",
       "          pairs in the motif. A threshold of 0.000001 is suggested to\n",
       "          maintain a low false positive rate in standard protein motif\n",
       "          analyses.\n",
       "\n",
       " verbose: If true, motifx will show textual details of the steps while\n",
       "          running.\n",
       "\n",
       "perl.impl: The original implementation of motifx in perl, P-values\n",
       "          below 1e-16 cannot be computed and are thus set to zero.\n",
       "          Motifx therefore sets any P-values of zero to the minimal\n",
       "          P-value of 1e-16. In R, the minimal P-value is much lower\n",
       "          (depending on the machine). If this option is set to TRUE,\n",
       "          P-values with a value of zero are set to 1e-16, as in perl.\n",
       "          Otherwise, the R P-value minimum will be used. For results\n",
       "          identical to that of the webserver implementation, set to\n",
       "          TRUE.\n",
       "\n",
       "_\bV_\ba_\bl_\bu_\be:\n",
       "\n",
       "     Data frame with seven columns containing overrepresented motifs.\n",
       "     Motifs are listed in the order in which they are extracted by the\n",
       "     algorithm, not with regard to statistical significance. Thus it\n",
       "     should not be assumed that a motif found at a higher position in\n",
       "     the list is more statistically significant than a motif found at a\n",
       "     lower position in the list. The columns are as follows:\n",
       "\n",
       "     motif The overrepresented motif\n",
       "\n",
       "     score The motif score, which is calculated by taking the sum of\n",
       "          the negative log probabilities used to fix each position of\n",
       "          the motif. Higher motif scores typically correspond to motifs\n",
       "          that are more statistically significant as well as more\n",
       "          specific\n",
       "\n",
       "     fg.matches Frequency of sequences matching this motif in the\n",
       "          foreground set\n",
       "\n",
       "     fg.size Total number of foreground sequences\n",
       "\n",
       "     bg.matches Frequency of sequences matching this motif in the\n",
       "          background set\n",
       "\n",
       "     bg.size Total number of background sequences\n",
       "\n",
       "     fold.increase An indicator of the enrichment level of the\n",
       "          extracted motifs. Specifically, it is calculated as\n",
       "          (foreground matches/foreground size)/(background\n",
       "          matches/background size).\n",
       "\n",
       "_\bE_\bx_\ba_\bm_\bp_\bl_\be_\bs:\n",
       "\n",
       "     # Get paths to sample files\n",
       "     fg.path = system.file(\"extdata\", \"fg-data-ck2.txt\", package=\"rmotifx\")\n",
       "     bg.path = system.file(\"extdata\", \"bg-data-serine.txt\", package=\"rmotifx\")\n",
       "     \n",
       "     # Read in sequences\n",
       "     fg.seqs = readLines( fg.path )\n",
       "     bg.seqs = readLines( bg.path )\n",
       "     \n",
       "     # Find overrepresented motifs\n",
       "     mot = motifx(fg.seqs, bg.seqs, central.res = 'S', min.seqs = 20, pval.cutoff = 1e-6)\n",
       "     \n",
       "     # View results\n",
       "     head(mot)\n",
       "     "
      ]
     },
     "metadata": {},
     "output_type": "display_data"
    }
   ],
   "source": [
    "?motifx"
   ]
  },
  {
   "cell_type": "markdown",
   "metadata": {},
   "source": [
    "# 2. Loading foreground and background motifs <a class=\"anchor\" id=\"data-loading\"></a>"
   ]
  },
  {
   "cell_type": "code",
   "execution_count": null,
   "metadata": {},
   "outputs": [],
   "source": [
    "fgs.seqs <- readLines('../data/interim/serine_fg.tsv')\n",
    "bgs.seqs <- readLines('../data/interim/serine_bg.tsv')\n",
    "serines_mot = motifx(fgs.seqs, bgs.seqs, central.res = 'S', min.seqs = 5, pval.cutoff = 1e-3)\n",
    "\n",
    "fgt.seqs <- readLines('../data/interim/threonine_fg.tsv')\n",
    "bgt.seqs <- readLines('../data/interim/threonine_bg.tsv')\n",
    "threonine_mot = motifx(fgt.seqs, bgt.seqs, central.res = 'T', min.seqs = 5, pval.cutoff = 1e-3)\n",
    "\n",
    "fgy.seqs <- readLines('../data/interim/tyrosine_fg.tsv')\n",
    "bgy.seqs <- readLines('../data/interim/tyrosine_bg.tsv')\n",
    "tyrosine_mot = motifx(fgy.seqs, bgy.seqs, central.res = 'Y', min.seqs = 5, pval.cutoff = 1e-3)"
   ]
  },
  {
   "cell_type": "markdown",
   "metadata": {},
   "source": [
    "# 3. MotifX analysis <a class=\"anchor\" id=\"motifx\"></a>"
   ]
  },
  {
   "cell_type": "markdown",
   "metadata": {},
   "source": [
    "## 3.1 Serine 13-mers <a class=\"anchor\" id=\"serine\"></a>"
   ]
  },
  {
   "cell_type": "code",
   "execution_count": 64,
   "metadata": {},
   "outputs": [
    {
     "data": {
      "text/html": [
       "194"
      ],
      "text/latex": [
       "194"
      ],
      "text/markdown": [
       "194"
      ],
      "text/plain": [
       "[1] 194"
      ]
     },
     "metadata": {},
     "output_type": "display_data"
    },
    {
     "data": {
      "text/html": [
       "<style>\n",
       ".list-inline {list-style: none; margin:0; padding: 0}\n",
       ".list-inline>li {display: inline-block}\n",
       ".list-inline>li:not(:last-child)::after {content: \"\\00b7\"; padding: 0 .5ex}\n",
       "</style>\n",
       "<ol class=list-inline><li>'SERTEHSHSPGDS'</li><li>'KWPLYMSTKNTIL'</li><li>'EDKLTVSRARKIQ'</li><li>'KSREYASLRTLWI'</li><li>'FFQKLQSTSIKLA'</li><li>'KLALSPSPRNPAE'</li></ol>\n"
      ],
      "text/latex": [
       "\\begin{enumerate*}\n",
       "\\item 'SERTEHSHSPGDS'\n",
       "\\item 'KWPLYMSTKNTIL'\n",
       "\\item 'EDKLTVSRARKIQ'\n",
       "\\item 'KSREYASLRTLWI'\n",
       "\\item 'FFQKLQSTSIKLA'\n",
       "\\item 'KLALSPSPRNPAE'\n",
       "\\end{enumerate*}\n"
      ],
      "text/markdown": [
       "1. 'SERTEHSHSPGDS'\n",
       "2. 'KWPLYMSTKNTIL'\n",
       "3. 'EDKLTVSRARKIQ'\n",
       "4. 'KSREYASLRTLWI'\n",
       "5. 'FFQKLQSTSIKLA'\n",
       "6. 'KLALSPSPRNPAE'\n",
       "\n",
       "\n"
      ],
      "text/plain": [
       "[1] \"SERTEHSHSPGDS\" \"KWPLYMSTKNTIL\" \"EDKLTVSRARKIQ\" \"KSREYASLRTLWI\"\n",
       "[5] \"FFQKLQSTSIKLA\" \"KLALSPSPRNPAE\""
      ]
     },
     "metadata": {},
     "output_type": "display_data"
    },
    {
     "data": {
      "text/html": [
       "1953952"
      ],
      "text/latex": [
       "1953952"
      ],
      "text/markdown": [
       "1953952"
      ],
      "text/plain": [
       "[1] 1953952"
      ]
     },
     "metadata": {},
     "output_type": "display_data"
    },
    {
     "data": {
      "text/html": [
       "<style>\n",
       ".list-inline {list-style: none; margin:0; padding: 0}\n",
       ".list-inline>li {display: inline-block}\n",
       ".list-inline>li:not(:last-child)::after {content: \"\\00b7\"; padding: 0 .5ex}\n",
       "</style>\n",
       "<ol class=list-inline><li>'NKLCLVSMDFCFP'</li><li>'FPLDFVSNVFWIF'</li><li>'VFWIFASKFIIVT'</li><li>'ADFKRTSWEAKAE'</li><li>'EAKAEGSLEPGRL'</li><li>'LKLQLASIVPLYS'</li></ol>\n"
      ],
      "text/latex": [
       "\\begin{enumerate*}\n",
       "\\item 'NKLCLVSMDFCFP'\n",
       "\\item 'FPLDFVSNVFWIF'\n",
       "\\item 'VFWIFASKFIIVT'\n",
       "\\item 'ADFKRTSWEAKAE'\n",
       "\\item 'EAKAEGSLEPGRL'\n",
       "\\item 'LKLQLASIVPLYS'\n",
       "\\end{enumerate*}\n"
      ],
      "text/markdown": [
       "1. 'NKLCLVSMDFCFP'\n",
       "2. 'FPLDFVSNVFWIF'\n",
       "3. 'VFWIFASKFIIVT'\n",
       "4. 'ADFKRTSWEAKAE'\n",
       "5. 'EAKAEGSLEPGRL'\n",
       "6. 'LKLQLASIVPLYS'\n",
       "\n",
       "\n"
      ],
      "text/plain": [
       "[1] \"NKLCLVSMDFCFP\" \"FPLDFVSNVFWIF\" \"VFWIFASKFIIVT\" \"ADFKRTSWEAKAE\"\n",
       "[5] \"EAKAEGSLEPGRL\" \"LKLQLASIVPLYS\""
      ]
     },
     "metadata": {},
     "output_type": "display_data"
    },
    {
     "name": "stdout",
     "output_type": "stream",
     "text": [
      "           motif      score fg.matches fg.size bg.matches bg.size fold.increase\n",
      "1  ...R..S..R... 311.162272         13     193       4661  966145     13.962052\n",
      "2  ...R..S.R....  18.033902         10     180       3257  961484     16.400300\n",
      "3  ...KR.S......  13.586304          8     170       3047  958227     14.799158\n",
      "4  ...R..S......   9.535834         31     162      49434  955180      3.697483\n",
      "5  ...K..S......   8.090317         26     131      48927  905746      3.674175\n",
      "6  ..R...S......   6.883476         21     105      45319  856819      3.781279\n",
      "7  ..K...S......   5.031718         16      84      43610  811500      3.544403\n",
      "8  ......S.K....   3.563239         11      68      35484  767890      3.500662\n",
      "9  ....R.S......   3.268379         10      57      37125  732406      3.461072\n",
      "10 .....KS......   3.165409          8      47      29088  695281      4.068540\n"
     ]
    }
   ],
   "source": [
    "length(fgs.seqs)\n",
    "head(fgs.seqs)\n",
    "length(bgs.seqs)\n",
    "head(bgs.seqs)\n",
    "\n",
    "print(serines_mot)"
   ]
  },
  {
   "cell_type": "markdown",
   "metadata": {},
   "source": [
    "## 3.2 Threonine 13-mers <a class=\"anchor\" id=\"threonine\"></a>"
   ]
  },
  {
   "cell_type": "code",
   "execution_count": 65,
   "metadata": {},
   "outputs": [
    {
     "data": {
      "text/html": [
       "79"
      ],
      "text/latex": [
       "79"
      ],
      "text/markdown": [
       "79"
      ],
      "text/plain": [
       "[1] 79"
      ]
     },
     "metadata": {},
     "output_type": "display_data"
    },
    {
     "data": {
      "text/html": [
       "<style>\n",
       ".list-inline {list-style: none; margin:0; padding: 0}\n",
       ".list-inline>li {display: inline-block}\n",
       ".list-inline>li:not(:last-child)::after {content: \"\\00b7\"; padding: 0 .5ex}\n",
       "</style>\n",
       "<ol class=list-inline><li>'QRTLSTTGEALYE'</li><li>'QNRREATVERTRT'</li><li>'IPTRSSTLETTKS'</li><li>'LSLALKTGPTSGL'</li><li>'KKDAVLTKCFHVF'</li><li>'KKKLKETLAKVPP'</li></ol>\n"
      ],
      "text/latex": [
       "\\begin{enumerate*}\n",
       "\\item 'QRTLSTTGEALYE'\n",
       "\\item 'QNRREATVERTRT'\n",
       "\\item 'IPTRSSTLETTKS'\n",
       "\\item 'LSLALKTGPTSGL'\n",
       "\\item 'KKDAVLTKCFHVF'\n",
       "\\item 'KKKLKETLAKVPP'\n",
       "\\end{enumerate*}\n"
      ],
      "text/markdown": [
       "1. 'QRTLSTTGEALYE'\n",
       "2. 'QNRREATVERTRT'\n",
       "3. 'IPTRSSTLETTKS'\n",
       "4. 'LSLALKTGPTSGL'\n",
       "5. 'KKDAVLTKCFHVF'\n",
       "6. 'KKKLKETLAKVPP'\n",
       "\n",
       "\n"
      ],
      "text/plain": [
       "[1] \"QRTLSTTGEALYE\" \"QNRREATVERTRT\" \"IPTRSSTLETTKS\" \"LSLALKTGPTSGL\"\n",
       "[5] \"KKDAVLTKCFHVF\" \"KKKLKETLAKVPP\""
      ]
     },
     "metadata": {},
     "output_type": "display_data"
    },
    {
     "data": {
      "text/html": [
       "1278034"
      ],
      "text/latex": [
       "1278034"
      ],
      "text/markdown": [
       "1278034"
      ],
      "text/plain": [
       "[1] 1278034"
      ]
     },
     "metadata": {},
     "output_type": "display_data"
    },
    {
     "data": {
      "text/html": [
       "<style>\n",
       ".list-inline {list-style: none; margin:0; padding: 0}\n",
       ".list-inline>li {display: inline-block}\n",
       ".list-inline>li:not(:last-child)::after {content: \"\\00b7\"; padding: 0 .5ex}\n",
       "</style>\n",
       "<ol class=list-inline><li>'SKFIIVTGQIKAD'</li><li>'KADFKRTSWEAKA'</li><li>'LYSSLVTAGPASK'</li><li>'IIILKRTSLPTVS'</li><li>'KRTSLPTVSPSNE'</li><li>'LPPVSFTDLAHVF'</li></ol>\n"
      ],
      "text/latex": [
       "\\begin{enumerate*}\n",
       "\\item 'SKFIIVTGQIKAD'\n",
       "\\item 'KADFKRTSWEAKA'\n",
       "\\item 'LYSSLVTAGPASK'\n",
       "\\item 'IIILKRTSLPTVS'\n",
       "\\item 'KRTSLPTVSPSNE'\n",
       "\\item 'LPPVSFTDLAHVF'\n",
       "\\end{enumerate*}\n"
      ],
      "text/markdown": [
       "1. 'SKFIIVTGQIKAD'\n",
       "2. 'KADFKRTSWEAKA'\n",
       "3. 'LYSSLVTAGPASK'\n",
       "4. 'IIILKRTSLPTVS'\n",
       "5. 'KRTSLPTVSPSNE'\n",
       "6. 'LPPVSFTDLAHVF'\n",
       "\n",
       "\n"
      ],
      "text/plain": [
       "[1] \"SKFIIVTGQIKAD\" \"KADFKRTSWEAKA\" \"LYSSLVTAGPASK\" \"IIILKRTSLPTVS\"\n",
       "[5] \"KRTSLPTVSPSNE\" \"LPPVSFTDLAHVF\""
      ]
     },
     "metadata": {},
     "output_type": "display_data"
    },
    {
     "name": "stdout",
     "output_type": "stream",
     "text": [
      "          motif    score fg.matches fg.size bg.matches bg.size fold.increase\n",
      "1 ...R..T...... 6.780338         18      79      32848  610116      4.232032\n",
      "2 .K....T...... 4.781181         13      61      30800  577268      3.994296\n",
      "3 ..R...T...... 3.115042          9      48      28597  546468      3.582989\n"
     ]
    }
   ],
   "source": [
    "length(fgt.seqs)\n",
    "head(fgt.seqs)\n",
    "length(bgt.seqs)\n",
    "head(bgt.seqs)\n",
    "\n",
    "print(threonine_mot)"
   ]
  },
  {
   "cell_type": "markdown",
   "metadata": {},
   "source": [
    "## 3.3 Tyrosine 13-mers <a class=\"anchor\" id=\"tyrosine\"></a>"
   ]
  },
  {
   "cell_type": "code",
   "execution_count": 66,
   "metadata": {},
   "outputs": [
    {
     "data": {
      "text/html": [
       "6"
      ],
      "text/latex": [
       "6"
      ],
      "text/markdown": [
       "6"
      ],
      "text/plain": [
       "[1] 6"
      ]
     },
     "metadata": {},
     "output_type": "display_data"
    },
    {
     "data": {
      "text/html": [
       "<style>\n",
       ".list-inline {list-style: none; margin:0; padding: 0}\n",
       ".list-inline>li {display: inline-block}\n",
       ".list-inline>li:not(:last-child)::after {content: \"\\00b7\"; padding: 0 .5ex}\n",
       "</style>\n",
       "<ol class=list-inline><li>'KWTHDKYQGDGIV'</li><li>'PAEFIYYCVDEDE'</li><li>'IPPPPSYNPNPAA'</li><li>'YQDRLAYLRSHKD'</li><li>'EKPSENYHQDPKL'</li><li>'DKKVGTYVEVDMF'</li></ol>\n"
      ],
      "text/latex": [
       "\\begin{enumerate*}\n",
       "\\item 'KWTHDKYQGDGIV'\n",
       "\\item 'PAEFIYYCVDEDE'\n",
       "\\item 'IPPPPSYNPNPAA'\n",
       "\\item 'YQDRLAYLRSHKD'\n",
       "\\item 'EKPSENYHQDPKL'\n",
       "\\item 'DKKVGTYVEVDMF'\n",
       "\\end{enumerate*}\n"
      ],
      "text/markdown": [
       "1. 'KWTHDKYQGDGIV'\n",
       "2. 'PAEFIYYCVDEDE'\n",
       "3. 'IPPPPSYNPNPAA'\n",
       "4. 'YQDRLAYLRSHKD'\n",
       "5. 'EKPSENYHQDPKL'\n",
       "6. 'DKKVGTYVEVDMF'\n",
       "\n",
       "\n"
      ],
      "text/plain": [
       "[1] \"KWTHDKYQGDGIV\" \"PAEFIYYCVDEDE\" \"IPPPPSYNPNPAA\" \"YQDRLAYLRSHKD\"\n",
       "[5] \"EKPSENYHQDPKL\" \"DKKVGTYVEVDMF\""
      ]
     },
     "metadata": {},
     "output_type": "display_data"
    },
    {
     "data": {
      "text/html": [
       "610964"
      ],
      "text/latex": [
       "610964"
      ],
      "text/markdown": [
       "610964"
      ],
      "text/plain": [
       "[1] 610964"
      ]
     },
     "metadata": {},
     "output_type": "display_data"
    },
    {
     "data": {
      "text/html": [
       "<style>\n",
       ".list-inline {list-style: none; margin:0; padding: 0}\n",
       ".list-inline>li {display: inline-block}\n",
       ".list-inline>li:not(:last-child)::after {content: \"\\00b7\"; padding: 0 .5ex}\n",
       "</style>\n",
       "<ol class=list-inline><li>'ASIVPLYSSLVTA'</li><li>'PSNERAYLPPVSF'</li><li>'DLAHVFYLSYFSI'</li><li>'HVFYLSYFSINAK'</li><li>'WITGPRYHLILLS'</li><li>'SCLRANYVHLCPL'</li></ol>\n"
      ],
      "text/latex": [
       "\\begin{enumerate*}\n",
       "\\item 'ASIVPLYSSLVTA'\n",
       "\\item 'PSNERAYLPPVSF'\n",
       "\\item 'DLAHVFYLSYFSI'\n",
       "\\item 'HVFYLSYFSINAK'\n",
       "\\item 'WITGPRYHLILLS'\n",
       "\\item 'SCLRANYVHLCPL'\n",
       "\\end{enumerate*}\n"
      ],
      "text/markdown": [
       "1. 'ASIVPLYSSLVTA'\n",
       "2. 'PSNERAYLPPVSF'\n",
       "3. 'DLAHVFYLSYFSI'\n",
       "4. 'HVFYLSYFSINAK'\n",
       "5. 'WITGPRYHLILLS'\n",
       "6. 'SCLRANYVHLCPL'\n",
       "\n",
       "\n"
      ],
      "text/plain": [
       "[1] \"ASIVPLYSSLVTA\" \"PSNERAYLPPVSF\" \"DLAHVFYLSYFSI\" \"HVFYLSYFSINAK\"\n",
       "[5] \"WITGPRYHLILLS\" \"SCLRANYVHLCPL\""
      ]
     },
     "metadata": {},
     "output_type": "display_data"
    },
    {
     "name": "stdout",
     "output_type": "stream",
     "text": [
      "NULL\n"
     ]
    }
   ],
   "source": [
    "length(fgy.seqs)\n",
    "head(fgy.seqs)\n",
    "length(bgy.seqs)\n",
    "head(bgy.seqs)\n",
    "\n",
    "print(tyrosine_mot)"
   ]
  }
 ],
 "metadata": {
  "kernelspec": {
   "display_name": "R",
   "language": "R",
   "name": "ir"
  },
  "language_info": {
   "codemirror_mode": "r",
   "file_extension": ".r",
   "mimetype": "text/x-r-source",
   "name": "R",
   "pygments_lexer": "r",
   "version": "3.6.3"
  }
 },
 "nbformat": 4,
 "nbformat_minor": 4
}
